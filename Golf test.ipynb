{
 "cells": [
  {
   "cell_type": "code",
   "execution_count": 1,
   "metadata": {},
   "outputs": [],
   "source": [
    "import pandas as pd\n",
    "import streamlit as st\n",
    "import plotly.express as px\n",
    "\n",
    "# TO RUN THIS, USE TERMINAL\n",
    "# streamlit run e:\\iCloudDrive\\Drop\\Python_dropbox\\Python\\2024\\Streamlit_Template_2.py\n",
    "# Turn on 'Always re-run' option on your app (in the web browser), then every time you save code changes, they'll automatically show in the app\n",
    "\n",
    "# File and folder path\n",
    "fol = 'C:/Users/dmomb/OneDrive/Documents/Golf/'\n",
    "fn = 'FS_Golf_DB.xlsx'\n",
    "df = pd.read_excel(fol+fn)\n",
    "# Cleaning the column names\n",
    "df.columns = df.columns.str.replace(r'[^\\w\\s]', '', regex=True).str.strip().str.replace(' ', '_')\n",
    "#df.columns = df.columns.str.strip().str.replace('\\xa0', ' ', regex=True)    #  Some weird characters in the column names\n",
    "# Cleaning column names again to remove non-breaking spaces\n",
    "#df.columns = df.columns.str.replace('\\xa0', ' ').str.replace(r'[^\\w\\s]', '', regex=True).str.strip().str.replace(' ', '_')\n",
    "df.columns = df.columns.str.replace('\\xa0', ' ').str.replace(r'[^\\w\\s]', '', regex=True).str.strip().str.replace(' ', ' ')\n",
    "\n",
    "# Convert Time to strings\n",
    "df['Session'] = df['Time'].dt.strftime('%Y %b %d %I:%M %p')  # Or any simpler string representation\n",
    "\n",
    "# Ensure Session is treated as categorical\n",
    "df['Session'] = df['Session'].astype('category')"
   ]
  },
  {
   "cell_type": "code",
   "execution_count": 2,
   "metadata": {},
   "outputs": [],
   "source": [
    "dfall = df.copy()"
   ]
  },
  {
   "cell_type": "code",
   "execution_count": 3,
   "metadata": {},
   "outputs": [],
   "source": [
    "# Function to convert values\n",
    "# Lateral yards are given as Left or Right of the center line.  We need plus/minus to plot\n",
    "def convert_lateral(value):\n",
    "    if isinstance(value, str):  # Check if the value is a string\n",
    "        # Split into numeric and direction\n",
    "        number, direction = value.split()\n",
    "        number = float(number)  # Convert to float\n",
    "    return -number if direction == 'R' else number\n",
    "\n",
    "# Apply the function to the 'Lateral (yds)' column\n",
    "df['Lateral yds'] = df['Lateral yds'].apply(convert_lateral)"
   ]
  },
  {
   "cell_type": "code",
   "execution_count": 4,
   "metadata": {},
   "outputs": [
    {
     "data": {
      "text/plain": [
       "Index(['Mombo_ShotID', 'Club', 'Time', 'Golfer', 'Shot', 'Video', 'Ball mph',\n",
       "       'Club mph', 'Smash_Factor', 'Carry yds', 'Total yds', 'Roll yds',\n",
       "       'Swing H', 'Spin rpm', 'Height ft', 'Time s', 'AOA', 'Spin Loft',\n",
       "       'Swing V', 'Spin Axis', 'Lateral yds', 'Shot Type', 'FTP', 'FTT',\n",
       "       'Dynamic Loft', 'Club Path', 'Launch H', 'Launch V', 'Low Point ftin',\n",
       "       'DescentV', 'Curve Dist yds', 'Lateral Impact in', 'Vertical Impact in',\n",
       "       'Mode', 'Location', 'Unnamed_35', 'Unnamed_36', 'Unnamed_37',\n",
       "       'Unnamed_38', 'Unnamed_39', 'Unnamed_40', 'Comment', 'User1', 'User2',\n",
       "       'Exclude', 'Session'],\n",
       "      dtype='object')"
      ]
     },
     "execution_count": 4,
     "metadata": {},
     "output_type": "execute_result"
    }
   ],
   "source": [
    "df.columns"
   ]
  },
  {
   "cell_type": "code",
   "execution_count": 44,
   "metadata": {},
   "outputs": [
    {
     "data": {
      "text/plain": [
       "Timestamp('2024-11-03 14:56:00')"
      ]
     },
     "execution_count": 44,
     "metadata": {},
     "output_type": "execute_result"
    }
   ],
   "source": [
    "df.Time[19]"
   ]
  },
  {
   "cell_type": "code",
   "execution_count": 45,
   "metadata": {},
   "outputs": [],
   "source": [
    "\n",
    "\n",
    "# col = 'Club'\n",
    "# golfer_choices = df[col].unique()    \n",
    "# search_category = \"7 Iron\" #st.sidebar.selectbox('Select Golfer:',golfer_choices)\n",
    "# df = df [ df[col] == search_category ] "
   ]
  },
  {
   "cell_type": "code",
   "execution_count": 46,
   "metadata": {},
   "outputs": [],
   "source": [
    "def return_filtered_df(df,col,search_term):\n",
    "    choices = ['All']+df[col].unique().tolist()    \n",
    "    if search_term!= \"All\":\n",
    "        df = df[df[col] == search_term].copy()\n",
    "    return df"
   ]
  },
  {
   "cell_type": "code",
   "execution_count": null,
   "metadata": {},
   "outputs": [],
   "source": [
    "search_term = 'All' \n",
    "dfset =  return_filtered_df(dfall,'Time',search_term)\n",
    "search_term = 'All' \n",
    "dfset =  return_filtered_df(dfset,'Golfer',search_term)\n",
    "search_term = \"7 Iron\" \n",
    "dfset =  return_filtered_df(dfset,'Club',search_term)"
   ]
  },
  {
   "cell_type": "code",
   "execution_count": 48,
   "metadata": {},
   "outputs": [
    {
     "data": {
      "text/plain": [
       "Index(['Mombo_ShotID', 'Club', 'Time', 'Golfer', 'Shot', 'Video', 'Ball mph',\n",
       "       'Club mph', 'Smash_Factor', 'Carry yds', 'Total yds', 'Roll yds',\n",
       "       'Swing H', 'Spin rpm', 'Height ft', 'Time s', 'AOA', 'Spin Loft',\n",
       "       'Swing V', 'Spin Axis', 'Lateral yds', 'Shot Type', 'FTP', 'FTT',\n",
       "       'Dynamic Loft', 'Club Path', 'Launch H', 'Launch V', 'Low Point ftin',\n",
       "       'DescentV', 'Curve Dist yds', 'Lateral Impact in', 'Vertical Impact in',\n",
       "       'Mode', 'Location', 'Unnamed_35', 'Unnamed_36', 'Unnamed_37',\n",
       "       'Unnamed_38', 'Unnamed_39', 'Unnamed_40', 'Comment', 'User1', 'User2',\n",
       "       'Exclude', 'Session'],\n",
       "      dtype='object')"
      ]
     },
     "execution_count": 48,
     "metadata": {},
     "output_type": "execute_result"
    }
   ],
   "source": [
    "df.columns"
   ]
  },
  {
   "cell_type": "code",
   "execution_count": 49,
   "metadata": {},
   "outputs": [],
   "source": [
    "#df\n"
   ]
  },
  {
   "cell_type": "code",
   "execution_count": 50,
   "metadata": {},
   "outputs": [
    {
     "data": {
      "text/plain": [
       "Index(['Mombo_ShotID', 'Club', 'Time', 'Golfer', 'Shot', 'Video', 'Ball mph',\n",
       "       'Club mph', 'Smash_Factor', 'Carry yds', 'Total yds', 'Roll yds',\n",
       "       'Swing H', 'Spin rpm', 'Height ft', 'Time s', 'AOA', 'Spin Loft',\n",
       "       'Swing V', 'Spin Axis', 'Lateral yds', 'Shot Type', 'FTP', 'FTT',\n",
       "       'Dynamic Loft', 'Club Path', 'Launch H', 'Launch V', 'Low Point ftin',\n",
       "       'DescentV', 'Curve Dist yds', 'Lateral Impact in', 'Vertical Impact in',\n",
       "       'Mode', 'Location', 'Unnamed_35', 'Unnamed_36', 'Unnamed_37',\n",
       "       'Unnamed_38', 'Unnamed_39', 'Unnamed_40', 'Comment', 'User1', 'User2',\n",
       "       'Exclude', 'Session'],\n",
       "      dtype='object')"
      ]
     },
     "execution_count": 50,
     "metadata": {},
     "output_type": "execute_result"
    }
   ],
   "source": [
    "df.columns"
   ]
  },
  {
   "cell_type": "code",
   "execution_count": 51,
   "metadata": {},
   "outputs": [
    {
     "data": {
      "application/vnd.plotly.v1+json": {
       "config": {
        "plotlyServerURL": "https://plot.ly"
       },
       "data": [
        {
         "customdata": [
          [
           "2024-11-03T14:56:00"
          ],
          [
           "2024-11-03T14:56:00"
          ],
          [
           "2024-11-03T14:56:00"
          ],
          [
           "2024-11-03T14:56:00"
          ],
          [
           "2024-11-03T14:56:00"
          ],
          [
           "2024-11-03T14:56:00"
          ],
          [
           "2024-11-03T14:56:00"
          ],
          [
           "2024-11-03T14:56:00"
          ],
          [
           "2024-11-03T14:56:00"
          ],
          [
           "2024-11-03T14:56:00"
          ],
          [
           "2024-11-03T14:56:00"
          ],
          [
           "2024-11-03T14:56:00"
          ],
          [
           "2024-11-03T14:56:00"
          ],
          [
           "2024-11-03T14:56:00"
          ],
          [
           "2024-11-03T14:56:00"
          ],
          [
           "2024-11-03T14:56:00"
          ],
          [
           "2024-11-03T14:56:00"
          ],
          [
           "2024-11-03T14:56:00"
          ],
          [
           "2024-11-03T14:56:00"
          ],
          [
           "2024-11-03T14:56:00"
          ],
          [
           "2024-11-03T14:56:00"
          ],
          [
           "2024-11-03T14:56:00"
          ]
         ],
         "hovertemplate": "Time=%{customdata[0]}<br>Carry yds=%{x}<br>Lateral yds=%{y}<extra></extra>",
         "legendgroup": "2024-11-03 14:56:00",
         "marker": {
          "color": "rgb(127, 60, 141)",
          "symbol": "circle"
         },
         "mode": "markers",
         "name": "2024-11-03 14:56:00",
         "orientation": "h",
         "showlegend": true,
         "type": "scatter",
         "x": [
          96,
          94.1,
          96.4,
          119.5,
          120.6,
          134,
          110.1,
          146.2,
          139.6,
          126.6,
          143.1,
          134.6,
          132.6,
          116.6,
          136.7,
          145.4,
          134.7,
          114.1,
          136.4,
          123.7,
          86.6,
          71.6
         ],
         "xaxis": "x",
         "y": [
          "16 L",
          "0.3 L",
          "17.5 L",
          "14.7 L",
          "5.1 L",
          "7.7 L",
          "11.7 L",
          "7.2 L",
          "20.6 L",
          "10.9 L",
          "11.5 L",
          "5.9 L",
          "2.4 R",
          "26.4 L",
          "13.2 L",
          "4.3 L",
          "8.3 L",
          "1.8 R",
          "11.2 L",
          "2.9 L",
          "10.6 L",
          "18.5 R"
         ],
         "yaxis": "y"
        },
        {
         "customdata": [
          [
           "2024-11-03T20:05:00"
          ],
          [
           "2024-11-03T20:05:00"
          ],
          [
           "2024-11-03T20:05:00"
          ],
          [
           "2024-11-03T20:05:00"
          ],
          [
           "2024-11-03T20:05:00"
          ],
          [
           "2024-11-03T20:05:00"
          ],
          [
           "2024-11-03T20:05:00"
          ],
          [
           "2024-11-03T20:05:00"
          ],
          [
           "2024-11-03T20:05:00"
          ],
          [
           "2024-11-03T20:05:00"
          ],
          [
           "2024-11-03T20:05:00"
          ],
          [
           "2024-11-03T20:05:00"
          ],
          [
           "2024-11-03T20:05:00"
          ],
          [
           "2024-11-03T20:05:00"
          ],
          [
           "2024-11-03T20:05:00"
          ],
          [
           "2024-11-03T20:05:00"
          ],
          [
           "2024-11-03T20:05:00"
          ],
          [
           "2024-11-03T20:05:00"
          ],
          [
           "2024-11-03T20:05:00"
          ],
          [
           "2024-11-03T20:05:00"
          ],
          [
           "2024-11-03T20:05:00"
          ],
          [
           "2024-11-03T20:05:00"
          ],
          [
           "2024-11-03T20:05:00"
          ],
          [
           "2024-11-03T20:05:00"
          ],
          [
           "2024-11-03T20:05:00"
          ],
          [
           "2024-11-03T20:05:00"
          ],
          [
           "2024-11-03T20:05:00"
          ],
          [
           "2024-11-03T20:05:00"
          ],
          [
           "2024-11-03T20:05:00"
          ],
          [
           "2024-11-03T20:05:00"
          ],
          [
           "2024-11-03T20:05:00"
          ],
          [
           "2024-11-03T20:05:00"
          ],
          [
           "2024-11-03T20:05:00"
          ]
         ],
         "hovertemplate": "Time=%{customdata[0]}<br>Carry yds=%{x}<br>Lateral yds=%{y}<extra></extra>",
         "legendgroup": "2024-11-03 20:05:00",
         "marker": {
          "color": "rgb(17, 165, 121)",
          "symbol": "circle"
         },
         "mode": "markers",
         "name": "2024-11-03 20:05:00",
         "orientation": "h",
         "showlegend": true,
         "type": "scatter",
         "x": [
          169.9,
          177.9,
          150.1,
          159.4,
          133.7,
          162,
          124,
          126.1,
          170.4,
          163.6,
          175.6,
          171,
          167.4,
          146.7,
          170.7,
          120.8,
          124.5,
          147.5,
          180.9,
          42.2,
          49.4,
          44,
          125.6,
          120.1,
          111,
          139.2,
          99.6,
          116.6,
          167,
          163.7,
          136.7,
          102.2,
          155
         ],
         "xaxis": "x",
         "y": [
          "9.2 R",
          "4.3 L",
          "11.9 L",
          "0.2 R",
          "3.9 R",
          "3.1 R",
          "1.4 L",
          "6.9 R",
          "6.6 L",
          "18.7 R",
          "16.2 R",
          "2.6 R",
          "3 L",
          "1.1 R",
          "19.4 R",
          "2 R",
          "4.1 L",
          "1.1 R",
          "13.1 R",
          "3.4 R",
          "4.8 L",
          "6 L",
          "18.6 R",
          "8.7 R",
          "12.2 L",
          "14 R",
          "2 L",
          "3.8 L",
          "16.3 R",
          "10.1 R",
          "13.5 R",
          "6.7 R",
          "2.2 L"
         ],
         "yaxis": "y"
        },
        {
         "customdata": [
          [
           "2024-11-10T14:56:00"
          ],
          [
           "2024-11-10T14:56:00"
          ],
          [
           "2024-11-10T14:56:00"
          ],
          [
           "2024-11-10T14:56:00"
          ],
          [
           "2024-11-10T14:56:00"
          ],
          [
           "2024-11-10T14:56:00"
          ],
          [
           "2024-11-10T14:56:00"
          ],
          [
           "2024-11-10T14:56:00"
          ],
          [
           "2024-11-10T14:56:00"
          ],
          [
           "2024-11-10T14:56:00"
          ],
          [
           "2024-11-10T14:56:00"
          ],
          [
           "2024-11-10T14:56:00"
          ],
          [
           "2024-11-10T14:56:00"
          ],
          [
           "2024-11-10T14:56:00"
          ],
          [
           "2024-11-10T14:56:00"
          ],
          [
           "2024-11-10T14:56:00"
          ],
          [
           "2024-11-10T14:56:00"
          ],
          [
           "2024-11-10T14:56:00"
          ],
          [
           "2024-11-10T14:56:00"
          ],
          [
           "2024-11-10T14:56:00"
          ],
          [
           "2024-11-10T14:56:00"
          ],
          [
           "2024-11-10T14:56:00"
          ],
          [
           "2024-11-10T14:56:00"
          ],
          [
           "2024-11-10T14:56:00"
          ],
          [
           "2024-11-10T14:56:00"
          ],
          [
           "2024-11-10T14:56:00"
          ],
          [
           "2024-11-10T14:56:00"
          ],
          [
           "2024-11-10T14:56:00"
          ],
          [
           "2024-11-10T14:56:00"
          ],
          [
           "2024-11-10T14:56:00"
          ],
          [
           "2024-11-10T14:56:00"
          ],
          [
           "2024-11-10T14:56:00"
          ],
          [
           "2024-11-10T14:56:00"
          ],
          [
           "2024-11-10T14:56:00"
          ],
          [
           "2024-11-10T14:56:00"
          ],
          [
           "2024-11-10T14:56:00"
          ],
          [
           "2024-11-10T14:56:00"
          ],
          [
           "2024-11-10T14:56:00"
          ],
          [
           "2024-11-10T14:56:00"
          ],
          [
           "2024-11-10T14:56:00"
          ],
          [
           "2024-11-10T14:56:00"
          ],
          [
           "2024-11-10T14:56:00"
          ],
          [
           "2024-11-10T14:56:00"
          ],
          [
           "2024-11-10T14:56:00"
          ],
          [
           "2024-11-10T14:56:00"
          ],
          [
           "2024-11-10T14:56:00"
          ],
          [
           "2024-11-10T14:56:00"
          ],
          [
           "2024-11-10T14:56:00"
          ],
          [
           "2024-11-10T14:56:00"
          ],
          [
           "2024-11-10T14:56:00"
          ],
          [
           "2024-11-10T14:56:00"
          ],
          [
           "2024-11-10T14:56:00"
          ],
          [
           "2024-11-10T14:56:00"
          ],
          [
           "2024-11-10T14:56:00"
          ],
          [
           "2024-11-10T14:56:00"
          ],
          [
           "2024-11-10T14:56:00"
          ],
          [
           "2024-11-10T14:56:00"
          ],
          [
           "2024-11-10T14:56:00"
          ],
          [
           "2024-11-10T14:56:00"
          ],
          [
           "2024-11-10T14:56:00"
          ],
          [
           "2024-11-10T14:56:00"
          ],
          [
           "2024-11-10T14:56:00"
          ],
          [
           "2024-11-10T14:56:00"
          ],
          [
           "2024-11-10T14:56:00"
          ],
          [
           "2024-11-10T14:56:00"
          ],
          [
           "2024-11-10T14:56:00"
          ],
          [
           "2024-11-10T14:56:00"
          ],
          [
           "2024-11-10T14:56:00"
          ],
          [
           "2024-11-10T14:56:00"
          ],
          [
           "2024-11-10T14:56:00"
          ]
         ],
         "hovertemplate": "Time=%{customdata[0]}<br>Carry yds=%{x}<br>Lateral yds=%{y}<extra></extra>",
         "legendgroup": "2024-11-10 14:56:00",
         "marker": {
          "color": "rgb(57, 105, 172)",
          "symbol": "circle"
         },
         "mode": "markers",
         "name": "2024-11-10 14:56:00",
         "orientation": "h",
         "showlegend": true,
         "type": "scatter",
         "x": [
          115.2,
          120.7,
          126.1,
          93.9,
          122.4,
          97.5,
          130.4,
          96.9,
          97.7,
          116,
          102.5,
          101.6,
          148.2,
          161.1,
          173.2,
          177.6,
          134.6,
          150.3,
          129.3,
          130,
          108.8,
          159.4,
          164.9,
          158.5,
          125.2,
          147.7,
          143.2,
          159,
          155.7,
          151.4,
          168.7,
          156.7,
          157.9,
          177.2,
          170.8,
          164.4,
          163.9,
          182.5,
          120.3,
          172,
          158.4,
          137.5,
          177.4,
          190.6,
          184.9,
          177.5,
          107.9,
          170.5,
          156.1,
          126.5,
          177.6,
          149.8,
          118.1,
          26.9,
          138.8,
          159.2,
          116.5,
          133.4,
          157.2,
          168,
          133.1,
          151.5,
          149,
          126,
          168.5,
          136.6,
          146.5,
          141.9,
          135.1,
          122.8
         ],
         "xaxis": "x",
         "y": [
          "5.5 L",
          "12 L",
          "8.3 L",
          "5.4 R",
          "5.6 L",
          "9.5 L",
          "4.6 R",
          "2.3 R",
          "5.2 L",
          "1.4 R",
          "13.8 L",
          "15.4 L",
          "3.4 R",
          "11.3 L",
          "2 L",
          "2 R",
          "11.8 L",
          "9.2 L",
          "1.4 L",
          "3.6 R",
          "30.5 L",
          "17.9 L",
          "29.4 L",
          "5.9 L",
          "26.1 L",
          "3.6 R",
          "6.8 L",
          "13.7 R",
          "27.8 R",
          "9.3 L",
          "6.1 R",
          "9.7 R",
          "10.4 R",
          "0.9 R",
          "1.3 R",
          "12.9 R",
          "13.8 L",
          "1.6 R",
          "2.2 L",
          "13 R",
          "17.7 R",
          "12.6 L",
          "8.1 L",
          "25.2 L",
          "8.1 L",
          "9.7 L",
          "3.6 L",
          "1.5 R",
          "7.5 L",
          "17.4 L",
          "24.1 R",
          "9.1 L",
          "3 L",
          "0.3 L",
          "32.7 L",
          "3.5 R",
          "13.3 L",
          "2.6 L",
          "4.2 L",
          "12.6 L",
          "7.3 L",
          "1.9 L",
          "10.5 L",
          "5.6 R",
          "10.8 R",
          "7.5 L",
          "7.3 L",
          "6.9 L",
          "10.2 R",
          "8.1 L"
         ],
         "yaxis": "y"
        },
        {
         "customdata": [
          [
           "2024-11-17T10:57:00"
          ],
          [
           "2024-11-17T10:57:00"
          ],
          [
           "2024-11-17T10:57:00"
          ],
          [
           "2024-11-17T10:57:00"
          ],
          [
           "2024-11-17T10:57:00"
          ],
          [
           "2024-11-17T10:57:00"
          ],
          [
           "2024-11-17T10:57:00"
          ],
          [
           "2024-11-17T10:57:00"
          ],
          [
           "2024-11-17T10:57:00"
          ],
          [
           "2024-11-17T10:57:00"
          ],
          [
           "2024-11-17T10:57:00"
          ]
         ],
         "hovertemplate": "Time=%{customdata[0]}<br>Carry yds=%{x}<br>Lateral yds=%{y}<extra></extra>",
         "legendgroup": "2024-11-17 10:57:00",
         "marker": {
          "color": "rgb(242, 183, 1)",
          "symbol": "circle"
         },
         "mode": "markers",
         "name": "2024-11-17 10:57:00",
         "orientation": "h",
         "showlegend": true,
         "type": "scatter",
         "x": [
          119.2,
          125.2,
          108.9,
          134.3,
          114.3,
          106.9,
          138,
          146.2,
          108.9,
          129.8,
          140.2
         ],
         "xaxis": "x",
         "y": [
          "7.3 R",
          "8.7 R",
          "5.3 R",
          "5.9 R",
          "3.9 R",
          "9.8 L",
          "9.8 R",
          "11.1 R",
          "8.1 L",
          "0.1 L",
          "10 R"
         ],
         "yaxis": "y"
        },
        {
         "customdata": [
          [
           "2024-11-17T16:49:00"
          ],
          [
           "2024-11-17T16:49:00"
          ],
          [
           "2024-11-17T16:49:00"
          ],
          [
           "2024-11-17T16:49:00"
          ],
          [
           "2024-11-17T16:49:00"
          ],
          [
           "2024-11-17T16:49:00"
          ],
          [
           "2024-11-17T16:49:00"
          ],
          [
           "2024-11-17T16:49:00"
          ],
          [
           "2024-11-17T16:49:00"
          ],
          [
           "2024-11-17T16:49:00"
          ],
          [
           "2024-11-17T16:49:00"
          ],
          [
           "2024-11-17T16:49:00"
          ],
          [
           "2024-11-17T16:49:00"
          ],
          [
           "2024-11-17T16:49:00"
          ],
          [
           "2024-11-17T16:49:00"
          ],
          [
           "2024-11-17T16:49:00"
          ],
          [
           "2024-11-17T16:49:00"
          ],
          [
           "2024-11-17T16:49:00"
          ]
         ],
         "hovertemplate": "Time=%{customdata[0]}<br>Carry yds=%{x}<br>Lateral yds=%{y}<extra></extra>",
         "legendgroup": "2024-11-17 16:49:00",
         "marker": {
          "color": "rgb(231, 63, 116)",
          "symbol": "circle"
         },
         "mode": "markers",
         "name": "2024-11-17 16:49:00",
         "orientation": "h",
         "showlegend": true,
         "type": "scatter",
         "x": [
          112.8,
          116.1,
          138.2,
          103.5,
          132.2,
          141.8,
          147.4,
          119.6,
          120.3,
          144,
          114.8,
          145.2,
          114.1,
          119.8,
          144.5,
          166.5,
          116.9,
          153.5
         ],
         "xaxis": "x",
         "y": [
          "3.2 R",
          "2.1 L",
          "0.4 R",
          "4.9 L",
          "6.4 R",
          "10 L",
          "1.2 R",
          "11 L",
          "9.6 R",
          "2 L",
          "9.2 L",
          "10.8 R",
          "2.9 L",
          "13.1 L",
          "7.5 R",
          "11.5 L",
          "1.8 L",
          "3.1 L"
         ],
         "yaxis": "y"
        },
        {
         "customdata": [
          [
           "2024-11-29T19:05:00"
          ],
          [
           "2024-11-29T19:05:00"
          ],
          [
           "2024-11-29T19:05:00"
          ],
          [
           "2024-11-29T19:05:00"
          ],
          [
           "2024-11-29T19:05:00"
          ],
          [
           "2024-11-29T19:05:00"
          ],
          [
           "2024-11-29T19:05:00"
          ],
          [
           "2024-11-29T19:05:00"
          ],
          [
           "2024-11-29T19:05:00"
          ],
          [
           "2024-11-29T19:05:00"
          ],
          [
           "2024-11-29T19:05:00"
          ],
          [
           "2024-11-29T19:05:00"
          ],
          [
           "2024-11-29T19:05:00"
          ],
          [
           "2024-11-29T19:05:00"
          ],
          [
           "2024-11-29T19:05:00"
          ],
          [
           "2024-11-29T19:05:00"
          ],
          [
           "2024-11-29T19:05:00"
          ],
          [
           "2024-11-29T19:05:00"
          ],
          [
           "2024-11-29T19:05:00"
          ],
          [
           "2024-11-29T19:05:00"
          ],
          [
           "2024-11-29T19:05:00"
          ],
          [
           "2024-11-29T19:05:00"
          ],
          [
           "2024-11-29T19:05:00"
          ],
          [
           "2024-11-29T19:05:00"
          ],
          [
           "2024-11-29T19:05:00"
          ],
          [
           "2024-11-29T19:05:00"
          ],
          [
           "2024-11-29T19:05:00"
          ],
          [
           "2024-11-29T19:05:00"
          ],
          [
           "2024-11-29T19:05:00"
          ]
         ],
         "hovertemplate": "Time=%{customdata[0]}<br>Carry yds=%{x}<br>Lateral yds=%{y}<extra></extra>",
         "legendgroup": "2024-11-29 19:05:00",
         "marker": {
          "color": "rgb(128, 186, 90)",
          "symbol": "circle"
         },
         "mode": "markers",
         "name": "2024-11-29 19:05:00",
         "orientation": "h",
         "showlegend": true,
         "type": "scatter",
         "x": [
          150.1,
          148.8,
          155.3,
          137.2,
          163.2,
          137.3,
          116.1,
          129.2,
          147,
          151,
          45.8,
          130.1,
          144.5,
          149,
          152.2,
          127.4,
          155.1,
          126.4,
          143.1,
          148,
          173.9,
          159.7,
          163.9,
          158.2,
          140.5,
          169.1,
          151.7,
          149.6,
          161.9
         ],
         "xaxis": "x",
         "y": [
          "13.6 R",
          "14.3 R",
          "16 R",
          "8 R",
          "13.6 R",
          "3.2 L",
          "8.9 R",
          "8.1 L",
          "5.6 R",
          "3 R",
          "3.6 R",
          "7.4 R",
          "4.7 R",
          "4.4 R",
          "4.8 L",
          "0.3 R",
          "30.7 L",
          "28.5 R",
          "3.9 L",
          "6 R",
          "5.5 R",
          "23.9 R",
          "8.2 R",
          "18.8 R",
          "4.9 L",
          "2.6 R",
          "21.7 R",
          "0.5 R",
          "0.7 R"
         ],
         "yaxis": "y"
        }
       ],
       "layout": {
        "legend": {
         "title": {
          "text": "Time"
         },
         "tracegroupgap": 0
        },
        "template": {
         "data": {
          "candlestick": [
           {
            "decreasing": {
             "line": {
              "color": "#000033"
             }
            },
            "increasing": {
             "line": {
              "color": "#000032"
             }
            },
            "type": "candlestick"
           }
          ],
          "contour": [
           {
            "colorscale": [
             [
              0,
              "#000011"
             ],
             [
              0.1111111111111111,
              "#000012"
             ],
             [
              0.2222222222222222,
              "#000013"
             ],
             [
              0.3333333333333333,
              "#000014"
             ],
             [
              0.4444444444444444,
              "#000015"
             ],
             [
              0.5555555555555556,
              "#000016"
             ],
             [
              0.6666666666666666,
              "#000017"
             ],
             [
              0.7777777777777778,
              "#000018"
             ],
             [
              0.8888888888888888,
              "#000019"
             ],
             [
              1,
              "#000020"
             ]
            ],
            "type": "contour"
           }
          ],
          "contourcarpet": [
           {
            "colorscale": [
             [
              0,
              "#000011"
             ],
             [
              0.1111111111111111,
              "#000012"
             ],
             [
              0.2222222222222222,
              "#000013"
             ],
             [
              0.3333333333333333,
              "#000014"
             ],
             [
              0.4444444444444444,
              "#000015"
             ],
             [
              0.5555555555555556,
              "#000016"
             ],
             [
              0.6666666666666666,
              "#000017"
             ],
             [
              0.7777777777777778,
              "#000018"
             ],
             [
              0.8888888888888888,
              "#000019"
             ],
             [
              1,
              "#000020"
             ]
            ],
            "type": "contourcarpet"
           }
          ],
          "heatmap": [
           {
            "colorscale": [
             [
              0,
              "#000011"
             ],
             [
              0.1111111111111111,
              "#000012"
             ],
             [
              0.2222222222222222,
              "#000013"
             ],
             [
              0.3333333333333333,
              "#000014"
             ],
             [
              0.4444444444444444,
              "#000015"
             ],
             [
              0.5555555555555556,
              "#000016"
             ],
             [
              0.6666666666666666,
              "#000017"
             ],
             [
              0.7777777777777778,
              "#000018"
             ],
             [
              0.8888888888888888,
              "#000019"
             ],
             [
              1,
              "#000020"
             ]
            ],
            "type": "heatmap"
           }
          ],
          "histogram2d": [
           {
            "colorscale": [
             [
              0,
              "#000011"
             ],
             [
              0.1111111111111111,
              "#000012"
             ],
             [
              0.2222222222222222,
              "#000013"
             ],
             [
              0.3333333333333333,
              "#000014"
             ],
             [
              0.4444444444444444,
              "#000015"
             ],
             [
              0.5555555555555556,
              "#000016"
             ],
             [
              0.6666666666666666,
              "#000017"
             ],
             [
              0.7777777777777778,
              "#000018"
             ],
             [
              0.8888888888888888,
              "#000019"
             ],
             [
              1,
              "#000020"
             ]
            ],
            "type": "histogram2d"
           }
          ],
          "icicle": [
           {
            "textfont": {
             "color": "white"
            },
            "type": "icicle"
           }
          ],
          "sankey": [
           {
            "textfont": {
             "color": "#000036"
            },
            "type": "sankey"
           }
          ],
          "scatter": [
           {
            "marker": {
             "line": {
              "width": 0
             }
            },
            "type": "scatter"
           }
          ],
          "table": [
           {
            "cells": {
             "fill": {
              "color": "#000038"
             },
             "font": {
              "color": "#000037"
             },
             "line": {
              "color": "#000039"
             }
            },
            "header": {
             "fill": {
              "color": "#000040"
             },
             "font": {
              "color": "#000036"
             },
             "line": {
              "color": "#000039"
             }
            },
            "type": "table"
           }
          ],
          "waterfall": [
           {
            "connector": {
             "line": {
              "color": "#000036",
              "width": 2
             }
            },
            "decreasing": {
             "marker": {
              "color": "#000033"
             }
            },
            "increasing": {
             "marker": {
              "color": "#000032"
             }
            },
            "totals": {
             "marker": {
              "color": "#000034"
             }
            },
            "type": "waterfall"
           }
          ]
         },
         "layout": {
          "coloraxis": {
           "colorscale": [
            [
             0,
             "#000011"
            ],
            [
             0.1111111111111111,
             "#000012"
            ],
            [
             0.2222222222222222,
             "#000013"
            ],
            [
             0.3333333333333333,
             "#000014"
            ],
            [
             0.4444444444444444,
             "#000015"
            ],
            [
             0.5555555555555556,
             "#000016"
            ],
            [
             0.6666666666666666,
             "#000017"
            ],
            [
             0.7777777777777778,
             "#000018"
            ],
            [
             0.8888888888888888,
             "#000019"
            ],
            [
             1,
             "#000020"
            ]
           ]
          },
          "colorscale": {
           "diverging": [
            [
             0,
             "#000021"
            ],
            [
             0.1,
             "#000022"
            ],
            [
             0.2,
             "#000023"
            ],
            [
             0.3,
             "#000024"
            ],
            [
             0.4,
             "#000025"
            ],
            [
             0.5,
             "#000026"
            ],
            [
             0.6,
             "#000027"
            ],
            [
             0.7,
             "#000028"
            ],
            [
             0.8,
             "#000029"
            ],
            [
             0.9,
             "#000030"
            ],
            [
             1,
             "#000031"
            ]
           ],
           "sequential": [
            [
             0,
             "#000011"
            ],
            [
             0.1111111111111111,
             "#000012"
            ],
            [
             0.2222222222222222,
             "#000013"
            ],
            [
             0.3333333333333333,
             "#000014"
            ],
            [
             0.4444444444444444,
             "#000015"
            ],
            [
             0.5555555555555556,
             "#000016"
            ],
            [
             0.6666666666666666,
             "#000017"
            ],
            [
             0.7777777777777778,
             "#000018"
            ],
            [
             0.8888888888888888,
             "#000019"
            ],
            [
             1,
             "#000020"
            ]
           ],
           "sequentialminus": [
            [
             0,
             "#000011"
            ],
            [
             0.1111111111111111,
             "#000012"
            ],
            [
             0.2222222222222222,
             "#000013"
            ],
            [
             0.3333333333333333,
             "#000014"
            ],
            [
             0.4444444444444444,
             "#000015"
            ],
            [
             0.5555555555555556,
             "#000016"
            ],
            [
             0.6666666666666666,
             "#000017"
            ],
            [
             0.7777777777777778,
             "#000018"
            ],
            [
             0.8888888888888888,
             "#000019"
            ],
            [
             1,
             "#000020"
            ]
           ]
          },
          "colorway": [
           "#000001",
           "#000002",
           "#000003",
           "#000004",
           "#000005",
           "#000006",
           "#000007",
           "#000008",
           "#000009",
           "#000010"
          ]
         }
        },
        "title": {
         "text": "Golf Cloud"
        },
        "xaxis": {
         "anchor": "y",
         "domain": [
          0,
          1
         ],
         "range": [
          0,
          200
         ],
         "title": {
          "text": "Carry yds"
         }
        },
        "yaxis": {
         "anchor": "x",
         "domain": [
          0,
          1
         ],
         "range": [
          -50,
          50
         ],
         "title": {
          "text": "Lateral yds"
         }
        }
       }
      }
     },
     "metadata": {},
     "output_type": "display_data"
    }
   ],
   "source": [
    "df['Shot Type'] = df['Shot Type'].astype(str)\n",
    "\n",
    "fig1 = px.scatter(df, x=\"Carry yds\", y='Lateral yds', color='Time', title=\"Golf Cloud\",color_discrete_sequence=px.colors.qualitative.Bold,hover_data='Time')\n",
    "# Update x-axis to start at 0.0\n",
    "fig1.update_xaxes(range=[0, 200])  # Set minimum to 0, maximum is 200  (Use None if you want auto scaling, ie [0, None])\n",
    "fig1.update_yaxes(range=[-50, 50])  # Set minimum to -50, maximum is 50\n",
    "fig1.show()"
   ]
  },
  {
   "cell_type": "code",
   "execution_count": null,
   "metadata": {},
   "outputs": [],
   "source": []
  },
  {
   "cell_type": "code",
   "execution_count": 52,
   "metadata": {},
   "outputs": [
    {
     "data": {
      "application/vnd.plotly.v1+json": {
       "config": {
        "plotlyServerURL": "https://plot.ly"
       },
       "data": [
        {
         "customdata": [
          [
           "Pull",
           "7 Iron"
          ],
          [
           "Fade",
           "7 Iron"
          ],
          [
           "Pull/Draw",
           "7 Iron"
          ],
          [
           "Pull/Fade",
           "7 Iron"
          ],
          [
           "Pull/Fade",
           "7 Iron"
          ],
          [
           "Pull/Fade",
           "7 Iron"
          ],
          [
           "Pull/Fade",
           "7 Iron"
          ],
          [
           "Pull/Fade",
           "7 Iron"
          ],
          [
           "Pull",
           "7 Iron"
          ],
          [
           "Pull",
           "7 Iron"
          ],
          [
           "Pull",
           "7 Iron"
          ],
          [
           "Pull/Fade",
           "7 Iron"
          ],
          [
           "Pull/Fade",
           "7 Iron"
          ],
          [
           "Pull/Draw",
           "7 Iron"
          ],
          [
           "Pull/Draw",
           "7 Iron"
          ],
          [
           "Fade",
           "7 Iron"
          ],
          [
           "Pull/Fade",
           "7 Iron"
          ],
          [
           "Fade",
           "7 Iron"
          ],
          [
           "Pull/Fade",
           "7 Iron"
          ],
          [
           "Pull/Fade",
           "7 Iron"
          ],
          [
           "Pull",
           "7 Iron"
          ],
          [
           "Push/Slice",
           "7 Iron"
          ]
         ],
         "hovertemplate": "Time=2024-11-03 14:56:00<br>Carry yds=%{x}<br>Height ft=%{y}<br>Shot Type=%{customdata[0]}<br>Club=%{customdata[1]}<extra></extra>",
         "legendgroup": "2024-11-03 14:56:00",
         "marker": {
          "color": "rgb(127, 60, 141)",
          "symbol": "circle"
         },
         "mode": "markers",
         "name": "2024-11-03 14:56:00",
         "orientation": "v",
         "showlegend": true,
         "type": "scatter",
         "x": [
          96,
          94.1,
          96.4,
          119.5,
          120.6,
          134,
          110.1,
          146.2,
          139.6,
          126.6,
          143.1,
          134.6,
          132.6,
          116.6,
          136.7,
          145.4,
          134.7,
          114.1,
          136.4,
          123.7,
          86.6,
          71.6
         ],
         "xaxis": "x",
         "y": [
          34.3,
          26.4,
          25.3,
          40.3,
          42.5,
          55.7,
          44.6,
          77.5,
          64,
          63.4,
          79.1,
          65.3,
          68.6,
          45.2,
          73.9,
          81.5,
          56.1,
          56.5,
          62.3,
          60.1,
          26,
          11.9
         ],
         "yaxis": "y"
        },
        {
         "customdata": [
          [
           "Fade",
           "7 Iron"
          ],
          [
           "Straight",
           "7 Iron"
          ],
          [
           "Draw",
           "7 Iron"
          ],
          [
           "Straight",
           "7 Iron"
          ],
          [
           "Fade",
           "7 Iron"
          ],
          [
           "Straight",
           "7 Iron"
          ],
          [
           "Draw",
           "7 Iron"
          ],
          [
           "Fade",
           "7 Iron"
          ],
          [
           "Straight",
           "7 Iron"
          ],
          [
           "Push/Fade",
           "7 Iron"
          ],
          [
           "Fade",
           "7 Iron"
          ],
          [
           "Straight",
           "7 Iron"
          ],
          [
           "Straight",
           "7 Iron"
          ],
          [
           "Straight",
           "7 Iron"
          ],
          [
           "Push/Fade",
           "7 Iron"
          ],
          [
           "Draw",
           "7 Iron"
          ],
          [
           "Draw",
           "7 Iron"
          ],
          [
           "Straight",
           "7 Iron"
          ],
          [
           "Fade",
           "7 Iron"
          ],
          [
           "Push/Fade",
           "7 Iron"
          ],
          [
           "Pull/Draw",
           "7 Iron"
          ],
          [
           "Pull/Draw",
           "7 Iron"
          ],
          [
           "Push/Fade",
           "7 Iron"
          ],
          [
           "Fade",
           "7 Iron"
          ],
          [
           "Pull",
           "7 Iron"
          ],
          [
           "Fade",
           "7 Iron"
          ],
          [
           "Straight",
           "7 Iron"
          ],
          [
           "Straight",
           "7 Iron"
          ],
          [
           "Fade",
           "7 Iron"
          ],
          [
           "Fade",
           "7 Iron"
          ],
          [
           "Push/Fade",
           "7 Iron"
          ],
          [
           "Straight",
           "7 Iron"
          ],
          [
           "Straight",
           "7 Iron"
          ]
         ],
         "hovertemplate": "Time=2024-11-03 20:05:00<br>Carry yds=%{x}<br>Height ft=%{y}<br>Shot Type=%{customdata[0]}<br>Club=%{customdata[1]}<extra></extra>",
         "legendgroup": "2024-11-03 20:05:00",
         "marker": {
          "color": "rgb(17, 165, 121)",
          "symbol": "circle"
         },
         "mode": "markers",
         "name": "2024-11-03 20:05:00",
         "orientation": "v",
         "showlegend": true,
         "type": "scatter",
         "x": [
          169.9,
          177.9,
          150.1,
          159.4,
          133.7,
          162,
          124,
          126.1,
          170.4,
          163.6,
          175.6,
          171,
          167.4,
          146.7,
          170.7,
          120.8,
          124.5,
          147.5,
          180.9,
          42.2,
          49.4,
          44,
          125.6,
          120.1,
          111,
          139.2,
          99.6,
          116.6,
          167,
          163.7,
          136.7,
          102.2,
          155
         ],
         "xaxis": "x",
         "y": [
          64.1,
          50,
          68.1,
          34.1,
          40.6,
          58.3,
          31.8,
          40.9,
          40.8,
          63.2,
          77.2,
          64,
          55,
          45.3,
          77.9,
          37.8,
          36.5,
          52.9,
          71.4,
          11.7,
          11.8,
          8.6,
          61.9,
          62.4,
          38.4,
          72,
          24.1,
          28.2,
          70.1,
          38.3,
          47.2,
          30.5,
          48.5
         ],
         "yaxis": "y"
        },
        {
         "customdata": [
          [
           "Draw",
           "7 Iron"
          ],
          [
           "Pull/Draw",
           "7 Iron"
          ],
          [
           "Draw",
           "7 Iron"
          ],
          [
           "Straight",
           "7 Iron"
          ],
          [
           "Draw",
           "7 Iron"
          ],
          [
           "Pull/Draw",
           "7 Iron"
          ],
          [
           "Fade",
           "7 Iron"
          ],
          [
           "Fade",
           "7 Iron"
          ],
          [
           "Straight",
           "7 Iron"
          ],
          [
           "Fade",
           "7 Iron"
          ],
          [
           "Pull",
           "7 Iron"
          ],
          [
           "Pull",
           "7 Iron"
          ],
          [
           "Fade",
           "7 Iron"
          ],
          [
           "Pull/Fade",
           "7 Iron"
          ],
          [
           "Fade",
           "7 Iron"
          ],
          [
           "Fade",
           "7 Iron"
          ],
          [
           "Pull",
           "7 Iron"
          ],
          [
           "Draw",
           "7 Iron"
          ],
          [
           "Fade",
           "7 Iron"
          ],
          [
           "Fade",
           "7 Iron"
          ],
          [
           "Pull/Draw",
           "7 Iron"
          ],
          [
           "Pull/Draw",
           "7 Iron"
          ],
          [
           "Pull/Draw",
           "7 Iron"
          ],
          [
           "Fade",
           "7 Iron"
          ],
          [
           "Pull/Draw",
           "7 Iron"
          ],
          [
           "Straight",
           "7 Iron"
          ],
          [
           "Straight",
           "7 Iron"
          ],
          [
           "Fade",
           "7 Iron"
          ],
          [
           "Push/Fade",
           "7 Iron"
          ],
          [
           "Draw",
           "7 Iron"
          ],
          [
           "Fade",
           "7 Iron"
          ],
          [
           "Fade",
           "7 Iron"
          ],
          [
           "Fade",
           "7 Iron"
          ],
          [
           "Fade",
           "7 Iron"
          ],
          [
           "Fade",
           "7 Iron"
          ],
          [
           "Fade",
           "7 Iron"
          ],
          [
           "Pull",
           "7 Iron"
          ],
          [
           "Straight",
           "7 Iron"
          ],
          [
           "Straight",
           "7 Iron"
          ],
          [
           "Fade",
           "7 Iron"
          ],
          [
           "Push/Fade",
           "7 Iron"
          ],
          [
           "Draw",
           "7 Iron"
          ],
          [
           "Draw",
           "7 Iron"
          ],
          [
           "Draw",
           "7 Iron"
          ],
          [
           "Draw",
           "7 Iron"
          ],
          [
           "Draw",
           "7 Iron"
          ],
          [
           "Straight",
           "7 Iron"
          ],
          [
           "Fade",
           "7 Iron"
          ],
          [
           "Draw",
           "7 Iron"
          ],
          [
           "Pull/Draw",
           "7 Iron"
          ],
          [
           "Push/Fade",
           "7 Iron"
          ],
          [
           "Draw",
           "7 Iron"
          ],
          [
           "Straight",
           "7 Iron"
          ],
          [
           "Fade",
           "7 Iron"
          ],
          [
           "Pull/Draw",
           "7 Iron"
          ],
          [
           "Fade",
           "7 Iron"
          ],
          [
           "Pull/Fade",
           "7 Iron"
          ],
          [
           "Pull/Fade",
           "7 Iron"
          ],
          [
           "Pull/Fade",
           "7 Iron"
          ],
          [
           "Pull/Fade",
           "7 Iron"
          ],
          [
           "Pull/Fade",
           "7 Iron"
          ],
          [
           "Pull/Fade",
           "7 Iron"
          ],
          [
           "Pull/Fade",
           "7 Iron"
          ],
          [
           "Fade",
           "7 Iron"
          ],
          [
           "Fade",
           "7 Iron"
          ],
          [
           "Pull/Fade",
           "7 Iron"
          ],
          [
           "Pull/Fade",
           "7 Iron"
          ],
          [
           "Pull/Fade",
           "7 Iron"
          ],
          [
           "Fade",
           "7 Iron"
          ],
          [
           "Pull/Fade",
           "7 Iron"
          ]
         ],
         "hovertemplate": "Time=2024-11-10 14:56:00<br>Carry yds=%{x}<br>Height ft=%{y}<br>Shot Type=%{customdata[0]}<br>Club=%{customdata[1]}<extra></extra>",
         "legendgroup": "2024-11-10 14:56:00",
         "marker": {
          "color": "rgb(57, 105, 172)",
          "symbol": "circle"
         },
         "mode": "markers",
         "name": "2024-11-10 14:56:00",
         "orientation": "v",
         "showlegend": true,
         "type": "scatter",
         "x": [
          115.2,
          120.7,
          126.1,
          93.9,
          122.4,
          97.5,
          130.4,
          96.9,
          97.7,
          116,
          102.5,
          101.6,
          148.2,
          161.1,
          173.2,
          177.6,
          134.6,
          150.3,
          129.3,
          130,
          108.8,
          159.4,
          164.9,
          158.5,
          125.2,
          147.7,
          143.2,
          159,
          155.7,
          151.4,
          168.7,
          156.7,
          157.9,
          177.2,
          170.8,
          164.4,
          163.9,
          182.5,
          120.3,
          172,
          158.4,
          137.5,
          177.4,
          190.6,
          184.9,
          177.5,
          107.9,
          170.5,
          156.1,
          126.5,
          177.6,
          149.8,
          118.1,
          26.9,
          138.8,
          159.2,
          116.5,
          133.4,
          157.2,
          168,
          133.1,
          151.5,
          149,
          126,
          168.5,
          136.6,
          146.5,
          141.9,
          135.1,
          122.8
         ],
         "xaxis": "x",
         "y": [
          26.9,
          25.6,
          22.7,
          27.4,
          34.6,
          17.8,
          40.7,
          20.4,
          16.8,
          16.3,
          18.9,
          20.4,
          52.2,
          57.5,
          58.9,
          62.7,
          36.8,
          41.1,
          35.6,
          34.1,
          26.9,
          54.2,
          48.5,
          41.8,
          26.3,
          44,
          25.7,
          51.4,
          56.7,
          54.9,
          79.7,
          65.7,
          80.7,
          70.6,
          74.1,
          82.4,
          55.4,
          85.4,
          36.7,
          62.9,
          66,
          37.6,
          65.7,
          56.5,
          64.7,
          58.4,
          31.5,
          54.7,
          64.1,
          30.3,
          91.6,
          57.5,
          30.8,
          2.4,
          44.8,
          65.7,
          34.8,
          46.9,
          60.9,
          62.8,
          39.6,
          61.2,
          25,
          41.3,
          68.4,
          66.8,
          71.6,
          63.8,
          56.5,
          53
         ],
         "yaxis": "y"
        },
        {
         "customdata": [
          [
           "Fade",
           "7 Iron"
          ],
          [
           "Fade",
           "7 Iron"
          ],
          [
           "Fade",
           "7 Iron"
          ],
          [
           "Fade",
           "7 Iron"
          ],
          [
           "Fade",
           "7 Iron"
          ],
          [
           "Pull",
           "7 Iron"
          ],
          [
           "Fade",
           "7 Iron"
          ],
          [
           "Fade",
           "7 Iron"
          ],
          [
           "Pull",
           "7 Iron"
          ],
          [
           "Fade",
           "7 Iron"
          ],
          [
           "Fade",
           "7 Iron"
          ]
         ],
         "hovertemplate": "Time=2024-11-17 10:57:00<br>Carry yds=%{x}<br>Height ft=%{y}<br>Shot Type=%{customdata[0]}<br>Club=%{customdata[1]}<extra></extra>",
         "legendgroup": "2024-11-17 10:57:00",
         "marker": {
          "color": "rgb(242, 183, 1)",
          "symbol": "circle"
         },
         "mode": "markers",
         "name": "2024-11-17 10:57:00",
         "orientation": "v",
         "showlegend": true,
         "type": "scatter",
         "x": [
          119.2,
          125.2,
          108.9,
          134.3,
          114.3,
          106.9,
          138,
          146.2,
          108.9,
          129.8,
          140.2
         ],
         "xaxis": "x",
         "y": [
          58.9,
          52.9,
          24.5,
          70.9,
          43,
          32.1,
          61.1,
          66.2,
          34,
          52.6,
          67.2
         ],
         "yaxis": "y"
        },
        {
         "customdata": [
          [
           "Fade",
           "7 Iron"
          ],
          [
           "Fade",
           "7 Iron"
          ],
          [
           "Fade",
           "7 Iron"
          ],
          [
           "Pull/Fade",
           "7 Iron"
          ],
          [
           "Fade",
           "7 Iron"
          ],
          [
           "Pull/Fade",
           "7 Iron"
          ],
          [
           "Fade",
           "7 Iron"
          ],
          [
           "Pull",
           "7 Iron"
          ],
          [
           "Fade",
           "7 Iron"
          ],
          [
           "Fade",
           "7 Iron"
          ],
          [
           "Pull",
           "7 Iron"
          ],
          [
           "Fade",
           "7 Iron"
          ],
          [
           "Straight",
           "7 Iron"
          ],
          [
           "Pull/Draw",
           "7 Iron"
          ],
          [
           "Fade",
           "7 Iron"
          ],
          [
           "Pull",
           "7 Iron"
          ],
          [
           "Straight",
           "7 Iron"
          ],
          [
           "Straight",
           "7 Iron"
          ]
         ],
         "hovertemplate": "Time=2024-11-17 16:49:00<br>Carry yds=%{x}<br>Height ft=%{y}<br>Shot Type=%{customdata[0]}<br>Club=%{customdata[1]}<extra></extra>",
         "legendgroup": "2024-11-17 16:49:00",
         "marker": {
          "color": "rgb(231, 63, 116)",
          "symbol": "circle"
         },
         "mode": "markers",
         "name": "2024-11-17 16:49:00",
         "orientation": "v",
         "showlegend": true,
         "type": "scatter",
         "x": [
          112.8,
          116.1,
          138.2,
          103.5,
          132.2,
          141.8,
          147.4,
          119.6,
          120.3,
          144,
          114.8,
          145.2,
          114.1,
          119.8,
          144.5,
          166.5,
          116.9,
          153.5
         ],
         "xaxis": "x",
         "y": [
          21.5,
          40.4,
          48.5,
          31.8,
          52.8,
          55,
          66.6,
          39.5,
          37.7,
          63.3,
          36.6,
          61.6,
          37,
          37.7,
          57,
          72.2,
          35.9,
          60.3
         ],
         "yaxis": "y"
        },
        {
         "customdata": [
          [
           "Push/Fade",
           "7 Iron"
          ],
          [
           "Push/Fade",
           "7 Iron"
          ],
          [
           "Push",
           "7 Iron"
          ],
          [
           "Straight",
           "7 Iron"
          ],
          [
           "Push",
           "7 Iron"
          ],
          [
           "Fade",
           "7 Iron"
          ],
          [
           "Fade",
           "7 Iron"
          ],
          [
           "Pull",
           "7 Iron"
          ],
          [
           "Fade",
           "7 Iron"
          ],
          [
           "Fade",
           "7 Iron"
          ],
          [
           "Fade",
           "7 Iron"
          ],
          [
           "Fade",
           "7 Iron"
          ],
          [
           "Fade",
           "7 Iron"
          ],
          [
           "Fade",
           "7 Iron"
          ],
          [
           "Fade",
           "7 Iron"
          ],
          [
           "Fade",
           "7 Iron"
          ],
          [
           "Pull/Draw",
           "7 Iron"
          ],
          [
           "Push/Slice",
           "7 Iron"
          ],
          [
           "Straight",
           "7 Iron"
          ],
          [
           "Fade",
           "7 Iron"
          ],
          [
           "Draw",
           "7 Iron"
          ],
          [
           "Push/Fade",
           "7 Iron"
          ],
          [
           "Straight",
           "7 Iron"
          ],
          [
           "Push",
           "7 Iron"
          ],
          [
           "Draw",
           "7 Iron"
          ],
          [
           "Draw",
           "7 Iron"
          ],
          [
           "Push/Fade",
           "7 Iron"
          ],
          [
           "Draw",
           "7 Iron"
          ],
          [
           "Straight",
           "7 Iron"
          ]
         ],
         "hovertemplate": "Time=2024-11-29 19:05:00<br>Carry yds=%{x}<br>Height ft=%{y}<br>Shot Type=%{customdata[0]}<br>Club=%{customdata[1]}<extra></extra>",
         "legendgroup": "2024-11-29 19:05:00",
         "marker": {
          "color": "rgb(128, 186, 90)",
          "symbol": "circle"
         },
         "mode": "markers",
         "name": "2024-11-29 19:05:00",
         "orientation": "v",
         "showlegend": true,
         "type": "scatter",
         "x": [
          150.1,
          148.8,
          155.3,
          137.2,
          163.2,
          137.3,
          116.1,
          129.2,
          147,
          151,
          45.8,
          130.1,
          144.5,
          149,
          152.2,
          127.4,
          155.1,
          126.4,
          143.1,
          148,
          173.9,
          159.7,
          163.9,
          158.2,
          140.5,
          169.1,
          151.7,
          149.6,
          161.9
         ],
         "xaxis": "x",
         "y": [
          36.8,
          58.8,
          57.1,
          50.8,
          78.7,
          49.1,
          13.2,
          54.1,
          69.5,
          58.4,
          2.4,
          56.3,
          64.8,
          69.2,
          56.4,
          47.6,
          55.9,
          41.8,
          57.6,
          61.7,
          71.1,
          78.5,
          65.9,
          83.8,
          31.5,
          74.4,
          68.4,
          44.7,
          81.8
         ],
         "yaxis": "y"
        }
       ],
       "layout": {
        "legend": {
         "title": {
          "text": "Time"
         },
         "tracegroupgap": 0
        },
        "template": {
         "data": {
          "candlestick": [
           {
            "decreasing": {
             "line": {
              "color": "#000033"
             }
            },
            "increasing": {
             "line": {
              "color": "#000032"
             }
            },
            "type": "candlestick"
           }
          ],
          "contour": [
           {
            "colorscale": [
             [
              0,
              "#000011"
             ],
             [
              0.1111111111111111,
              "#000012"
             ],
             [
              0.2222222222222222,
              "#000013"
             ],
             [
              0.3333333333333333,
              "#000014"
             ],
             [
              0.4444444444444444,
              "#000015"
             ],
             [
              0.5555555555555556,
              "#000016"
             ],
             [
              0.6666666666666666,
              "#000017"
             ],
             [
              0.7777777777777778,
              "#000018"
             ],
             [
              0.8888888888888888,
              "#000019"
             ],
             [
              1,
              "#000020"
             ]
            ],
            "type": "contour"
           }
          ],
          "contourcarpet": [
           {
            "colorscale": [
             [
              0,
              "#000011"
             ],
             [
              0.1111111111111111,
              "#000012"
             ],
             [
              0.2222222222222222,
              "#000013"
             ],
             [
              0.3333333333333333,
              "#000014"
             ],
             [
              0.4444444444444444,
              "#000015"
             ],
             [
              0.5555555555555556,
              "#000016"
             ],
             [
              0.6666666666666666,
              "#000017"
             ],
             [
              0.7777777777777778,
              "#000018"
             ],
             [
              0.8888888888888888,
              "#000019"
             ],
             [
              1,
              "#000020"
             ]
            ],
            "type": "contourcarpet"
           }
          ],
          "heatmap": [
           {
            "colorscale": [
             [
              0,
              "#000011"
             ],
             [
              0.1111111111111111,
              "#000012"
             ],
             [
              0.2222222222222222,
              "#000013"
             ],
             [
              0.3333333333333333,
              "#000014"
             ],
             [
              0.4444444444444444,
              "#000015"
             ],
             [
              0.5555555555555556,
              "#000016"
             ],
             [
              0.6666666666666666,
              "#000017"
             ],
             [
              0.7777777777777778,
              "#000018"
             ],
             [
              0.8888888888888888,
              "#000019"
             ],
             [
              1,
              "#000020"
             ]
            ],
            "type": "heatmap"
           }
          ],
          "histogram2d": [
           {
            "colorscale": [
             [
              0,
              "#000011"
             ],
             [
              0.1111111111111111,
              "#000012"
             ],
             [
              0.2222222222222222,
              "#000013"
             ],
             [
              0.3333333333333333,
              "#000014"
             ],
             [
              0.4444444444444444,
              "#000015"
             ],
             [
              0.5555555555555556,
              "#000016"
             ],
             [
              0.6666666666666666,
              "#000017"
             ],
             [
              0.7777777777777778,
              "#000018"
             ],
             [
              0.8888888888888888,
              "#000019"
             ],
             [
              1,
              "#000020"
             ]
            ],
            "type": "histogram2d"
           }
          ],
          "icicle": [
           {
            "textfont": {
             "color": "white"
            },
            "type": "icicle"
           }
          ],
          "sankey": [
           {
            "textfont": {
             "color": "#000036"
            },
            "type": "sankey"
           }
          ],
          "scatter": [
           {
            "marker": {
             "line": {
              "width": 0
             }
            },
            "type": "scatter"
           }
          ],
          "table": [
           {
            "cells": {
             "fill": {
              "color": "#000038"
             },
             "font": {
              "color": "#000037"
             },
             "line": {
              "color": "#000039"
             }
            },
            "header": {
             "fill": {
              "color": "#000040"
             },
             "font": {
              "color": "#000036"
             },
             "line": {
              "color": "#000039"
             }
            },
            "type": "table"
           }
          ],
          "waterfall": [
           {
            "connector": {
             "line": {
              "color": "#000036",
              "width": 2
             }
            },
            "decreasing": {
             "marker": {
              "color": "#000033"
             }
            },
            "increasing": {
             "marker": {
              "color": "#000032"
             }
            },
            "totals": {
             "marker": {
              "color": "#000034"
             }
            },
            "type": "waterfall"
           }
          ]
         },
         "layout": {
          "coloraxis": {
           "colorscale": [
            [
             0,
             "#000011"
            ],
            [
             0.1111111111111111,
             "#000012"
            ],
            [
             0.2222222222222222,
             "#000013"
            ],
            [
             0.3333333333333333,
             "#000014"
            ],
            [
             0.4444444444444444,
             "#000015"
            ],
            [
             0.5555555555555556,
             "#000016"
            ],
            [
             0.6666666666666666,
             "#000017"
            ],
            [
             0.7777777777777778,
             "#000018"
            ],
            [
             0.8888888888888888,
             "#000019"
            ],
            [
             1,
             "#000020"
            ]
           ]
          },
          "colorscale": {
           "diverging": [
            [
             0,
             "#000021"
            ],
            [
             0.1,
             "#000022"
            ],
            [
             0.2,
             "#000023"
            ],
            [
             0.3,
             "#000024"
            ],
            [
             0.4,
             "#000025"
            ],
            [
             0.5,
             "#000026"
            ],
            [
             0.6,
             "#000027"
            ],
            [
             0.7,
             "#000028"
            ],
            [
             0.8,
             "#000029"
            ],
            [
             0.9,
             "#000030"
            ],
            [
             1,
             "#000031"
            ]
           ],
           "sequential": [
            [
             0,
             "#000011"
            ],
            [
             0.1111111111111111,
             "#000012"
            ],
            [
             0.2222222222222222,
             "#000013"
            ],
            [
             0.3333333333333333,
             "#000014"
            ],
            [
             0.4444444444444444,
             "#000015"
            ],
            [
             0.5555555555555556,
             "#000016"
            ],
            [
             0.6666666666666666,
             "#000017"
            ],
            [
             0.7777777777777778,
             "#000018"
            ],
            [
             0.8888888888888888,
             "#000019"
            ],
            [
             1,
             "#000020"
            ]
           ],
           "sequentialminus": [
            [
             0,
             "#000011"
            ],
            [
             0.1111111111111111,
             "#000012"
            ],
            [
             0.2222222222222222,
             "#000013"
            ],
            [
             0.3333333333333333,
             "#000014"
            ],
            [
             0.4444444444444444,
             "#000015"
            ],
            [
             0.5555555555555556,
             "#000016"
            ],
            [
             0.6666666666666666,
             "#000017"
            ],
            [
             0.7777777777777778,
             "#000018"
            ],
            [
             0.8888888888888888,
             "#000019"
            ],
            [
             1,
             "#000020"
            ]
           ]
          },
          "colorway": [
           "#000001",
           "#000002",
           "#000003",
           "#000004",
           "#000005",
           "#000006",
           "#000007",
           "#000008",
           "#000009",
           "#000010"
          ]
         }
        },
        "title": {
         "text": "Height vs Carry(yds)"
        },
        "xaxis": {
         "anchor": "y",
         "domain": [
          0,
          1
         ],
         "title": {
          "text": "Carry yds"
         }
        },
        "yaxis": {
         "anchor": "x",
         "domain": [
          0,
          1
         ],
         "title": {
          "text": "Height ft"
         }
        }
       }
      }
     },
     "metadata": {},
     "output_type": "display_data"
    }
   ],
   "source": [
    "fig2 = px.scatter(df, x=\"Carry yds\", y='Height ft', color='Time', title=\"Height vs Carry(yds)\",color_discrete_sequence=px.colors.qualitative.Bold,hover_data=['Shot Type','Club'])\n",
    "fig2.show()"
   ]
  },
  {
   "cell_type": "code",
   "execution_count": 53,
   "metadata": {},
   "outputs": [
    {
     "data": {
      "application/vnd.plotly.v1+json": {
       "config": {
        "plotlyServerURL": "https://plot.ly"
       },
       "data": [
        {
         "customdata": [
          [
           "Pull",
           "7 Iron"
          ],
          [
           "Fade",
           "7 Iron"
          ],
          [
           "Pull/Draw",
           "7 Iron"
          ],
          [
           "Pull/Fade",
           "7 Iron"
          ],
          [
           "Pull/Fade",
           "7 Iron"
          ],
          [
           "Pull/Fade",
           "7 Iron"
          ],
          [
           "Pull/Fade",
           "7 Iron"
          ],
          [
           "Pull/Fade",
           "7 Iron"
          ],
          [
           "Pull",
           "7 Iron"
          ],
          [
           "Pull",
           "7 Iron"
          ],
          [
           "Pull",
           "7 Iron"
          ],
          [
           "Pull/Fade",
           "7 Iron"
          ],
          [
           "Pull/Fade",
           "7 Iron"
          ],
          [
           "Pull/Draw",
           "7 Iron"
          ],
          [
           "Pull/Draw",
           "7 Iron"
          ],
          [
           "Fade",
           "7 Iron"
          ],
          [
           "Pull/Fade",
           "7 Iron"
          ],
          [
           "Fade",
           "7 Iron"
          ],
          [
           "Pull/Fade",
           "7 Iron"
          ],
          [
           "Pull/Fade",
           "7 Iron"
          ],
          [
           "Pull",
           "7 Iron"
          ],
          [
           "Push/Slice",
           "7 Iron"
          ]
         ],
         "hovertemplate": "Time=2024-11-03 14:56:00<br>Club mph=%{x}<br>Ball mph=%{y}<br>Shot Type=%{customdata[0]}<br>Club=%{customdata[1]}<extra></extra>",
         "legendgroup": "2024-11-03 14:56:00",
         "marker": {
          "color": "rgb(127, 60, 141)",
          "symbol": "circle"
         },
         "mode": "markers",
         "name": "2024-11-03 14:56:00",
         "orientation": "v",
         "showlegend": true,
         "type": "scatter",
         "x": [
          null,
          76.8,
          79.5,
          79.1,
          77.9,
          79.2,
          82.4,
          82.6,
          80.3,
          79.5,
          84.9,
          79.7,
          81,
          83.1,
          84.3,
          86.7,
          80.9,
          79.3,
          80.5,
          79.3,
          75.7,
          75
         ],
         "xaxis": "x",
         "y": [
          82.7,
          83.2,
          85.2,
          93.6,
          93.8,
          100.8,
          88.8,
          107.9,
          102.7,
          96.8,
          106.3,
          100.8,
          102.8,
          92.6,
          102.5,
          107.1,
          102.4,
          90.4,
          102,
          94.1,
          79.1,
          81.9
         ],
         "yaxis": "y"
        },
        {
         "hovertemplate": "<b>OLS trendline</b><br>Ball mph = 2.17521 * Club mph + -78.8714<br>R<sup>2</sup>=0.535629<br><br>Time=2024-11-03 14:56:00<br>Club mph=%{x}<br>Ball mph=%{y} <b>(trend)</b><extra></extra>",
         "legendgroup": "2024-11-03 14:56:00",
         "marker": {
          "color": "rgb(127, 60, 141)",
          "symbol": "circle"
         },
         "mode": "lines",
         "name": "2024-11-03 14:56:00",
         "showlegend": false,
         "type": "scatter",
         "x": [
          75,
          75.7,
          76.8,
          77.9,
          79.1,
          79.2,
          79.3,
          79.3,
          79.5,
          79.5,
          79.7,
          80.3,
          80.5,
          80.9,
          81,
          82.4,
          82.6,
          83.1,
          84.3,
          84.9,
          86.7
         ],
         "xaxis": "x",
         "y": [
          84.2692365005293,
          85.7918826712677,
          88.18461236814233,
          90.57734206501698,
          93.18759264342563,
          93.40511352495972,
          93.62263440649375,
          93.62263440649375,
          94.05767616956186,
          94.05767616956186,
          94.49271793263,
          95.79784322183431,
          96.23288498490246,
          97.10296851103868,
          97.32048939257274,
          100.36578173404953,
          100.80082349711762,
          101.8884279047879,
          104.49867848319661,
          105.80380377240095,
          109.71917964001398
         ],
         "yaxis": "y"
        },
        {
         "customdata": [
          [
           "Fade",
           "7 Iron"
          ],
          [
           "Straight",
           "7 Iron"
          ],
          [
           "Draw",
           "7 Iron"
          ],
          [
           "Straight",
           "7 Iron"
          ],
          [
           "Fade",
           "7 Iron"
          ],
          [
           "Straight",
           "7 Iron"
          ],
          [
           "Draw",
           "7 Iron"
          ],
          [
           "Fade",
           "7 Iron"
          ],
          [
           "Straight",
           "7 Iron"
          ],
          [
           "Push/Fade",
           "7 Iron"
          ],
          [
           "Fade",
           "7 Iron"
          ],
          [
           "Straight",
           "7 Iron"
          ],
          [
           "Straight",
           "7 Iron"
          ],
          [
           "Straight",
           "7 Iron"
          ],
          [
           "Push/Fade",
           "7 Iron"
          ],
          [
           "Draw",
           "7 Iron"
          ],
          [
           "Draw",
           "7 Iron"
          ],
          [
           "Straight",
           "7 Iron"
          ],
          [
           "Fade",
           "7 Iron"
          ],
          [
           "Push/Fade",
           "7 Iron"
          ],
          [
           "Pull/Draw",
           "7 Iron"
          ],
          [
           "Pull/Draw",
           "7 Iron"
          ],
          [
           "Push/Fade",
           "7 Iron"
          ],
          [
           "Fade",
           "7 Iron"
          ],
          [
           "Pull",
           "7 Iron"
          ],
          [
           "Fade",
           "7 Iron"
          ],
          [
           "Straight",
           "7 Iron"
          ],
          [
           "Straight",
           "7 Iron"
          ],
          [
           "Fade",
           "7 Iron"
          ],
          [
           "Fade",
           "7 Iron"
          ],
          [
           "Push/Fade",
           "7 Iron"
          ],
          [
           "Straight",
           "7 Iron"
          ],
          [
           "Straight",
           "7 Iron"
          ]
         ],
         "hovertemplate": "Time=2024-11-03 20:05:00<br>Club mph=%{x}<br>Ball mph=%{y}<br>Shot Type=%{customdata[0]}<br>Club=%{customdata[1]}<extra></extra>",
         "legendgroup": "2024-11-03 20:05:00",
         "marker": {
          "color": "rgb(17, 165, 121)",
          "symbol": "circle"
         },
         "mode": "markers",
         "name": "2024-11-03 20:05:00",
         "orientation": "v",
         "showlegend": true,
         "type": "scatter",
         "x": [
          86.6,
          87.9,
          84.5,
          80.9,
          80.5,
          87.8,
          86,
          89.7,
          88.9,
          87,
          86.6,
          87.3,
          88.1,
          88.9,
          87.5,
          85.2,
          84.1,
          85.4,
          85.2,
          44.7,
          43.3,
          45.4,
          74.7,
          78.9,
          81.8,
          82.3,
          82.1,
          85.3,
          85.9,
          88.2,
          85,
          84.9,
          87.3
         ],
         "xaxis": "x",
         "y": [
          118.4,
          122,
          102.3,
          117.9,
          101.4,
          114.2,
          98.5,
          97.5,
          120.8,
          112.3,
          120,
          118.5,
          114.9,
          105.6,
          117.3,
          94.2,
          98.3,
          107.1,
          123.4,
          54.1,
          60.9,
          61.3,
          94.5,
          91.4,
          90.4,
          101,
          87.9,
          96.1,
          117.4,
          118.5,
          101.5,
          86.4,
          110.8
         ],
         "yaxis": "y"
        },
        {
         "hovertemplate": "<b>OLS trendline</b><br>Ball mph = 1.21821 * Club mph + 3.10232<br>R<sup>2</sup>=0.708579<br><br>Time=2024-11-03 20:05:00<br>Club mph=%{x}<br>Ball mph=%{y} <b>(trend)</b><extra></extra>",
         "legendgroup": "2024-11-03 20:05:00",
         "marker": {
          "color": "rgb(17, 165, 121)",
          "symbol": "circle"
         },
         "mode": "lines",
         "name": "2024-11-03 20:05:00",
         "showlegend": false,
         "type": "scatter",
         "x": [
          43.3,
          44.7,
          45.4,
          74.7,
          78.9,
          80.5,
          80.9,
          81.8,
          82.1,
          82.3,
          84.1,
          84.5,
          84.9,
          85,
          85.2,
          85.2,
          85.3,
          85.4,
          85.9,
          86,
          86.6,
          86.6,
          87,
          87.3,
          87.3,
          87.5,
          87.8,
          87.9,
          88.1,
          88.2,
          88.9,
          88.9,
          89.7
         ],
         "xaxis": "x",
         "y": [
          55.850761883198906,
          57.55625417946278,
          58.40900032759471,
          94.10251767083138,
          99.21899455962297,
          101.16812861249596,
          101.65541212571422,
          102.75180003045526,
          103.11726266536894,
          103.36090442197808,
          105.55368023146018,
          106.04096374467844,
          106.5282472578967,
          106.65006813620124,
          106.89370989281038,
          106.89370989281038,
          107.01553077111492,
          107.1373516494195,
          107.7464560409423,
          107.86827691924687,
          108.59920218907423,
          108.59920218907423,
          109.08648570229249,
          109.45194833720618,
          109.45194833720618,
          109.6955900938153,
          110.06105272872898,
          110.18287360703356,
          110.42651536364266,
          110.54833624194724,
          111.40108239007917,
          111.40108239007917,
          112.37564941651567
         ],
         "yaxis": "y"
        },
        {
         "customdata": [
          [
           "Draw",
           "7 Iron"
          ],
          [
           "Pull/Draw",
           "7 Iron"
          ],
          [
           "Draw",
           "7 Iron"
          ],
          [
           "Straight",
           "7 Iron"
          ],
          [
           "Draw",
           "7 Iron"
          ],
          [
           "Pull/Draw",
           "7 Iron"
          ],
          [
           "Fade",
           "7 Iron"
          ],
          [
           "Fade",
           "7 Iron"
          ],
          [
           "Straight",
           "7 Iron"
          ],
          [
           "Fade",
           "7 Iron"
          ],
          [
           "Pull",
           "7 Iron"
          ],
          [
           "Pull",
           "7 Iron"
          ],
          [
           "Fade",
           "7 Iron"
          ],
          [
           "Pull/Fade",
           "7 Iron"
          ],
          [
           "Fade",
           "7 Iron"
          ],
          [
           "Fade",
           "7 Iron"
          ],
          [
           "Pull",
           "7 Iron"
          ],
          [
           "Draw",
           "7 Iron"
          ],
          [
           "Fade",
           "7 Iron"
          ],
          [
           "Fade",
           "7 Iron"
          ],
          [
           "Pull/Draw",
           "7 Iron"
          ],
          [
           "Pull/Draw",
           "7 Iron"
          ],
          [
           "Pull/Draw",
           "7 Iron"
          ],
          [
           "Fade",
           "7 Iron"
          ],
          [
           "Pull/Draw",
           "7 Iron"
          ],
          [
           "Straight",
           "7 Iron"
          ],
          [
           "Straight",
           "7 Iron"
          ],
          [
           "Fade",
           "7 Iron"
          ],
          [
           "Push/Fade",
           "7 Iron"
          ],
          [
           "Draw",
           "7 Iron"
          ],
          [
           "Fade",
           "7 Iron"
          ],
          [
           "Fade",
           "7 Iron"
          ],
          [
           "Fade",
           "7 Iron"
          ],
          [
           "Fade",
           "7 Iron"
          ],
          [
           "Fade",
           "7 Iron"
          ],
          [
           "Fade",
           "7 Iron"
          ],
          [
           "Pull",
           "7 Iron"
          ],
          [
           "Straight",
           "7 Iron"
          ],
          [
           "Straight",
           "7 Iron"
          ],
          [
           "Fade",
           "7 Iron"
          ],
          [
           "Push/Fade",
           "7 Iron"
          ],
          [
           "Draw",
           "7 Iron"
          ],
          [
           "Draw",
           "7 Iron"
          ],
          [
           "Draw",
           "7 Iron"
          ],
          [
           "Draw",
           "7 Iron"
          ],
          [
           "Draw",
           "7 Iron"
          ],
          [
           "Straight",
           "7 Iron"
          ],
          [
           "Fade",
           "7 Iron"
          ],
          [
           "Draw",
           "7 Iron"
          ],
          [
           "Pull/Draw",
           "7 Iron"
          ],
          [
           "Push/Fade",
           "7 Iron"
          ],
          [
           "Draw",
           "7 Iron"
          ],
          [
           "Straight",
           "7 Iron"
          ],
          [
           "Fade",
           "7 Iron"
          ],
          [
           "Pull/Draw",
           "7 Iron"
          ],
          [
           "Fade",
           "7 Iron"
          ],
          [
           "Pull/Fade",
           "7 Iron"
          ],
          [
           "Pull/Fade",
           "7 Iron"
          ],
          [
           "Pull/Fade",
           "7 Iron"
          ],
          [
           "Pull/Fade",
           "7 Iron"
          ],
          [
           "Pull/Fade",
           "7 Iron"
          ],
          [
           "Pull/Fade",
           "7 Iron"
          ],
          [
           "Pull/Fade",
           "7 Iron"
          ],
          [
           "Fade",
           "7 Iron"
          ],
          [
           "Fade",
           "7 Iron"
          ],
          [
           "Pull/Fade",
           "7 Iron"
          ],
          [
           "Pull/Fade",
           "7 Iron"
          ],
          [
           "Pull/Fade",
           "7 Iron"
          ],
          [
           "Fade",
           "7 Iron"
          ],
          [
           "Pull/Fade",
           "7 Iron"
          ]
         ],
         "hovertemplate": "Time=2024-11-10 14:56:00<br>Club mph=%{x}<br>Ball mph=%{y}<br>Shot Type=%{customdata[0]}<br>Club=%{customdata[1]}<extra></extra>",
         "legendgroup": "2024-11-10 14:56:00",
         "marker": {
          "color": "rgb(57, 105, 172)",
          "symbol": "circle"
         },
         "mode": "markers",
         "name": "2024-11-10 14:56:00",
         "orientation": "v",
         "showlegend": true,
         "type": "scatter",
         "x": [
          76.4,
          75.3,
          71.9,
          72.7,
          76,
          74.8,
          73.2,
          66.7,
          67.6,
          76.4,
          87.7,
          86.8,
          83.4,
          86.7,
          86.8,
          87.5,
          84.7,
          87.4,
          85.1,
          80.3,
          87.3,
          84.4,
          90,
          84.7,
          81.6,
          81.3,
          82.6,
          85.8,
          86.1,
          85.5,
          87.8,
          90.6,
          89.2,
          88.9,
          88.1,
          87.7,
          83.5,
          88.5,
          90.1,
          88.4,
          88.1,
          89.8,
          87.7,
          88,
          89,
          87.2,
          89.6,
          87,
          89.2,
          86.8,
          87.3,
          89.2,
          93.6,
          52.1,
          87.6,
          85.1,
          87.2,
          87.1,
          89.2,
          85.8,
          86.8,
          83.9,
          85.8,
          78.7,
          88.7,
          84.9,
          82.8,
          80.2,
          82.8,
          86.9
         ],
         "xaxis": "x",
         "y": [
          96.6,
          100.4,
          105.9,
          82.5,
          97.8,
          91.7,
          100.3,
          88.8,
          93.2,
          105.9,
          93.9,
          92,
          109.1,
          116.3,
          121.6,
          122.8,
          104,
          112.3,
          101.8,
          103.2,
          92.8,
          114.3,
          118.8,
          116.9,
          103.4,
          109.9,
          114,
          114.9,
          112.8,
          110.4,
          117.5,
          111.7,
          112.7,
          121.9,
          118.8,
          115.7,
          116.5,
          123.8,
          95.6,
          119.6,
          113.6,
          105.8,
          122.5,
          129.3,
          126.7,
          123.4,
          89.6,
          119.6,
          110.6,
          102,
          120.9,
          109.6,
          96.3,
          62.9,
          105.2,
          113.5,
          94,
          101.2,
          111.8,
          118.2,
          103.7,
          109.6,
          118.4,
          97.9,
          117.5,
          100.6,
          106.4,
          102.8,
          101,
          93.7
         ],
         "yaxis": "y"
        },
        {
         "hovertemplate": "<b>OLS trendline</b><br>Ball mph = 1.07176 * Club mph + 17.4333<br>R<sup>2</sup>=0.370184<br><br>Time=2024-11-10 14:56:00<br>Club mph=%{x}<br>Ball mph=%{y} <b>(trend)</b><extra></extra>",
         "legendgroup": "2024-11-10 14:56:00",
         "marker": {
          "color": "rgb(57, 105, 172)",
          "symbol": "circle"
         },
         "mode": "lines",
         "name": "2024-11-10 14:56:00",
         "showlegend": false,
         "type": "scatter",
         "x": [
          52.1,
          66.7,
          67.6,
          71.9,
          72.7,
          73.2,
          74.8,
          75.3,
          76,
          76.4,
          76.4,
          78.7,
          80.2,
          80.3,
          81.3,
          81.6,
          82.6,
          82.8,
          82.8,
          83.4,
          83.5,
          83.9,
          84.4,
          84.7,
          84.7,
          84.9,
          85.1,
          85.1,
          85.5,
          85.8,
          85.8,
          85.8,
          86.1,
          86.7,
          86.8,
          86.8,
          86.8,
          86.8,
          86.9,
          87,
          87.1,
          87.2,
          87.2,
          87.3,
          87.3,
          87.4,
          87.5,
          87.6,
          87.7,
          87.7,
          87.7,
          87.8,
          88,
          88.1,
          88.1,
          88.4,
          88.5,
          88.7,
          88.9,
          89,
          89.2,
          89.2,
          89.2,
          89.2,
          89.6,
          89.8,
          90,
          90.1,
          90.6,
          93.6
         ],
         "xaxis": "x",
         "y": [
          73.27176987068034,
          88.91940496492506,
          89.88398521046068,
          94.49253527246427,
          95.34993993516261,
          95.88581784934908,
          97.60062717474574,
          98.13650508893221,
          98.88673416879325,
          99.31543650014243,
          99.31543650014243,
          101.78047490540015,
          103.38810864795954,
          103.49528423079684,
          104.56704005916976,
          104.88856680768163,
          105.96032263605454,
          106.17467380172914,
          106.17467380172914,
          106.81772729875291,
          106.92490288159019,
          107.35360521293936,
          107.88948312712583,
          108.2110098756377,
          108.2110098756377,
          108.4253610413123,
          108.63971220698687,
          108.63971220698687,
          109.06841453833604,
          109.38994128684791,
          109.38994128684791,
          109.38994128684791,
          109.71146803535979,
          110.35452153238356,
          110.46169711522083,
          110.46169711522083,
          110.46169711522083,
          110.46169711522083,
          110.56887269805813,
          110.67604828089543,
          110.78322386373273,
          110.89039944657003,
          110.89039944657003,
          110.9975750294073,
          110.9975750294073,
          111.1047506122446,
          111.2119261950819,
          111.31910177791917,
          111.42627736075647,
          111.42627736075647,
          111.42627736075647,
          111.53345294359377,
          111.74780410926834,
          111.85497969210564,
          111.85497969210564,
          112.17650644061754,
          112.28368202345482,
          112.49803318912942,
          112.71238435480399,
          112.81955993764129,
          113.03391110331586,
          113.03391110331586,
          113.03391110331586,
          113.03391110331586,
          113.46261343466503,
          113.67696460033963,
          113.8913157660142,
          113.9984913488515,
          114.53436926303795,
          117.74963674815672
         ],
         "yaxis": "y"
        },
        {
         "customdata": [
          [
           "Fade",
           "7 Iron"
          ],
          [
           "Fade",
           "7 Iron"
          ],
          [
           "Fade",
           "7 Iron"
          ],
          [
           "Fade",
           "7 Iron"
          ],
          [
           "Fade",
           "7 Iron"
          ],
          [
           "Pull",
           "7 Iron"
          ],
          [
           "Fade",
           "7 Iron"
          ],
          [
           "Fade",
           "7 Iron"
          ],
          [
           "Pull",
           "7 Iron"
          ],
          [
           "Fade",
           "7 Iron"
          ],
          [
           "Fade",
           "7 Iron"
          ]
         ],
         "hovertemplate": "Time=2024-11-17 10:57:00<br>Club mph=%{x}<br>Ball mph=%{y}<br>Shot Type=%{customdata[0]}<br>Club=%{customdata[1]}<extra></extra>",
         "legendgroup": "2024-11-17 10:57:00",
         "marker": {
          "color": "rgb(242, 183, 1)",
          "symbol": "circle"
         },
         "mode": "markers",
         "name": "2024-11-17 10:57:00",
         "orientation": "v",
         "showlegend": true,
         "type": "scatter",
         "x": [
          75.4,
          77,
          74.6,
          76.1,
          74.1,
          76.2,
          79.5,
          81.7,
          78.1,
          79.5,
          83.9
         ],
         "xaxis": "x",
         "y": [
          91.1,
          94.8,
          94.1,
          99.5,
          87.8,
          87.2,
          101.3,
          105,
          87.6,
          96.6,
          102.7
         ],
         "yaxis": "y"
        },
        {
         "hovertemplate": "<b>OLS trendline</b><br>Ball mph = 1.49876 * Club mph + -21.3992<br>R<sup>2</sup>=0.522185<br><br>Time=2024-11-17 10:57:00<br>Club mph=%{x}<br>Ball mph=%{y} <b>(trend)</b><extra></extra>",
         "legendgroup": "2024-11-17 10:57:00",
         "marker": {
          "color": "rgb(242, 183, 1)",
          "symbol": "circle"
         },
         "mode": "lines",
         "name": "2024-11-17 10:57:00",
         "showlegend": false,
         "type": "scatter",
         "x": [
          74.1,
          74.6,
          75.4,
          76.1,
          76.2,
          77,
          78.1,
          79.5,
          79.5,
          81.7,
          83.9
         ],
         "xaxis": "x",
         "y": [
          89.65915645416939,
          90.40853790543935,
          91.6075482274713,
          92.65668225924922,
          92.80655854950322,
          94.00556887153515,
          95.65420806432904,
          97.75247612788493,
          97.75247612788493,
          101.04975451347275,
          104.34703289906055
         ],
         "yaxis": "y"
        },
        {
         "customdata": [
          [
           "Fade",
           "7 Iron"
          ],
          [
           "Fade",
           "7 Iron"
          ],
          [
           "Fade",
           "7 Iron"
          ],
          [
           "Pull/Fade",
           "7 Iron"
          ],
          [
           "Fade",
           "7 Iron"
          ],
          [
           "Pull/Fade",
           "7 Iron"
          ],
          [
           "Fade",
           "7 Iron"
          ],
          [
           "Pull",
           "7 Iron"
          ],
          [
           "Fade",
           "7 Iron"
          ],
          [
           "Fade",
           "7 Iron"
          ],
          [
           "Pull",
           "7 Iron"
          ],
          [
           "Fade",
           "7 Iron"
          ],
          [
           "Straight",
           "7 Iron"
          ],
          [
           "Pull/Draw",
           "7 Iron"
          ],
          [
           "Fade",
           "7 Iron"
          ],
          [
           "Pull",
           "7 Iron"
          ],
          [
           "Straight",
           "7 Iron"
          ],
          [
           "Straight",
           "7 Iron"
          ]
         ],
         "hovertemplate": "Time=2024-11-17 16:49:00<br>Club mph=%{x}<br>Ball mph=%{y}<br>Shot Type=%{customdata[0]}<br>Club=%{customdata[1]}<extra></extra>",
         "legendgroup": "2024-11-17 16:49:00",
         "marker": {
          "color": "rgb(231, 63, 116)",
          "symbol": "circle"
         },
         "mode": "markers",
         "name": "2024-11-17 16:49:00",
         "orientation": "v",
         "showlegend": true,
         "type": "scatter",
         "x": [
          77.1,
          75.8,
          73.9,
          76.1,
          76.2,
          76.8,
          77.9,
          78.3,
          71.3,
          77.2,
          77.6,
          81,
          78,
          77.5,
          74.7,
          82.4,
          80.1,
          80.1
         ],
         "xaxis": "x",
         "y": [
          98.6,
          91.8,
          101.3,
          86.7,
          98.9,
          103.9,
          105.7,
          93,
          94,
          103.8,
          90.3,
          104.8,
          90.1,
          92.6,
          104.3,
          113.8,
          91.6,
          107.5
         ],
         "yaxis": "y"
        },
        {
         "hovertemplate": "<b>OLS trendline</b><br>Ball mph = 1.02216 * Club mph + 19.436<br>R<sup>2</sup>=0.127136<br><br>Time=2024-11-17 16:49:00<br>Club mph=%{x}<br>Ball mph=%{y} <b>(trend)</b><extra></extra>",
         "legendgroup": "2024-11-17 16:49:00",
         "marker": {
          "color": "rgb(231, 63, 116)",
          "symbol": "circle"
         },
         "mode": "lines",
         "name": "2024-11-17 16:49:00",
         "showlegend": false,
         "type": "scatter",
         "x": [
          71.3,
          73.9,
          74.7,
          75.8,
          76.1,
          76.2,
          76.8,
          77.1,
          77.2,
          77.5,
          77.6,
          77.9,
          78,
          78.3,
          80.1,
          80.1,
          81,
          82.4
         ],
         "xaxis": "x",
         "y": [
          92.31628159050751,
          94.97390609846578,
          95.7916367162991,
          96.91601631581989,
          97.22266529750738,
          97.32488162473655,
          97.93817958811152,
          98.24482856979901,
          98.34704489702818,
          98.65369387871567,
          98.75591020594483,
          99.06255918763233,
          99.1647755148615,
          99.47142449654899,
          101.31131838667393,
          101.31131838667393,
          102.23126533173641,
          103.66229391294472
         ],
         "yaxis": "y"
        },
        {
         "customdata": [
          [
           "Push/Fade",
           "7 Iron"
          ],
          [
           "Push/Fade",
           "7 Iron"
          ],
          [
           "Push",
           "7 Iron"
          ],
          [
           "Straight",
           "7 Iron"
          ],
          [
           "Push",
           "7 Iron"
          ],
          [
           "Fade",
           "7 Iron"
          ],
          [
           "Fade",
           "7 Iron"
          ],
          [
           "Pull",
           "7 Iron"
          ],
          [
           "Fade",
           "7 Iron"
          ],
          [
           "Fade",
           "7 Iron"
          ],
          [
           "Fade",
           "7 Iron"
          ],
          [
           "Fade",
           "7 Iron"
          ],
          [
           "Fade",
           "7 Iron"
          ],
          [
           "Fade",
           "7 Iron"
          ],
          [
           "Fade",
           "7 Iron"
          ],
          [
           "Fade",
           "7 Iron"
          ],
          [
           "Pull/Draw",
           "7 Iron"
          ],
          [
           "Push/Slice",
           "7 Iron"
          ],
          [
           "Straight",
           "7 Iron"
          ],
          [
           "Fade",
           "7 Iron"
          ],
          [
           "Draw",
           "7 Iron"
          ],
          [
           "Push/Fade",
           "7 Iron"
          ],
          [
           "Straight",
           "7 Iron"
          ],
          [
           "Push",
           "7 Iron"
          ],
          [
           "Draw",
           "7 Iron"
          ],
          [
           "Draw",
           "7 Iron"
          ],
          [
           "Push/Fade",
           "7 Iron"
          ],
          [
           "Draw",
           "7 Iron"
          ],
          [
           "Straight",
           "7 Iron"
          ]
         ],
         "hovertemplate": "Time=2024-11-29 19:05:00<br>Club mph=%{x}<br>Ball mph=%{y}<br>Shot Type=%{customdata[0]}<br>Club=%{customdata[1]}<extra></extra>",
         "legendgroup": "2024-11-29 19:05:00",
         "marker": {
          "color": "rgb(128, 186, 90)",
          "symbol": "circle"
         },
         "mode": "markers",
         "name": "2024-11-29 19:05:00",
         "orientation": "v",
         "showlegend": true,
         "type": "scatter",
         "x": [
          82.2,
          80.5,
          83.9,
          84.6,
          88.1,
          77.3,
          82.9,
          77.6,
          78.1,
          82.3,
          81.8,
          76,
          81.2,
          79.9,
          80.6,
          74.5,
          88.8,
          86.5,
          83.4,
          83.9,
          84.9,
          81.9,
          86.7,
          81.1,
          84.2,
          84,
          83.3,
          82.6,
          86.3
         ],
         "xaxis": "x",
         "y": [
          112.3,
          107.4,
          111.8,
          101.8,
          114.7,
          102.4,
          113,
          97.1,
          105.3,
          108.5,
          95.1,
          97.2,
          104.1,
          106.5,
          109.5,
          96.9,
          111.2,
          98.2,
          104.2,
          106.5,
          120.1,
          112,
          116.1,
          111.8,
          108.8,
          117.1,
          109.1,
          110.4,
          113.3
         ],
         "yaxis": "y"
        },
        {
         "hovertemplate": "<b>OLS trendline</b><br>Ball mph = 1.09209 * Club mph + 17.6994<br>R<sup>2</sup>=0.331518<br><br>Time=2024-11-29 19:05:00<br>Club mph=%{x}<br>Ball mph=%{y} <b>(trend)</b><extra></extra>",
         "legendgroup": "2024-11-29 19:05:00",
         "marker": {
          "color": "rgb(128, 186, 90)",
          "symbol": "circle"
         },
         "mode": "lines",
         "name": "2024-11-29 19:05:00",
         "showlegend": false,
         "type": "scatter",
         "x": [
          74.5,
          76,
          77.3,
          77.6,
          78.1,
          79.9,
          80.5,
          80.6,
          81.1,
          81.2,
          81.8,
          81.9,
          82.2,
          82.3,
          82.6,
          82.9,
          83.3,
          83.4,
          83.9,
          83.9,
          84,
          84.2,
          84.6,
          84.9,
          86.3,
          86.5,
          86.7,
          88.1,
          88.8
         ],
         "xaxis": "x",
         "y": [
          99.06026661180803,
          100.69840485496788,
          102.1181246657064,
          102.44575231433838,
          102.99179839539165,
          104.95756428718349,
          105.61281958444742,
          105.72202880065807,
          106.26807488171136,
          106.37728409792201,
          107.03253939518595,
          107.14174861139662,
          107.46937626002858,
          107.57858547623924,
          107.9062131248712,
          108.23384077350319,
          108.6706776383458,
          108.77988685455647,
          109.32593293560974,
          109.32593293560974,
          109.4351421518204,
          109.65356058424172,
          110.09039744908434,
          110.41802509771631,
          111.9469541246655,
          112.16537255708681,
          112.38379098950813,
          113.91272001645731,
          114.6771845299319
         ],
         "yaxis": "y"
        }
       ],
       "layout": {
        "legend": {
         "title": {
          "text": "Time"
         },
         "tracegroupgap": 0
        },
        "template": {
         "data": {
          "candlestick": [
           {
            "decreasing": {
             "line": {
              "color": "#000033"
             }
            },
            "increasing": {
             "line": {
              "color": "#000032"
             }
            },
            "type": "candlestick"
           }
          ],
          "contour": [
           {
            "colorscale": [
             [
              0,
              "#000011"
             ],
             [
              0.1111111111111111,
              "#000012"
             ],
             [
              0.2222222222222222,
              "#000013"
             ],
             [
              0.3333333333333333,
              "#000014"
             ],
             [
              0.4444444444444444,
              "#000015"
             ],
             [
              0.5555555555555556,
              "#000016"
             ],
             [
              0.6666666666666666,
              "#000017"
             ],
             [
              0.7777777777777778,
              "#000018"
             ],
             [
              0.8888888888888888,
              "#000019"
             ],
             [
              1,
              "#000020"
             ]
            ],
            "type": "contour"
           }
          ],
          "contourcarpet": [
           {
            "colorscale": [
             [
              0,
              "#000011"
             ],
             [
              0.1111111111111111,
              "#000012"
             ],
             [
              0.2222222222222222,
              "#000013"
             ],
             [
              0.3333333333333333,
              "#000014"
             ],
             [
              0.4444444444444444,
              "#000015"
             ],
             [
              0.5555555555555556,
              "#000016"
             ],
             [
              0.6666666666666666,
              "#000017"
             ],
             [
              0.7777777777777778,
              "#000018"
             ],
             [
              0.8888888888888888,
              "#000019"
             ],
             [
              1,
              "#000020"
             ]
            ],
            "type": "contourcarpet"
           }
          ],
          "heatmap": [
           {
            "colorscale": [
             [
              0,
              "#000011"
             ],
             [
              0.1111111111111111,
              "#000012"
             ],
             [
              0.2222222222222222,
              "#000013"
             ],
             [
              0.3333333333333333,
              "#000014"
             ],
             [
              0.4444444444444444,
              "#000015"
             ],
             [
              0.5555555555555556,
              "#000016"
             ],
             [
              0.6666666666666666,
              "#000017"
             ],
             [
              0.7777777777777778,
              "#000018"
             ],
             [
              0.8888888888888888,
              "#000019"
             ],
             [
              1,
              "#000020"
             ]
            ],
            "type": "heatmap"
           }
          ],
          "histogram2d": [
           {
            "colorscale": [
             [
              0,
              "#000011"
             ],
             [
              0.1111111111111111,
              "#000012"
             ],
             [
              0.2222222222222222,
              "#000013"
             ],
             [
              0.3333333333333333,
              "#000014"
             ],
             [
              0.4444444444444444,
              "#000015"
             ],
             [
              0.5555555555555556,
              "#000016"
             ],
             [
              0.6666666666666666,
              "#000017"
             ],
             [
              0.7777777777777778,
              "#000018"
             ],
             [
              0.8888888888888888,
              "#000019"
             ],
             [
              1,
              "#000020"
             ]
            ],
            "type": "histogram2d"
           }
          ],
          "icicle": [
           {
            "textfont": {
             "color": "white"
            },
            "type": "icicle"
           }
          ],
          "sankey": [
           {
            "textfont": {
             "color": "#000036"
            },
            "type": "sankey"
           }
          ],
          "scatter": [
           {
            "marker": {
             "line": {
              "width": 0
             }
            },
            "type": "scatter"
           }
          ],
          "table": [
           {
            "cells": {
             "fill": {
              "color": "#000038"
             },
             "font": {
              "color": "#000037"
             },
             "line": {
              "color": "#000039"
             }
            },
            "header": {
             "fill": {
              "color": "#000040"
             },
             "font": {
              "color": "#000036"
             },
             "line": {
              "color": "#000039"
             }
            },
            "type": "table"
           }
          ],
          "waterfall": [
           {
            "connector": {
             "line": {
              "color": "#000036",
              "width": 2
             }
            },
            "decreasing": {
             "marker": {
              "color": "#000033"
             }
            },
            "increasing": {
             "marker": {
              "color": "#000032"
             }
            },
            "totals": {
             "marker": {
              "color": "#000034"
             }
            },
            "type": "waterfall"
           }
          ]
         },
         "layout": {
          "coloraxis": {
           "colorscale": [
            [
             0,
             "#000011"
            ],
            [
             0.1111111111111111,
             "#000012"
            ],
            [
             0.2222222222222222,
             "#000013"
            ],
            [
             0.3333333333333333,
             "#000014"
            ],
            [
             0.4444444444444444,
             "#000015"
            ],
            [
             0.5555555555555556,
             "#000016"
            ],
            [
             0.6666666666666666,
             "#000017"
            ],
            [
             0.7777777777777778,
             "#000018"
            ],
            [
             0.8888888888888888,
             "#000019"
            ],
            [
             1,
             "#000020"
            ]
           ]
          },
          "colorscale": {
           "diverging": [
            [
             0,
             "#000021"
            ],
            [
             0.1,
             "#000022"
            ],
            [
             0.2,
             "#000023"
            ],
            [
             0.3,
             "#000024"
            ],
            [
             0.4,
             "#000025"
            ],
            [
             0.5,
             "#000026"
            ],
            [
             0.6,
             "#000027"
            ],
            [
             0.7,
             "#000028"
            ],
            [
             0.8,
             "#000029"
            ],
            [
             0.9,
             "#000030"
            ],
            [
             1,
             "#000031"
            ]
           ],
           "sequential": [
            [
             0,
             "#000011"
            ],
            [
             0.1111111111111111,
             "#000012"
            ],
            [
             0.2222222222222222,
             "#000013"
            ],
            [
             0.3333333333333333,
             "#000014"
            ],
            [
             0.4444444444444444,
             "#000015"
            ],
            [
             0.5555555555555556,
             "#000016"
            ],
            [
             0.6666666666666666,
             "#000017"
            ],
            [
             0.7777777777777778,
             "#000018"
            ],
            [
             0.8888888888888888,
             "#000019"
            ],
            [
             1,
             "#000020"
            ]
           ],
           "sequentialminus": [
            [
             0,
             "#000011"
            ],
            [
             0.1111111111111111,
             "#000012"
            ],
            [
             0.2222222222222222,
             "#000013"
            ],
            [
             0.3333333333333333,
             "#000014"
            ],
            [
             0.4444444444444444,
             "#000015"
            ],
            [
             0.5555555555555556,
             "#000016"
            ],
            [
             0.6666666666666666,
             "#000017"
            ],
            [
             0.7777777777777778,
             "#000018"
            ],
            [
             0.8888888888888888,
             "#000019"
            ],
            [
             1,
             "#000020"
            ]
           ]
          },
          "colorway": [
           "#000001",
           "#000002",
           "#000003",
           "#000004",
           "#000005",
           "#000006",
           "#000007",
           "#000008",
           "#000009",
           "#000010"
          ]
         }
        },
        "title": {
         "text": "Smash Factor by 'Color'"
        },
        "xaxis": {
         "anchor": "y",
         "domain": [
          0,
          1
         ],
         "title": {
          "text": "Club mph"
         }
        },
        "yaxis": {
         "anchor": "x",
         "domain": [
          0,
          1
         ],
         "title": {
          "text": "Ball mph"
         }
        }
       }
      }
     },
     "metadata": {},
     "output_type": "display_data"
    }
   ],
   "source": [
    "df['Club mph'] = pd.to_numeric(df['Club mph'], errors='coerce')\n",
    "df['Ball mph'] = pd.to_numeric(df['Ball mph'], errors='coerce')\n",
    "\n",
    "fig3 = px.scatter(df, x='Club mph', y='Ball mph', color='Time', title=\"Smash Factor by 'Color'\",\n",
    "                  color_discrete_sequence=px.colors.qualitative.Bold,hover_data=['Shot Type','Club'],trendline='ols')\n",
    "fig3.show()"
   ]
  },
  {
   "cell_type": "code",
   "execution_count": 54,
   "metadata": {},
   "outputs": [
    {
     "data": {
      "application/vnd.plotly.v1+json": {
       "config": {
        "plotlyServerURL": "https://plot.ly"
       },
       "data": [
        {
         "customdata": [
          [
           "Pull",
           "7 Iron"
          ],
          [
           "Fade",
           "7 Iron"
          ],
          [
           "Pull/Draw",
           "7 Iron"
          ],
          [
           "Pull/Fade",
           "7 Iron"
          ],
          [
           "Pull/Fade",
           "7 Iron"
          ],
          [
           "Pull/Fade",
           "7 Iron"
          ],
          [
           "Pull/Fade",
           "7 Iron"
          ],
          [
           "Pull/Fade",
           "7 Iron"
          ],
          [
           "Pull",
           "7 Iron"
          ],
          [
           "Pull",
           "7 Iron"
          ],
          [
           "Pull",
           "7 Iron"
          ],
          [
           "Pull/Fade",
           "7 Iron"
          ],
          [
           "Pull/Fade",
           "7 Iron"
          ],
          [
           "Pull/Draw",
           "7 Iron"
          ],
          [
           "Pull/Draw",
           "7 Iron"
          ],
          [
           "Fade",
           "7 Iron"
          ],
          [
           "Pull/Fade",
           "7 Iron"
          ],
          [
           "Fade",
           "7 Iron"
          ],
          [
           "Pull/Fade",
           "7 Iron"
          ],
          [
           "Pull/Fade",
           "7 Iron"
          ],
          [
           "Pull",
           "7 Iron"
          ],
          [
           "Push/Slice",
           "7 Iron"
          ]
         ],
         "hovertemplate": "Time=2024-11-03 14:56:00<br>Launch V=%{x}<br>Height ft=%{y}<br>Shot Type=%{customdata[0]}<br>Club=%{customdata[1]}<extra></extra>",
         "legendgroup": "2024-11-03 14:56:00",
         "marker": {
          "color": "rgb(127, 60, 141)",
          "symbol": "circle"
         },
         "mode": "markers",
         "name": "2024-11-03 14:56:00",
         "orientation": "v",
         "showlegend": true,
         "type": "scatter",
         "x": [
          16.1,
          16.9,
          14.7,
          15.4,
          15.9,
          16.2,
          17.3,
          18.1,
          17.5,
          19.2,
          19,
          18.3,
          17.7,
          16.4,
          19.3,
          19.3,
          15.2,
          20.3,
          17,
          19.9,
          14.6,
          9.5
         ],
         "xaxis": "x",
         "y": [
          34.3,
          26.4,
          25.3,
          40.3,
          42.5,
          55.7,
          44.6,
          77.5,
          64,
          63.4,
          79.1,
          65.3,
          68.6,
          45.2,
          73.9,
          81.5,
          56.1,
          56.5,
          62.3,
          60.1,
          26,
          11.9
         ],
         "yaxis": "y"
        },
        {
         "customdata": [
          [
           "Fade",
           "7 Iron"
          ],
          [
           "Straight",
           "7 Iron"
          ],
          [
           "Draw",
           "7 Iron"
          ],
          [
           "Straight",
           "7 Iron"
          ],
          [
           "Fade",
           "7 Iron"
          ],
          [
           "Straight",
           "7 Iron"
          ],
          [
           "Draw",
           "7 Iron"
          ],
          [
           "Fade",
           "7 Iron"
          ],
          [
           "Straight",
           "7 Iron"
          ],
          [
           "Push/Fade",
           "7 Iron"
          ],
          [
           "Fade",
           "7 Iron"
          ],
          [
           "Straight",
           "7 Iron"
          ],
          [
           "Straight",
           "7 Iron"
          ],
          [
           "Straight",
           "7 Iron"
          ],
          [
           "Push/Fade",
           "7 Iron"
          ],
          [
           "Draw",
           "7 Iron"
          ],
          [
           "Draw",
           "7 Iron"
          ],
          [
           "Straight",
           "7 Iron"
          ],
          [
           "Fade",
           "7 Iron"
          ],
          [
           "Push/Fade",
           "7 Iron"
          ],
          [
           "Pull/Draw",
           "7 Iron"
          ],
          [
           "Pull/Draw",
           "7 Iron"
          ],
          [
           "Push/Fade",
           "7 Iron"
          ],
          [
           "Fade",
           "7 Iron"
          ],
          [
           "Pull",
           "7 Iron"
          ],
          [
           "Fade",
           "7 Iron"
          ],
          [
           "Straight",
           "7 Iron"
          ],
          [
           "Straight",
           "7 Iron"
          ],
          [
           "Fade",
           "7 Iron"
          ],
          [
           "Fade",
           "7 Iron"
          ],
          [
           "Push/Fade",
           "7 Iron"
          ],
          [
           "Straight",
           "7 Iron"
          ],
          [
           "Straight",
           "7 Iron"
          ]
         ],
         "hovertemplate": "Time=2024-11-03 20:05:00<br>Launch V=%{x}<br>Height ft=%{y}<br>Shot Type=%{customdata[0]}<br>Club=%{customdata[1]}<extra></extra>",
         "legendgroup": "2024-11-03 20:05:00",
         "marker": {
          "color": "rgb(17, 165, 121)",
          "symbol": "circle"
         },
         "mode": "markers",
         "name": "2024-11-03 20:05:00",
         "orientation": "v",
         "showlegend": true,
         "type": "scatter",
         "x": [
          12.7,
          11.2,
          20.7,
          9.7,
          13.1,
          12.9,
          12.2,
          13.9,
          10.2,
          15.4,
          14.7,
          12.8,
          13.5,
          14.3,
          15.7,
          14.9,
          12.4,
          13.8,
          12.7,
          17.9,
          15.3,
          12.8,
          20.5,
          21.8,
          14.8,
          20.4,
          12.1,
          11.5,
          13.8,
          9.9,
          14.5,
          14.4,
          12.6
         ],
         "xaxis": "x",
         "y": [
          64.1,
          50,
          68.1,
          34.1,
          40.6,
          58.3,
          31.8,
          40.9,
          40.8,
          63.2,
          77.2,
          64,
          55,
          45.3,
          77.9,
          37.8,
          36.5,
          52.9,
          71.4,
          11.7,
          11.8,
          8.6,
          61.9,
          62.4,
          38.4,
          72,
          24.1,
          28.2,
          70.1,
          38.3,
          47.2,
          30.5,
          48.5
         ],
         "yaxis": "y"
        },
        {
         "customdata": [
          [
           "Draw",
           "7 Iron"
          ],
          [
           "Pull/Draw",
           "7 Iron"
          ],
          [
           "Draw",
           "7 Iron"
          ],
          [
           "Straight",
           "7 Iron"
          ],
          [
           "Draw",
           "7 Iron"
          ],
          [
           "Pull/Draw",
           "7 Iron"
          ],
          [
           "Fade",
           "7 Iron"
          ],
          [
           "Fade",
           "7 Iron"
          ],
          [
           "Straight",
           "7 Iron"
          ],
          [
           "Fade",
           "7 Iron"
          ],
          [
           "Pull",
           "7 Iron"
          ],
          [
           "Pull",
           "7 Iron"
          ],
          [
           "Fade",
           "7 Iron"
          ],
          [
           "Pull/Fade",
           "7 Iron"
          ],
          [
           "Fade",
           "7 Iron"
          ],
          [
           "Fade",
           "7 Iron"
          ],
          [
           "Pull",
           "7 Iron"
          ],
          [
           "Draw",
           "7 Iron"
          ],
          [
           "Fade",
           "7 Iron"
          ],
          [
           "Fade",
           "7 Iron"
          ],
          [
           "Pull/Draw",
           "7 Iron"
          ],
          [
           "Pull/Draw",
           "7 Iron"
          ],
          [
           "Pull/Draw",
           "7 Iron"
          ],
          [
           "Fade",
           "7 Iron"
          ],
          [
           "Pull/Draw",
           "7 Iron"
          ],
          [
           "Straight",
           "7 Iron"
          ],
          [
           "Straight",
           "7 Iron"
          ],
          [
           "Fade",
           "7 Iron"
          ],
          [
           "Push/Fade",
           "7 Iron"
          ],
          [
           "Draw",
           "7 Iron"
          ],
          [
           "Fade",
           "7 Iron"
          ],
          [
           "Fade",
           "7 Iron"
          ],
          [
           "Fade",
           "7 Iron"
          ],
          [
           "Fade",
           "7 Iron"
          ],
          [
           "Fade",
           "7 Iron"
          ],
          [
           "Fade",
           "7 Iron"
          ],
          [
           "Pull",
           "7 Iron"
          ],
          [
           "Straight",
           "7 Iron"
          ],
          [
           "Straight",
           "7 Iron"
          ],
          [
           "Fade",
           "7 Iron"
          ],
          [
           "Push/Fade",
           "7 Iron"
          ],
          [
           "Draw",
           "7 Iron"
          ],
          [
           "Draw",
           "7 Iron"
          ],
          [
           "Draw",
           "7 Iron"
          ],
          [
           "Draw",
           "7 Iron"
          ],
          [
           "Draw",
           "7 Iron"
          ],
          [
           "Straight",
           "7 Iron"
          ],
          [
           "Fade",
           "7 Iron"
          ],
          [
           "Draw",
           "7 Iron"
          ],
          [
           "Pull/Draw",
           "7 Iron"
          ],
          [
           "Push/Fade",
           "7 Iron"
          ],
          [
           "Draw",
           "7 Iron"
          ],
          [
           "Straight",
           "7 Iron"
          ],
          [
           "Fade",
           "7 Iron"
          ],
          [
           "Pull/Draw",
           "7 Iron"
          ],
          [
           "Fade",
           "7 Iron"
          ],
          [
           "Pull/Fade",
           "7 Iron"
          ],
          [
           "Pull/Fade",
           "7 Iron"
          ],
          [
           "Pull/Fade",
           "7 Iron"
          ],
          [
           "Pull/Fade",
           "7 Iron"
          ],
          [
           "Pull/Fade",
           "7 Iron"
          ],
          [
           "Pull/Fade",
           "7 Iron"
          ],
          [
           "Pull/Fade",
           "7 Iron"
          ],
          [
           "Fade",
           "7 Iron"
          ],
          [
           "Fade",
           "7 Iron"
          ],
          [
           "Pull/Fade",
           "7 Iron"
          ],
          [
           "Pull/Fade",
           "7 Iron"
          ],
          [
           "Pull/Fade",
           "7 Iron"
          ],
          [
           "Fade",
           "7 Iron"
          ],
          [
           "Pull/Fade",
           "7 Iron"
          ]
         ],
         "hovertemplate": "Time=2024-11-10 14:56:00<br>Launch V=%{x}<br>Height ft=%{y}<br>Shot Type=%{customdata[0]}<br>Club=%{customdata[1]}<extra></extra>",
         "legendgroup": "2024-11-10 14:56:00",
         "marker": {
          "color": "rgb(57, 105, 172)",
          "symbol": "circle"
         },
         "mode": "markers",
         "name": "2024-11-10 14:56:00",
         "orientation": "v",
         "showlegend": true,
         "type": "scatter",
         "x": [
          10.4,
          11.1,
          8.7,
          14.6,
          12,
          9.4,
          13.2,
          10.9,
          9.5,
          6.2,
          8.6,
          9.6,
          12.9,
          11.4,
          10.9,
          11.4,
          10.9,
          9.7,
          11.2,
          10.6,
          11.5,
          11.8,
          9.7,
          8.8,
          8.7,
          10.9,
          7.4,
          11.3,
          12.8,
          12.7,
          15.7,
          15,
          17.4,
          12.9,
          14.2,
          16.8,
          11.5,
          14.8,
          13.2,
          12.3,
          13.9,
          10.7,
          11.9,
          10.3,
          10.8,
          10.5,
          13.7,
          11.1,
          15,
          10.1,
          16.9,
          13.5,
          11.6,
          6.2,
          12.1,
          14.3,
          13.1,
          14.3,
          14.1,
          12.3,
          11.2,
          14.5,
          6,
          13.9,
          13.9,
          18.8,
          17.6,
          17.6,
          16.6,
          18.2
         ],
         "xaxis": "x",
         "y": [
          26.9,
          25.6,
          22.7,
          27.4,
          34.6,
          17.8,
          40.7,
          20.4,
          16.8,
          16.3,
          18.9,
          20.4,
          52.2,
          57.5,
          58.9,
          62.7,
          36.8,
          41.1,
          35.6,
          34.1,
          26.9,
          54.2,
          48.5,
          41.8,
          26.3,
          44,
          25.7,
          51.4,
          56.7,
          54.9,
          79.7,
          65.7,
          80.7,
          70.6,
          74.1,
          82.4,
          55.4,
          85.4,
          36.7,
          62.9,
          66,
          37.6,
          65.7,
          56.5,
          64.7,
          58.4,
          31.5,
          54.7,
          64.1,
          30.3,
          91.6,
          57.5,
          30.8,
          2.4,
          44.8,
          65.7,
          34.8,
          46.9,
          60.9,
          62.8,
          39.6,
          61.2,
          25,
          41.3,
          68.4,
          66.8,
          71.6,
          63.8,
          56.5,
          53
         ],
         "yaxis": "y"
        },
        {
         "customdata": [
          [
           "Fade",
           "7 Iron"
          ],
          [
           "Fade",
           "7 Iron"
          ],
          [
           "Fade",
           "7 Iron"
          ],
          [
           "Fade",
           "7 Iron"
          ],
          [
           "Fade",
           "7 Iron"
          ],
          [
           "Pull",
           "7 Iron"
          ],
          [
           "Fade",
           "7 Iron"
          ],
          [
           "Fade",
           "7 Iron"
          ],
          [
           "Pull",
           "7 Iron"
          ],
          [
           "Fade",
           "7 Iron"
          ],
          [
           "Fade",
           "7 Iron"
          ]
         ],
         "hovertemplate": "Time=2024-11-17 10:57:00<br>Launch V=%{x}<br>Height ft=%{y}<br>Shot Type=%{customdata[0]}<br>Club=%{customdata[1]}<extra></extra>",
         "legendgroup": "2024-11-17 10:57:00",
         "marker": {
          "color": "rgb(242, 183, 1)",
          "symbol": "circle"
         },
         "mode": "markers",
         "name": "2024-11-17 10:57:00",
         "orientation": "v",
         "showlegend": true,
         "type": "scatter",
         "x": [
          20.9,
          17.9,
          10.4,
          20.2,
          19.2,
          16.5,
          17.4,
          17.4,
          16.8,
          17.4,
          18.1
         ],
         "xaxis": "x",
         "y": [
          58.9,
          52.9,
          24.5,
          70.9,
          43,
          32.1,
          61.1,
          66.2,
          34,
          52.6,
          67.2
         ],
         "yaxis": "y"
        },
        {
         "customdata": [
          [
           "Fade",
           "7 Iron"
          ],
          [
           "Fade",
           "7 Iron"
          ],
          [
           "Fade",
           "7 Iron"
          ],
          [
           "Pull/Fade",
           "7 Iron"
          ],
          [
           "Fade",
           "7 Iron"
          ],
          [
           "Pull/Fade",
           "7 Iron"
          ],
          [
           "Fade",
           "7 Iron"
          ],
          [
           "Pull",
           "7 Iron"
          ],
          [
           "Fade",
           "7 Iron"
          ],
          [
           "Fade",
           "7 Iron"
          ],
          [
           "Pull",
           "7 Iron"
          ],
          [
           "Fade",
           "7 Iron"
          ],
          [
           "Straight",
           "7 Iron"
          ],
          [
           "Pull/Draw",
           "7 Iron"
          ],
          [
           "Fade",
           "7 Iron"
          ],
          [
           "Pull",
           "7 Iron"
          ],
          [
           "Straight",
           "7 Iron"
          ],
          [
           "Straight",
           "7 Iron"
          ]
         ],
         "hovertemplate": "Time=2024-11-17 16:49:00<br>Launch V=%{x}<br>Height ft=%{y}<br>Shot Type=%{customdata[0]}<br>Club=%{customdata[1]}<extra></extra>",
         "legendgroup": "2024-11-17 16:49:00",
         "marker": {
          "color": "rgb(231, 63, 116)",
          "symbol": "circle"
         },
         "mode": "markers",
         "name": "2024-11-17 16:49:00",
         "orientation": "v",
         "showlegend": true,
         "type": "scatter",
         "x": [
          8.7,
          15.5,
          15.2,
          14.7,
          16.5,
          15.1,
          17.1,
          15.6,
          14.9,
          17.1,
          16.4,
          16.4,
          16.1,
          16.5,
          15.8,
          16.1,
          16.3,
          16
         ],
         "xaxis": "x",
         "y": [
          21.5,
          40.4,
          48.5,
          31.8,
          52.8,
          55,
          66.6,
          39.5,
          37.7,
          63.3,
          36.6,
          61.6,
          37,
          37.7,
          57,
          72.2,
          35.9,
          60.3
         ],
         "yaxis": "y"
        },
        {
         "customdata": [
          [
           "Push/Fade",
           "7 Iron"
          ],
          [
           "Push/Fade",
           "7 Iron"
          ],
          [
           "Push",
           "7 Iron"
          ],
          [
           "Straight",
           "7 Iron"
          ],
          [
           "Push",
           "7 Iron"
          ],
          [
           "Fade",
           "7 Iron"
          ],
          [
           "Fade",
           "7 Iron"
          ],
          [
           "Pull",
           "7 Iron"
          ],
          [
           "Fade",
           "7 Iron"
          ],
          [
           "Fade",
           "7 Iron"
          ],
          [
           "Fade",
           "7 Iron"
          ],
          [
           "Fade",
           "7 Iron"
          ],
          [
           "Fade",
           "7 Iron"
          ],
          [
           "Fade",
           "7 Iron"
          ],
          [
           "Fade",
           "7 Iron"
          ],
          [
           "Fade",
           "7 Iron"
          ],
          [
           "Pull/Draw",
           "7 Iron"
          ],
          [
           "Push/Slice",
           "7 Iron"
          ],
          [
           "Straight",
           "7 Iron"
          ],
          [
           "Fade",
           "7 Iron"
          ],
          [
           "Draw",
           "7 Iron"
          ],
          [
           "Push/Fade",
           "7 Iron"
          ],
          [
           "Straight",
           "7 Iron"
          ],
          [
           "Push",
           "7 Iron"
          ],
          [
           "Draw",
           "7 Iron"
          ],
          [
           "Draw",
           "7 Iron"
          ],
          [
           "Push/Fade",
           "7 Iron"
          ],
          [
           "Draw",
           "7 Iron"
          ],
          [
           "Straight",
           "7 Iron"
          ]
         ],
         "hovertemplate": "Time=2024-11-29 19:05:00<br>Launch V=%{x}<br>Height ft=%{y}<br>Shot Type=%{customdata[0]}<br>Club=%{customdata[1]}<extra></extra>",
         "legendgroup": "2024-11-29 19:05:00",
         "marker": {
          "color": "rgb(128, 186, 90)",
          "symbol": "circle"
         },
         "mode": "markers",
         "name": "2024-11-29 19:05:00",
         "orientation": "v",
         "showlegend": true,
         "type": "scatter",
         "x": [
          9.7,
          14.8,
          12.9,
          14.8,
          16.1,
          14.2,
          5.9,
          17.1,
          17.9,
          14.5,
          3.2,
          17.7,
          17.4,
          17.5,
          13.7,
          15.8,
          13.3,
          14.7,
          15.5,
          15.8,
          13.4,
          17.3,
          13.2,
          18.2,
          10.2,
          14.9,
          16,
          11.2,
          17.4
         ],
         "xaxis": "x",
         "y": [
          36.8,
          58.8,
          57.1,
          50.8,
          78.7,
          49.1,
          13.2,
          54.1,
          69.5,
          58.4,
          2.4,
          56.3,
          64.8,
          69.2,
          56.4,
          47.6,
          55.9,
          41.8,
          57.6,
          61.7,
          71.1,
          78.5,
          65.9,
          83.8,
          31.5,
          74.4,
          68.4,
          44.7,
          81.8
         ],
         "yaxis": "y"
        }
       ],
       "layout": {
        "legend": {
         "title": {
          "text": "Time"
         },
         "tracegroupgap": 0
        },
        "template": {
         "data": {
          "candlestick": [
           {
            "decreasing": {
             "line": {
              "color": "#000033"
             }
            },
            "increasing": {
             "line": {
              "color": "#000032"
             }
            },
            "type": "candlestick"
           }
          ],
          "contour": [
           {
            "colorscale": [
             [
              0,
              "#000011"
             ],
             [
              0.1111111111111111,
              "#000012"
             ],
             [
              0.2222222222222222,
              "#000013"
             ],
             [
              0.3333333333333333,
              "#000014"
             ],
             [
              0.4444444444444444,
              "#000015"
             ],
             [
              0.5555555555555556,
              "#000016"
             ],
             [
              0.6666666666666666,
              "#000017"
             ],
             [
              0.7777777777777778,
              "#000018"
             ],
             [
              0.8888888888888888,
              "#000019"
             ],
             [
              1,
              "#000020"
             ]
            ],
            "type": "contour"
           }
          ],
          "contourcarpet": [
           {
            "colorscale": [
             [
              0,
              "#000011"
             ],
             [
              0.1111111111111111,
              "#000012"
             ],
             [
              0.2222222222222222,
              "#000013"
             ],
             [
              0.3333333333333333,
              "#000014"
             ],
             [
              0.4444444444444444,
              "#000015"
             ],
             [
              0.5555555555555556,
              "#000016"
             ],
             [
              0.6666666666666666,
              "#000017"
             ],
             [
              0.7777777777777778,
              "#000018"
             ],
             [
              0.8888888888888888,
              "#000019"
             ],
             [
              1,
              "#000020"
             ]
            ],
            "type": "contourcarpet"
           }
          ],
          "heatmap": [
           {
            "colorscale": [
             [
              0,
              "#000011"
             ],
             [
              0.1111111111111111,
              "#000012"
             ],
             [
              0.2222222222222222,
              "#000013"
             ],
             [
              0.3333333333333333,
              "#000014"
             ],
             [
              0.4444444444444444,
              "#000015"
             ],
             [
              0.5555555555555556,
              "#000016"
             ],
             [
              0.6666666666666666,
              "#000017"
             ],
             [
              0.7777777777777778,
              "#000018"
             ],
             [
              0.8888888888888888,
              "#000019"
             ],
             [
              1,
              "#000020"
             ]
            ],
            "type": "heatmap"
           }
          ],
          "histogram2d": [
           {
            "colorscale": [
             [
              0,
              "#000011"
             ],
             [
              0.1111111111111111,
              "#000012"
             ],
             [
              0.2222222222222222,
              "#000013"
             ],
             [
              0.3333333333333333,
              "#000014"
             ],
             [
              0.4444444444444444,
              "#000015"
             ],
             [
              0.5555555555555556,
              "#000016"
             ],
             [
              0.6666666666666666,
              "#000017"
             ],
             [
              0.7777777777777778,
              "#000018"
             ],
             [
              0.8888888888888888,
              "#000019"
             ],
             [
              1,
              "#000020"
             ]
            ],
            "type": "histogram2d"
           }
          ],
          "icicle": [
           {
            "textfont": {
             "color": "white"
            },
            "type": "icicle"
           }
          ],
          "sankey": [
           {
            "textfont": {
             "color": "#000036"
            },
            "type": "sankey"
           }
          ],
          "scatter": [
           {
            "marker": {
             "line": {
              "width": 0
             }
            },
            "type": "scatter"
           }
          ],
          "table": [
           {
            "cells": {
             "fill": {
              "color": "#000038"
             },
             "font": {
              "color": "#000037"
             },
             "line": {
              "color": "#000039"
             }
            },
            "header": {
             "fill": {
              "color": "#000040"
             },
             "font": {
              "color": "#000036"
             },
             "line": {
              "color": "#000039"
             }
            },
            "type": "table"
           }
          ],
          "waterfall": [
           {
            "connector": {
             "line": {
              "color": "#000036",
              "width": 2
             }
            },
            "decreasing": {
             "marker": {
              "color": "#000033"
             }
            },
            "increasing": {
             "marker": {
              "color": "#000032"
             }
            },
            "totals": {
             "marker": {
              "color": "#000034"
             }
            },
            "type": "waterfall"
           }
          ]
         },
         "layout": {
          "coloraxis": {
           "colorscale": [
            [
             0,
             "#000011"
            ],
            [
             0.1111111111111111,
             "#000012"
            ],
            [
             0.2222222222222222,
             "#000013"
            ],
            [
             0.3333333333333333,
             "#000014"
            ],
            [
             0.4444444444444444,
             "#000015"
            ],
            [
             0.5555555555555556,
             "#000016"
            ],
            [
             0.6666666666666666,
             "#000017"
            ],
            [
             0.7777777777777778,
             "#000018"
            ],
            [
             0.8888888888888888,
             "#000019"
            ],
            [
             1,
             "#000020"
            ]
           ]
          },
          "colorscale": {
           "diverging": [
            [
             0,
             "#000021"
            ],
            [
             0.1,
             "#000022"
            ],
            [
             0.2,
             "#000023"
            ],
            [
             0.3,
             "#000024"
            ],
            [
             0.4,
             "#000025"
            ],
            [
             0.5,
             "#000026"
            ],
            [
             0.6,
             "#000027"
            ],
            [
             0.7,
             "#000028"
            ],
            [
             0.8,
             "#000029"
            ],
            [
             0.9,
             "#000030"
            ],
            [
             1,
             "#000031"
            ]
           ],
           "sequential": [
            [
             0,
             "#000011"
            ],
            [
             0.1111111111111111,
             "#000012"
            ],
            [
             0.2222222222222222,
             "#000013"
            ],
            [
             0.3333333333333333,
             "#000014"
            ],
            [
             0.4444444444444444,
             "#000015"
            ],
            [
             0.5555555555555556,
             "#000016"
            ],
            [
             0.6666666666666666,
             "#000017"
            ],
            [
             0.7777777777777778,
             "#000018"
            ],
            [
             0.8888888888888888,
             "#000019"
            ],
            [
             1,
             "#000020"
            ]
           ],
           "sequentialminus": [
            [
             0,
             "#000011"
            ],
            [
             0.1111111111111111,
             "#000012"
            ],
            [
             0.2222222222222222,
             "#000013"
            ],
            [
             0.3333333333333333,
             "#000014"
            ],
            [
             0.4444444444444444,
             "#000015"
            ],
            [
             0.5555555555555556,
             "#000016"
            ],
            [
             0.6666666666666666,
             "#000017"
            ],
            [
             0.7777777777777778,
             "#000018"
            ],
            [
             0.8888888888888888,
             "#000019"
            ],
            [
             1,
             "#000020"
            ]
           ]
          },
          "colorway": [
           "#000001",
           "#000002",
           "#000003",
           "#000004",
           "#000005",
           "#000006",
           "#000007",
           "#000008",
           "#000009",
           "#000010"
          ]
         }
        },
        "title": {
         "text": "Height vs Launch Angle"
        },
        "xaxis": {
         "anchor": "y",
         "domain": [
          0,
          1
         ],
         "linecolor": "black",
         "mirror": true,
         "showline": true,
         "title": {
          "text": "Launch V"
         }
        },
        "yaxis": {
         "anchor": "x",
         "domain": [
          0,
          1
         ],
         "linecolor": "black",
         "mirror": true,
         "range": [
          0,
          null
         ],
         "showline": true,
         "title": {
          "text": "Height ft"
         }
        }
       }
      }
     },
     "metadata": {},
     "output_type": "display_data"
    }
   ],
   "source": [
    "xvar_choice = 'Launch V'\n",
    "yvar_choice = 'Height ft'\n",
    "df[xvar_choice] = pd.to_numeric(df[xvar_choice], errors='coerce')\n",
    "\n",
    "\n",
    "fig5 = px.scatter(df, x=xvar_choice, y=yvar_choice, color='Time', title=\"Height vs Launch Angle\",\n",
    "                  color_discrete_sequence=px.colors.qualitative.Bold,hover_data=['Shot Type','Club'])\n",
    "fig5.update_yaxes(range=[0, None])  # Set minimum to -50, maximum is 50\n",
    "# Add a box around the plot area\n",
    "fig5.update_layout(\n",
    "    xaxis=dict(showline=True, mirror=True, linecolor='black'),\n",
    "    yaxis=dict(showline=True, mirror=True, linecolor='black')\n",
    ")\n",
    "fig5.show()"
   ]
  },
  {
   "cell_type": "code",
   "execution_count": 55,
   "metadata": {},
   "outputs": [
    {
     "data": {
      "application/vnd.plotly.v1+json": {
       "config": {
        "plotlyServerURL": "https://plot.ly"
       },
       "data": [
        {
         "customdata": [
          [
           "Pull",
           "7 Iron"
          ],
          [
           "Fade",
           "7 Iron"
          ],
          [
           "Pull/Draw",
           "7 Iron"
          ],
          [
           "Pull/Fade",
           "7 Iron"
          ],
          [
           "Pull/Fade",
           "7 Iron"
          ],
          [
           "Pull/Fade",
           "7 Iron"
          ],
          [
           "Pull/Fade",
           "7 Iron"
          ],
          [
           "Pull/Fade",
           "7 Iron"
          ],
          [
           "Pull",
           "7 Iron"
          ],
          [
           "Pull",
           "7 Iron"
          ],
          [
           "Pull",
           "7 Iron"
          ],
          [
           "Pull/Fade",
           "7 Iron"
          ],
          [
           "Pull/Fade",
           "7 Iron"
          ],
          [
           "Pull/Draw",
           "7 Iron"
          ],
          [
           "Pull/Draw",
           "7 Iron"
          ],
          [
           "Fade",
           "7 Iron"
          ],
          [
           "Pull/Fade",
           "7 Iron"
          ],
          [
           "Fade",
           "7 Iron"
          ],
          [
           "Pull/Fade",
           "7 Iron"
          ],
          [
           "Pull/Fade",
           "7 Iron"
          ],
          [
           "Pull",
           "7 Iron"
          ],
          [
           "Push/Slice",
           "7 Iron"
          ]
         ],
         "hovertemplate": "Time=2024-11-03 14:56:00<br>AOA=%{x}<br>Height ft=%{y}<br>Shot Type=%{customdata[0]}<br>Club=%{customdata[1]}<extra></extra>",
         "legendgroup": "2024-11-03 14:56:00",
         "marker": {
          "color": "rgb(127, 60, 141)",
          "symbol": "circle"
         },
         "mode": "markers",
         "name": "2024-11-03 14:56:00",
         "orientation": "v",
         "showlegend": true,
         "type": "scatter",
         "x": [
          null,
          -6.6,
          -4.4,
          -5.3,
          -5.3,
          -5.1,
          -5.8,
          -4.8,
          -4.9,
          -2.3,
          -10.9,
          -4.4,
          -4.8,
          -12,
          -12,
          -7.7,
          -5.7,
          -1.7,
          -0.9,
          -2.6,
          -1.5,
          -7.5
         ],
         "xaxis": "x",
         "y": [
          34.3,
          26.4,
          25.3,
          40.3,
          42.5,
          55.7,
          44.6,
          77.5,
          64,
          63.4,
          79.1,
          65.3,
          68.6,
          45.2,
          73.9,
          81.5,
          56.1,
          56.5,
          62.3,
          60.1,
          26,
          11.9
         ],
         "yaxis": "y"
        },
        {
         "customdata": [
          [
           "Fade",
           "7 Iron"
          ],
          [
           "Straight",
           "7 Iron"
          ],
          [
           "Draw",
           "7 Iron"
          ],
          [
           "Straight",
           "7 Iron"
          ],
          [
           "Fade",
           "7 Iron"
          ],
          [
           "Straight",
           "7 Iron"
          ],
          [
           "Draw",
           "7 Iron"
          ],
          [
           "Fade",
           "7 Iron"
          ],
          [
           "Straight",
           "7 Iron"
          ],
          [
           "Push/Fade",
           "7 Iron"
          ],
          [
           "Fade",
           "7 Iron"
          ],
          [
           "Straight",
           "7 Iron"
          ],
          [
           "Straight",
           "7 Iron"
          ],
          [
           "Straight",
           "7 Iron"
          ],
          [
           "Push/Fade",
           "7 Iron"
          ],
          [
           "Draw",
           "7 Iron"
          ],
          [
           "Draw",
           "7 Iron"
          ],
          [
           "Straight",
           "7 Iron"
          ],
          [
           "Fade",
           "7 Iron"
          ],
          [
           "Push/Fade",
           "7 Iron"
          ],
          [
           "Pull/Draw",
           "7 Iron"
          ],
          [
           "Pull/Draw",
           "7 Iron"
          ],
          [
           "Push/Fade",
           "7 Iron"
          ],
          [
           "Fade",
           "7 Iron"
          ],
          [
           "Pull",
           "7 Iron"
          ],
          [
           "Fade",
           "7 Iron"
          ],
          [
           "Straight",
           "7 Iron"
          ],
          [
           "Straight",
           "7 Iron"
          ],
          [
           "Fade",
           "7 Iron"
          ],
          [
           "Fade",
           "7 Iron"
          ],
          [
           "Push/Fade",
           "7 Iron"
          ],
          [
           "Straight",
           "7 Iron"
          ],
          [
           "Straight",
           "7 Iron"
          ]
         ],
         "hovertemplate": "Time=2024-11-03 20:05:00<br>AOA=%{x}<br>Height ft=%{y}<br>Shot Type=%{customdata[0]}<br>Club=%{customdata[1]}<extra></extra>",
         "legendgroup": "2024-11-03 20:05:00",
         "marker": {
          "color": "rgb(17, 165, 121)",
          "symbol": "circle"
         },
         "mode": "markers",
         "name": "2024-11-03 20:05:00",
         "orientation": "v",
         "showlegend": true,
         "type": "scatter",
         "x": [
          -4.4,
          -4.4,
          -5,
          -4.4,
          -5.8,
          -5,
          -3.5,
          -4.3,
          -3.5,
          -3.2,
          -4.5,
          -4.5,
          -3.9,
          -2.5,
          -3.6,
          -1,
          -3.4,
          -4.6,
          -6,
          -4.7,
          -0.8,
          1.6,
          -4.2,
          -4.4,
          -4.3,
          -4,
          -5.3,
          -5.7,
          -4.6,
          -5.2,
          -4.2,
          -3.9,
          -4.8
         ],
         "xaxis": "x",
         "y": [
          64.1,
          50,
          68.1,
          34.1,
          40.6,
          58.3,
          31.8,
          40.9,
          40.8,
          63.2,
          77.2,
          64,
          55,
          45.3,
          77.9,
          37.8,
          36.5,
          52.9,
          71.4,
          11.7,
          11.8,
          8.6,
          61.9,
          62.4,
          38.4,
          72,
          24.1,
          28.2,
          70.1,
          38.3,
          47.2,
          30.5,
          48.5
         ],
         "yaxis": "y"
        },
        {
         "customdata": [
          [
           "Draw",
           "7 Iron"
          ],
          [
           "Pull/Draw",
           "7 Iron"
          ],
          [
           "Draw",
           "7 Iron"
          ],
          [
           "Straight",
           "7 Iron"
          ],
          [
           "Draw",
           "7 Iron"
          ],
          [
           "Pull/Draw",
           "7 Iron"
          ],
          [
           "Fade",
           "7 Iron"
          ],
          [
           "Fade",
           "7 Iron"
          ],
          [
           "Straight",
           "7 Iron"
          ],
          [
           "Fade",
           "7 Iron"
          ],
          [
           "Pull",
           "7 Iron"
          ],
          [
           "Pull",
           "7 Iron"
          ],
          [
           "Fade",
           "7 Iron"
          ],
          [
           "Pull/Fade",
           "7 Iron"
          ],
          [
           "Fade",
           "7 Iron"
          ],
          [
           "Fade",
           "7 Iron"
          ],
          [
           "Pull",
           "7 Iron"
          ],
          [
           "Draw",
           "7 Iron"
          ],
          [
           "Fade",
           "7 Iron"
          ],
          [
           "Fade",
           "7 Iron"
          ],
          [
           "Pull/Draw",
           "7 Iron"
          ],
          [
           "Pull/Draw",
           "7 Iron"
          ],
          [
           "Pull/Draw",
           "7 Iron"
          ],
          [
           "Fade",
           "7 Iron"
          ],
          [
           "Pull/Draw",
           "7 Iron"
          ],
          [
           "Straight",
           "7 Iron"
          ],
          [
           "Straight",
           "7 Iron"
          ],
          [
           "Fade",
           "7 Iron"
          ],
          [
           "Push/Fade",
           "7 Iron"
          ],
          [
           "Draw",
           "7 Iron"
          ],
          [
           "Fade",
           "7 Iron"
          ],
          [
           "Fade",
           "7 Iron"
          ],
          [
           "Fade",
           "7 Iron"
          ],
          [
           "Fade",
           "7 Iron"
          ],
          [
           "Fade",
           "7 Iron"
          ],
          [
           "Fade",
           "7 Iron"
          ],
          [
           "Pull",
           "7 Iron"
          ],
          [
           "Straight",
           "7 Iron"
          ],
          [
           "Straight",
           "7 Iron"
          ],
          [
           "Fade",
           "7 Iron"
          ],
          [
           "Push/Fade",
           "7 Iron"
          ],
          [
           "Draw",
           "7 Iron"
          ],
          [
           "Draw",
           "7 Iron"
          ],
          [
           "Draw",
           "7 Iron"
          ],
          [
           "Draw",
           "7 Iron"
          ],
          [
           "Draw",
           "7 Iron"
          ],
          [
           "Straight",
           "7 Iron"
          ],
          [
           "Fade",
           "7 Iron"
          ],
          [
           "Draw",
           "7 Iron"
          ],
          [
           "Pull/Draw",
           "7 Iron"
          ],
          [
           "Push/Fade",
           "7 Iron"
          ],
          [
           "Draw",
           "7 Iron"
          ],
          [
           "Straight",
           "7 Iron"
          ],
          [
           "Fade",
           "7 Iron"
          ],
          [
           "Pull/Draw",
           "7 Iron"
          ],
          [
           "Fade",
           "7 Iron"
          ],
          [
           "Pull/Fade",
           "7 Iron"
          ],
          [
           "Pull/Fade",
           "7 Iron"
          ],
          [
           "Pull/Fade",
           "7 Iron"
          ],
          [
           "Pull/Fade",
           "7 Iron"
          ],
          [
           "Pull/Fade",
           "7 Iron"
          ],
          [
           "Pull/Fade",
           "7 Iron"
          ],
          [
           "Pull/Fade",
           "7 Iron"
          ],
          [
           "Fade",
           "7 Iron"
          ],
          [
           "Fade",
           "7 Iron"
          ],
          [
           "Pull/Fade",
           "7 Iron"
          ],
          [
           "Pull/Fade",
           "7 Iron"
          ],
          [
           "Pull/Fade",
           "7 Iron"
          ],
          [
           "Fade",
           "7 Iron"
          ],
          [
           "Pull/Fade",
           "7 Iron"
          ]
         ],
         "hovertemplate": "Time=2024-11-10 14:56:00<br>AOA=%{x}<br>Height ft=%{y}<br>Shot Type=%{customdata[0]}<br>Club=%{customdata[1]}<extra></extra>",
         "legendgroup": "2024-11-10 14:56:00",
         "marker": {
          "color": "rgb(57, 105, 172)",
          "symbol": "circle"
         },
         "mode": "markers",
         "name": "2024-11-10 14:56:00",
         "orientation": "v",
         "showlegend": true,
         "type": "scatter",
         "x": [
          -10.1,
          -8.8,
          -11.2,
          -7.7,
          -8.3,
          -10.1,
          -9.9,
          -9.9,
          -10.1,
          -12,
          -13.4,
          -10.9,
          -12,
          -9.2,
          -11.7,
          -10.2,
          -9.5,
          -10.3,
          -10.3,
          -12,
          -11.5,
          -9.5,
          -11.9,
          -12,
          -10.2,
          -10.8,
          -11.5,
          -12,
          -11,
          -8.4,
          -8.6,
          -10.3,
          -10,
          -9.6,
          -10.5,
          -9.3,
          -9.8,
          -8.9,
          -8.8,
          -9.6,
          -9.6,
          -8.1,
          -9.9,
          -8.7,
          -9.9,
          -10.3,
          -8.4,
          -10.2,
          -8.1,
          -9.8,
          -8.5,
          -6.4,
          -8.6,
          -9.7,
          -8.6,
          -8.9,
          -9.5,
          -8.6,
          -8.7,
          -10.3,
          -10.3,
          -10.3,
          -10.8,
          -10.4,
          -10,
          -7.2,
          -8.2,
          -7.2,
          -9.5,
          -6.6
         ],
         "xaxis": "x",
         "y": [
          26.9,
          25.6,
          22.7,
          27.4,
          34.6,
          17.8,
          40.7,
          20.4,
          16.8,
          16.3,
          18.9,
          20.4,
          52.2,
          57.5,
          58.9,
          62.7,
          36.8,
          41.1,
          35.6,
          34.1,
          26.9,
          54.2,
          48.5,
          41.8,
          26.3,
          44,
          25.7,
          51.4,
          56.7,
          54.9,
          79.7,
          65.7,
          80.7,
          70.6,
          74.1,
          82.4,
          55.4,
          85.4,
          36.7,
          62.9,
          66,
          37.6,
          65.7,
          56.5,
          64.7,
          58.4,
          31.5,
          54.7,
          64.1,
          30.3,
          91.6,
          57.5,
          30.8,
          2.4,
          44.8,
          65.7,
          34.8,
          46.9,
          60.9,
          62.8,
          39.6,
          61.2,
          25,
          41.3,
          68.4,
          66.8,
          71.6,
          63.8,
          56.5,
          53
         ],
         "yaxis": "y"
        },
        {
         "customdata": [
          [
           "Fade",
           "7 Iron"
          ],
          [
           "Fade",
           "7 Iron"
          ],
          [
           "Fade",
           "7 Iron"
          ],
          [
           "Fade",
           "7 Iron"
          ],
          [
           "Fade",
           "7 Iron"
          ],
          [
           "Pull",
           "7 Iron"
          ],
          [
           "Fade",
           "7 Iron"
          ],
          [
           "Fade",
           "7 Iron"
          ],
          [
           "Pull",
           "7 Iron"
          ],
          [
           "Fade",
           "7 Iron"
          ],
          [
           "Fade",
           "7 Iron"
          ]
         ],
         "hovertemplate": "Time=2024-11-17 10:57:00<br>AOA=%{x}<br>Height ft=%{y}<br>Shot Type=%{customdata[0]}<br>Club=%{customdata[1]}<extra></extra>",
         "legendgroup": "2024-11-17 10:57:00",
         "marker": {
          "color": "rgb(242, 183, 1)",
          "symbol": "circle"
         },
         "mode": "markers",
         "name": "2024-11-17 10:57:00",
         "orientation": "v",
         "showlegend": true,
         "type": "scatter",
         "x": [
          -5.6,
          -7.1,
          -8.4,
          -5.4,
          -4.1,
          -4.3,
          -5.4,
          -5.7,
          -7.1,
          -4.7,
          -5.5
         ],
         "xaxis": "x",
         "y": [
          58.9,
          52.9,
          24.5,
          70.9,
          43,
          32.1,
          61.1,
          66.2,
          34,
          52.6,
          67.2
         ],
         "yaxis": "y"
        },
        {
         "customdata": [
          [
           "Fade",
           "7 Iron"
          ],
          [
           "Fade",
           "7 Iron"
          ],
          [
           "Fade",
           "7 Iron"
          ],
          [
           "Pull/Fade",
           "7 Iron"
          ],
          [
           "Fade",
           "7 Iron"
          ],
          [
           "Pull/Fade",
           "7 Iron"
          ],
          [
           "Fade",
           "7 Iron"
          ],
          [
           "Pull",
           "7 Iron"
          ],
          [
           "Fade",
           "7 Iron"
          ],
          [
           "Fade",
           "7 Iron"
          ],
          [
           "Pull",
           "7 Iron"
          ],
          [
           "Fade",
           "7 Iron"
          ],
          [
           "Straight",
           "7 Iron"
          ],
          [
           "Pull/Draw",
           "7 Iron"
          ],
          [
           "Fade",
           "7 Iron"
          ],
          [
           "Pull",
           "7 Iron"
          ],
          [
           "Straight",
           "7 Iron"
          ],
          [
           "Straight",
           "7 Iron"
          ]
         ],
         "hovertemplate": "Time=2024-11-17 16:49:00<br>AOA=%{x}<br>Height ft=%{y}<br>Shot Type=%{customdata[0]}<br>Club=%{customdata[1]}<extra></extra>",
         "legendgroup": "2024-11-17 16:49:00",
         "marker": {
          "color": "rgb(231, 63, 116)",
          "symbol": "circle"
         },
         "mode": "markers",
         "name": "2024-11-17 16:49:00",
         "orientation": "v",
         "showlegend": true,
         "type": "scatter",
         "x": [
          -6.8,
          -5.8,
          -5.3,
          -6.1,
          -6.5,
          -6.8,
          -6.3,
          -2.8,
          -4.9,
          -4.9,
          -4,
          -6.3,
          -5,
          -3.8,
          -4.9,
          -4.2,
          -3,
          -3.5
         ],
         "xaxis": "x",
         "y": [
          21.5,
          40.4,
          48.5,
          31.8,
          52.8,
          55,
          66.6,
          39.5,
          37.7,
          63.3,
          36.6,
          61.6,
          37,
          37.7,
          57,
          72.2,
          35.9,
          60.3
         ],
         "yaxis": "y"
        },
        {
         "customdata": [
          [
           "Push/Fade",
           "7 Iron"
          ],
          [
           "Push/Fade",
           "7 Iron"
          ],
          [
           "Push",
           "7 Iron"
          ],
          [
           "Straight",
           "7 Iron"
          ],
          [
           "Push",
           "7 Iron"
          ],
          [
           "Fade",
           "7 Iron"
          ],
          [
           "Fade",
           "7 Iron"
          ],
          [
           "Pull",
           "7 Iron"
          ],
          [
           "Fade",
           "7 Iron"
          ],
          [
           "Fade",
           "7 Iron"
          ],
          [
           "Fade",
           "7 Iron"
          ],
          [
           "Fade",
           "7 Iron"
          ],
          [
           "Fade",
           "7 Iron"
          ],
          [
           "Fade",
           "7 Iron"
          ],
          [
           "Fade",
           "7 Iron"
          ],
          [
           "Fade",
           "7 Iron"
          ],
          [
           "Pull/Draw",
           "7 Iron"
          ],
          [
           "Push/Slice",
           "7 Iron"
          ],
          [
           "Straight",
           "7 Iron"
          ],
          [
           "Fade",
           "7 Iron"
          ],
          [
           "Draw",
           "7 Iron"
          ],
          [
           "Push/Fade",
           "7 Iron"
          ],
          [
           "Straight",
           "7 Iron"
          ],
          [
           "Push",
           "7 Iron"
          ],
          [
           "Draw",
           "7 Iron"
          ],
          [
           "Draw",
           "7 Iron"
          ],
          [
           "Push/Fade",
           "7 Iron"
          ],
          [
           "Draw",
           "7 Iron"
          ],
          [
           "Straight",
           "7 Iron"
          ]
         ],
         "hovertemplate": "Time=2024-11-29 19:05:00<br>AOA=%{x}<br>Height ft=%{y}<br>Shot Type=%{customdata[0]}<br>Club=%{customdata[1]}<extra></extra>",
         "legendgroup": "2024-11-29 19:05:00",
         "marker": {
          "color": "rgb(128, 186, 90)",
          "symbol": "circle"
         },
         "mode": "markers",
         "name": "2024-11-29 19:05:00",
         "orientation": "v",
         "showlegend": true,
         "type": "scatter",
         "x": [
          -5.4,
          -5.8,
          -7.2,
          -3.7,
          -8.4,
          -6.4,
          -6.8,
          -4.9,
          -6.7,
          -7.9,
          -6.3,
          -6,
          -5.7,
          -6.1,
          -7.6,
          -7.1,
          -3.8,
          -5.9,
          -5.1,
          -7.1,
          -8,
          -7.1,
          -7.7,
          -8.5,
          -5.2,
          -6.5,
          -8.5,
          -6.8,
          -4.4
         ],
         "xaxis": "x",
         "y": [
          36.8,
          58.8,
          57.1,
          50.8,
          78.7,
          49.1,
          13.2,
          54.1,
          69.5,
          58.4,
          2.4,
          56.3,
          64.8,
          69.2,
          56.4,
          47.6,
          55.9,
          41.8,
          57.6,
          61.7,
          71.1,
          78.5,
          65.9,
          83.8,
          31.5,
          74.4,
          68.4,
          44.7,
          81.8
         ],
         "yaxis": "y"
        }
       ],
       "layout": {
        "legend": {
         "title": {
          "text": "Time"
         },
         "tracegroupgap": 0
        },
        "template": {
         "data": {
          "candlestick": [
           {
            "decreasing": {
             "line": {
              "color": "#000033"
             }
            },
            "increasing": {
             "line": {
              "color": "#000032"
             }
            },
            "type": "candlestick"
           }
          ],
          "contour": [
           {
            "colorscale": [
             [
              0,
              "#000011"
             ],
             [
              0.1111111111111111,
              "#000012"
             ],
             [
              0.2222222222222222,
              "#000013"
             ],
             [
              0.3333333333333333,
              "#000014"
             ],
             [
              0.4444444444444444,
              "#000015"
             ],
             [
              0.5555555555555556,
              "#000016"
             ],
             [
              0.6666666666666666,
              "#000017"
             ],
             [
              0.7777777777777778,
              "#000018"
             ],
             [
              0.8888888888888888,
              "#000019"
             ],
             [
              1,
              "#000020"
             ]
            ],
            "type": "contour"
           }
          ],
          "contourcarpet": [
           {
            "colorscale": [
             [
              0,
              "#000011"
             ],
             [
              0.1111111111111111,
              "#000012"
             ],
             [
              0.2222222222222222,
              "#000013"
             ],
             [
              0.3333333333333333,
              "#000014"
             ],
             [
              0.4444444444444444,
              "#000015"
             ],
             [
              0.5555555555555556,
              "#000016"
             ],
             [
              0.6666666666666666,
              "#000017"
             ],
             [
              0.7777777777777778,
              "#000018"
             ],
             [
              0.8888888888888888,
              "#000019"
             ],
             [
              1,
              "#000020"
             ]
            ],
            "type": "contourcarpet"
           }
          ],
          "heatmap": [
           {
            "colorscale": [
             [
              0,
              "#000011"
             ],
             [
              0.1111111111111111,
              "#000012"
             ],
             [
              0.2222222222222222,
              "#000013"
             ],
             [
              0.3333333333333333,
              "#000014"
             ],
             [
              0.4444444444444444,
              "#000015"
             ],
             [
              0.5555555555555556,
              "#000016"
             ],
             [
              0.6666666666666666,
              "#000017"
             ],
             [
              0.7777777777777778,
              "#000018"
             ],
             [
              0.8888888888888888,
              "#000019"
             ],
             [
              1,
              "#000020"
             ]
            ],
            "type": "heatmap"
           }
          ],
          "histogram2d": [
           {
            "colorscale": [
             [
              0,
              "#000011"
             ],
             [
              0.1111111111111111,
              "#000012"
             ],
             [
              0.2222222222222222,
              "#000013"
             ],
             [
              0.3333333333333333,
              "#000014"
             ],
             [
              0.4444444444444444,
              "#000015"
             ],
             [
              0.5555555555555556,
              "#000016"
             ],
             [
              0.6666666666666666,
              "#000017"
             ],
             [
              0.7777777777777778,
              "#000018"
             ],
             [
              0.8888888888888888,
              "#000019"
             ],
             [
              1,
              "#000020"
             ]
            ],
            "type": "histogram2d"
           }
          ],
          "icicle": [
           {
            "textfont": {
             "color": "white"
            },
            "type": "icicle"
           }
          ],
          "sankey": [
           {
            "textfont": {
             "color": "#000036"
            },
            "type": "sankey"
           }
          ],
          "scatter": [
           {
            "marker": {
             "line": {
              "width": 0
             }
            },
            "type": "scatter"
           }
          ],
          "table": [
           {
            "cells": {
             "fill": {
              "color": "#000038"
             },
             "font": {
              "color": "#000037"
             },
             "line": {
              "color": "#000039"
             }
            },
            "header": {
             "fill": {
              "color": "#000040"
             },
             "font": {
              "color": "#000036"
             },
             "line": {
              "color": "#000039"
             }
            },
            "type": "table"
           }
          ],
          "waterfall": [
           {
            "connector": {
             "line": {
              "color": "#000036",
              "width": 2
             }
            },
            "decreasing": {
             "marker": {
              "color": "#000033"
             }
            },
            "increasing": {
             "marker": {
              "color": "#000032"
             }
            },
            "totals": {
             "marker": {
              "color": "#000034"
             }
            },
            "type": "waterfall"
           }
          ]
         },
         "layout": {
          "coloraxis": {
           "colorscale": [
            [
             0,
             "#000011"
            ],
            [
             0.1111111111111111,
             "#000012"
            ],
            [
             0.2222222222222222,
             "#000013"
            ],
            [
             0.3333333333333333,
             "#000014"
            ],
            [
             0.4444444444444444,
             "#000015"
            ],
            [
             0.5555555555555556,
             "#000016"
            ],
            [
             0.6666666666666666,
             "#000017"
            ],
            [
             0.7777777777777778,
             "#000018"
            ],
            [
             0.8888888888888888,
             "#000019"
            ],
            [
             1,
             "#000020"
            ]
           ]
          },
          "colorscale": {
           "diverging": [
            [
             0,
             "#000021"
            ],
            [
             0.1,
             "#000022"
            ],
            [
             0.2,
             "#000023"
            ],
            [
             0.3,
             "#000024"
            ],
            [
             0.4,
             "#000025"
            ],
            [
             0.5,
             "#000026"
            ],
            [
             0.6,
             "#000027"
            ],
            [
             0.7,
             "#000028"
            ],
            [
             0.8,
             "#000029"
            ],
            [
             0.9,
             "#000030"
            ],
            [
             1,
             "#000031"
            ]
           ],
           "sequential": [
            [
             0,
             "#000011"
            ],
            [
             0.1111111111111111,
             "#000012"
            ],
            [
             0.2222222222222222,
             "#000013"
            ],
            [
             0.3333333333333333,
             "#000014"
            ],
            [
             0.4444444444444444,
             "#000015"
            ],
            [
             0.5555555555555556,
             "#000016"
            ],
            [
             0.6666666666666666,
             "#000017"
            ],
            [
             0.7777777777777778,
             "#000018"
            ],
            [
             0.8888888888888888,
             "#000019"
            ],
            [
             1,
             "#000020"
            ]
           ],
           "sequentialminus": [
            [
             0,
             "#000011"
            ],
            [
             0.1111111111111111,
             "#000012"
            ],
            [
             0.2222222222222222,
             "#000013"
            ],
            [
             0.3333333333333333,
             "#000014"
            ],
            [
             0.4444444444444444,
             "#000015"
            ],
            [
             0.5555555555555556,
             "#000016"
            ],
            [
             0.6666666666666666,
             "#000017"
            ],
            [
             0.7777777777777778,
             "#000018"
            ],
            [
             0.8888888888888888,
             "#000019"
            ],
            [
             1,
             "#000020"
            ]
           ]
          },
          "colorway": [
           "#000001",
           "#000002",
           "#000003",
           "#000004",
           "#000005",
           "#000006",
           "#000007",
           "#000008",
           "#000009",
           "#000010"
          ]
         }
        },
        "title": {
         "text": "Height of Ball Flight vs Angle of Attack"
        },
        "xaxis": {
         "anchor": "y",
         "domain": [
          0,
          1
         ],
         "title": {
          "text": "AOA"
         }
        },
        "yaxis": {
         "anchor": "x",
         "domain": [
          0,
          1
         ],
         "title": {
          "text": "Height ft"
         }
        }
       }
      }
     },
     "metadata": {},
     "output_type": "display_data"
    }
   ],
   "source": [
    "df['AOA'] = pd.to_numeric(df['AOA'], errors='coerce')\n",
    "\n",
    "\n",
    "fig4 = px.scatter(df, x='AOA', y='Height ft', color='Time', title=\"Height of Ball Flight vs Angle of Attack\",\n",
    "                  color_discrete_sequence=px.colors.qualitative.Bold,hover_data=['Shot Type','Club'])\n",
    "fig4.show()"
   ]
  },
  {
   "cell_type": "code",
   "execution_count": 56,
   "metadata": {},
   "outputs": [
    {
     "data": {
      "text/html": [
       "<div>\n",
       "<style scoped>\n",
       "    .dataframe tbody tr th:only-of-type {\n",
       "        vertical-align: middle;\n",
       "    }\n",
       "\n",
       "    .dataframe tbody tr th {\n",
       "        vertical-align: top;\n",
       "    }\n",
       "\n",
       "    .dataframe thead th {\n",
       "        text-align: right;\n",
       "    }\n",
       "</style>\n",
       "<table border=\"1\" class=\"dataframe\">\n",
       "  <thead>\n",
       "    <tr style=\"text-align: right;\">\n",
       "      <th></th>\n",
       "      <th>Mombo_ShotID</th>\n",
       "      <th>Club</th>\n",
       "      <th>Time</th>\n",
       "      <th>Golfer</th>\n",
       "      <th>Shot</th>\n",
       "      <th>Video</th>\n",
       "      <th>Ball mph</th>\n",
       "      <th>Club mph</th>\n",
       "      <th>Smash_Factor</th>\n",
       "      <th>Carry yds</th>\n",
       "      <th>...</th>\n",
       "      <th>Unnamed_36</th>\n",
       "      <th>Unnamed_37</th>\n",
       "      <th>Unnamed_38</th>\n",
       "      <th>Unnamed_39</th>\n",
       "      <th>Unnamed_40</th>\n",
       "      <th>Comment</th>\n",
       "      <th>User1</th>\n",
       "      <th>User2</th>\n",
       "      <th>Exclude</th>\n",
       "      <th>Session</th>\n",
       "    </tr>\n",
       "  </thead>\n",
       "  <tbody>\n",
       "    <tr>\n",
       "      <th>16</th>\n",
       "      <td>17</td>\n",
       "      <td>7 Iron</td>\n",
       "      <td>2024-11-03 14:56:00</td>\n",
       "      <td>Dave</td>\n",
       "      <td>1</td>\n",
       "      <td>NaN</td>\n",
       "      <td>82.7</td>\n",
       "      <td>NaN</td>\n",
       "      <td>-</td>\n",
       "      <td>96.0</td>\n",
       "      <td>...</td>\n",
       "      <td>-</td>\n",
       "      <td>-</td>\n",
       "      <td>-</td>\n",
       "      <td>-</td>\n",
       "      <td>-</td>\n",
       "      <td>NaN</td>\n",
       "      <td>NaN</td>\n",
       "      <td>NaN</td>\n",
       "      <td>NaN</td>\n",
       "      <td>2024 Nov 03 02:56 PM</td>\n",
       "    </tr>\n",
       "    <tr>\n",
       "      <th>17</th>\n",
       "      <td>18</td>\n",
       "      <td>7 Iron</td>\n",
       "      <td>2024-11-03 14:56:00</td>\n",
       "      <td>Dave</td>\n",
       "      <td>2</td>\n",
       "      <td>NaN</td>\n",
       "      <td>83.2</td>\n",
       "      <td>76.8</td>\n",
       "      <td>1.08</td>\n",
       "      <td>94.1</td>\n",
       "      <td>...</td>\n",
       "      <td>-</td>\n",
       "      <td>-</td>\n",
       "      <td>-</td>\n",
       "      <td>-</td>\n",
       "      <td>-</td>\n",
       "      <td>NaN</td>\n",
       "      <td>NaN</td>\n",
       "      <td>NaN</td>\n",
       "      <td>NaN</td>\n",
       "      <td>2024 Nov 03 02:56 PM</td>\n",
       "    </tr>\n",
       "    <tr>\n",
       "      <th>18</th>\n",
       "      <td>19</td>\n",
       "      <td>7 Iron</td>\n",
       "      <td>2024-11-03 14:56:00</td>\n",
       "      <td>Dave</td>\n",
       "      <td>3</td>\n",
       "      <td>NaN</td>\n",
       "      <td>85.2</td>\n",
       "      <td>79.5</td>\n",
       "      <td>1.07</td>\n",
       "      <td>96.4</td>\n",
       "      <td>...</td>\n",
       "      <td>-</td>\n",
       "      <td>-</td>\n",
       "      <td>-</td>\n",
       "      <td>-</td>\n",
       "      <td>-</td>\n",
       "      <td>NaN</td>\n",
       "      <td>NaN</td>\n",
       "      <td>NaN</td>\n",
       "      <td>NaN</td>\n",
       "      <td>2024 Nov 03 02:56 PM</td>\n",
       "    </tr>\n",
       "    <tr>\n",
       "      <th>19</th>\n",
       "      <td>20</td>\n",
       "      <td>7 Iron</td>\n",
       "      <td>2024-11-03 14:56:00</td>\n",
       "      <td>Dave</td>\n",
       "      <td>4</td>\n",
       "      <td>NaN</td>\n",
       "      <td>93.6</td>\n",
       "      <td>79.1</td>\n",
       "      <td>1.18</td>\n",
       "      <td>119.5</td>\n",
       "      <td>...</td>\n",
       "      <td>-</td>\n",
       "      <td>-</td>\n",
       "      <td>-</td>\n",
       "      <td>-</td>\n",
       "      <td>-</td>\n",
       "      <td>NaN</td>\n",
       "      <td>NaN</td>\n",
       "      <td>NaN</td>\n",
       "      <td>NaN</td>\n",
       "      <td>2024 Nov 03 02:56 PM</td>\n",
       "    </tr>\n",
       "    <tr>\n",
       "      <th>20</th>\n",
       "      <td>21</td>\n",
       "      <td>7 Iron</td>\n",
       "      <td>2024-11-03 14:56:00</td>\n",
       "      <td>Dave</td>\n",
       "      <td>5</td>\n",
       "      <td>NaN</td>\n",
       "      <td>93.8</td>\n",
       "      <td>77.9</td>\n",
       "      <td>1.2</td>\n",
       "      <td>120.6</td>\n",
       "      <td>...</td>\n",
       "      <td>-</td>\n",
       "      <td>-</td>\n",
       "      <td>-</td>\n",
       "      <td>-</td>\n",
       "      <td>-</td>\n",
       "      <td>NaN</td>\n",
       "      <td>NaN</td>\n",
       "      <td>NaN</td>\n",
       "      <td>NaN</td>\n",
       "      <td>2024 Nov 03 02:56 PM</td>\n",
       "    </tr>\n",
       "    <tr>\n",
       "      <th>...</th>\n",
       "      <td>...</td>\n",
       "      <td>...</td>\n",
       "      <td>...</td>\n",
       "      <td>...</td>\n",
       "      <td>...</td>\n",
       "      <td>...</td>\n",
       "      <td>...</td>\n",
       "      <td>...</td>\n",
       "      <td>...</td>\n",
       "      <td>...</td>\n",
       "      <td>...</td>\n",
       "      <td>...</td>\n",
       "      <td>...</td>\n",
       "      <td>...</td>\n",
       "      <td>...</td>\n",
       "      <td>...</td>\n",
       "      <td>...</td>\n",
       "      <td>...</td>\n",
       "      <td>...</td>\n",
       "      <td>...</td>\n",
       "      <td>...</td>\n",
       "    </tr>\n",
       "    <tr>\n",
       "      <th>352</th>\n",
       "      <td>353</td>\n",
       "      <td>7 Iron</td>\n",
       "      <td>2024-11-29 19:05:00</td>\n",
       "      <td>Alex</td>\n",
       "      <td>5</td>\n",
       "      <td>NaN</td>\n",
       "      <td>108.8</td>\n",
       "      <td>84.2</td>\n",
       "      <td>1.29</td>\n",
       "      <td>140.5</td>\n",
       "      <td>...</td>\n",
       "      <td>-</td>\n",
       "      <td>-</td>\n",
       "      <td>-</td>\n",
       "      <td>-</td>\n",
       "      <td>-</td>\n",
       "      <td>NaN</td>\n",
       "      <td>NaN</td>\n",
       "      <td>NaN</td>\n",
       "      <td>NaN</td>\n",
       "      <td>2024 Nov 29 07:05 PM</td>\n",
       "    </tr>\n",
       "    <tr>\n",
       "      <th>353</th>\n",
       "      <td>354</td>\n",
       "      <td>7 Iron</td>\n",
       "      <td>2024-11-29 19:05:00</td>\n",
       "      <td>Alex</td>\n",
       "      <td>6</td>\n",
       "      <td>NaN</td>\n",
       "      <td>117.1</td>\n",
       "      <td>84.0</td>\n",
       "      <td>1.39</td>\n",
       "      <td>169.1</td>\n",
       "      <td>...</td>\n",
       "      <td>-</td>\n",
       "      <td>-</td>\n",
       "      <td>-</td>\n",
       "      <td>-</td>\n",
       "      <td>-</td>\n",
       "      <td>NaN</td>\n",
       "      <td>NaN</td>\n",
       "      <td>NaN</td>\n",
       "      <td>NaN</td>\n",
       "      <td>2024 Nov 29 07:05 PM</td>\n",
       "    </tr>\n",
       "    <tr>\n",
       "      <th>354</th>\n",
       "      <td>355</td>\n",
       "      <td>7 Iron</td>\n",
       "      <td>2024-11-29 19:05:00</td>\n",
       "      <td>Alex</td>\n",
       "      <td>7</td>\n",
       "      <td>NaN</td>\n",
       "      <td>109.1</td>\n",
       "      <td>83.3</td>\n",
       "      <td>1.31</td>\n",
       "      <td>151.7</td>\n",
       "      <td>...</td>\n",
       "      <td>-</td>\n",
       "      <td>-</td>\n",
       "      <td>-</td>\n",
       "      <td>-</td>\n",
       "      <td>-</td>\n",
       "      <td>NaN</td>\n",
       "      <td>NaN</td>\n",
       "      <td>NaN</td>\n",
       "      <td>NaN</td>\n",
       "      <td>2024 Nov 29 07:05 PM</td>\n",
       "    </tr>\n",
       "    <tr>\n",
       "      <th>355</th>\n",
       "      <td>356</td>\n",
       "      <td>7 Iron</td>\n",
       "      <td>2024-11-29 19:05:00</td>\n",
       "      <td>Alex</td>\n",
       "      <td>8</td>\n",
       "      <td>NaN</td>\n",
       "      <td>110.4</td>\n",
       "      <td>82.6</td>\n",
       "      <td>1.34</td>\n",
       "      <td>149.6</td>\n",
       "      <td>...</td>\n",
       "      <td>-</td>\n",
       "      <td>-</td>\n",
       "      <td>-</td>\n",
       "      <td>-</td>\n",
       "      <td>-</td>\n",
       "      <td>NaN</td>\n",
       "      <td>NaN</td>\n",
       "      <td>NaN</td>\n",
       "      <td>NaN</td>\n",
       "      <td>2024 Nov 29 07:05 PM</td>\n",
       "    </tr>\n",
       "    <tr>\n",
       "      <th>356</th>\n",
       "      <td>357</td>\n",
       "      <td>7 Iron</td>\n",
       "      <td>2024-11-29 19:05:00</td>\n",
       "      <td>Alex</td>\n",
       "      <td>9</td>\n",
       "      <td>NaN</td>\n",
       "      <td>113.3</td>\n",
       "      <td>86.3</td>\n",
       "      <td>1.31</td>\n",
       "      <td>161.9</td>\n",
       "      <td>...</td>\n",
       "      <td>-</td>\n",
       "      <td>-</td>\n",
       "      <td>-</td>\n",
       "      <td>-</td>\n",
       "      <td>-</td>\n",
       "      <td>NaN</td>\n",
       "      <td>NaN</td>\n",
       "      <td>NaN</td>\n",
       "      <td>NaN</td>\n",
       "      <td>2024 Nov 29 07:05 PM</td>\n",
       "    </tr>\n",
       "  </tbody>\n",
       "</table>\n",
       "<p>183 rows × 46 columns</p>\n",
       "</div>"
      ],
      "text/plain": [
       "     Mombo_ShotID    Club                Time Golfer  Shot  Video  Ball mph  \\\n",
       "16             17  7 Iron 2024-11-03 14:56:00   Dave     1    NaN      82.7   \n",
       "17             18  7 Iron 2024-11-03 14:56:00   Dave     2    NaN      83.2   \n",
       "18             19  7 Iron 2024-11-03 14:56:00   Dave     3    NaN      85.2   \n",
       "19             20  7 Iron 2024-11-03 14:56:00   Dave     4    NaN      93.6   \n",
       "20             21  7 Iron 2024-11-03 14:56:00   Dave     5    NaN      93.8   \n",
       "..            ...     ...                 ...    ...   ...    ...       ...   \n",
       "352           353  7 Iron 2024-11-29 19:05:00   Alex     5    NaN     108.8   \n",
       "353           354  7 Iron 2024-11-29 19:05:00   Alex     6    NaN     117.1   \n",
       "354           355  7 Iron 2024-11-29 19:05:00   Alex     7    NaN     109.1   \n",
       "355           356  7 Iron 2024-11-29 19:05:00   Alex     8    NaN     110.4   \n",
       "356           357  7 Iron 2024-11-29 19:05:00   Alex     9    NaN     113.3   \n",
       "\n",
       "     Club mph Smash_Factor  Carry yds  ...  Unnamed_36  Unnamed_37 Unnamed_38  \\\n",
       "16        NaN            -       96.0  ...           -           -          -   \n",
       "17       76.8         1.08       94.1  ...           -           -          -   \n",
       "18       79.5         1.07       96.4  ...           -           -          -   \n",
       "19       79.1         1.18      119.5  ...           -           -          -   \n",
       "20       77.9          1.2      120.6  ...           -           -          -   \n",
       "..        ...          ...        ...  ...         ...         ...        ...   \n",
       "352      84.2         1.29      140.5  ...           -           -          -   \n",
       "353      84.0         1.39      169.1  ...           -           -          -   \n",
       "354      83.3         1.31      151.7  ...           -           -          -   \n",
       "355      82.6         1.34      149.6  ...           -           -          -   \n",
       "356      86.3         1.31      161.9  ...           -           -          -   \n",
       "\n",
       "     Unnamed_39  Unnamed_40  Comment  User1 User2 Exclude  \\\n",
       "16            -           -      NaN    NaN   NaN     NaN   \n",
       "17            -           -      NaN    NaN   NaN     NaN   \n",
       "18            -           -      NaN    NaN   NaN     NaN   \n",
       "19            -           -      NaN    NaN   NaN     NaN   \n",
       "20            -           -      NaN    NaN   NaN     NaN   \n",
       "..          ...         ...      ...    ...   ...     ...   \n",
       "352           -           -      NaN    NaN   NaN     NaN   \n",
       "353           -           -      NaN    NaN   NaN     NaN   \n",
       "354           -           -      NaN    NaN   NaN     NaN   \n",
       "355           -           -      NaN    NaN   NaN     NaN   \n",
       "356           -           -      NaN    NaN   NaN     NaN   \n",
       "\n",
       "                  Session  \n",
       "16   2024 Nov 03 02:56 PM  \n",
       "17   2024 Nov 03 02:56 PM  \n",
       "18   2024 Nov 03 02:56 PM  \n",
       "19   2024 Nov 03 02:56 PM  \n",
       "20   2024 Nov 03 02:56 PM  \n",
       "..                    ...  \n",
       "352  2024 Nov 29 07:05 PM  \n",
       "353  2024 Nov 29 07:05 PM  \n",
       "354  2024 Nov 29 07:05 PM  \n",
       "355  2024 Nov 29 07:05 PM  \n",
       "356  2024 Nov 29 07:05 PM  \n",
       "\n",
       "[183 rows x 46 columns]"
      ]
     },
     "execution_count": 56,
     "metadata": {},
     "output_type": "execute_result"
    }
   ],
   "source": [
    "df"
   ]
  },
  {
   "cell_type": "code",
   "execution_count": null,
   "metadata": {},
   "outputs": [
    {
     "data": {
      "application/vnd.plotly.v1+json": {
       "config": {
        "plotlyServerURL": "https://plot.ly"
       },
       "data": [
        {
         "alignmentgroup": "True",
         "hovertemplate": "Session=%{x}<br>Carry yds=%{y}<extra></extra>",
         "legendgroup": "",
         "marker": {
          "color": "#000001"
         },
         "name": "",
         "notched": false,
         "offsetgroup": "",
         "orientation": "v",
         "showlegend": false,
         "type": "box",
         "x": [
          "2024 Nov 03 02:56 PM",
          "2024 Nov 03 02:56 PM",
          "2024 Nov 03 02:56 PM",
          "2024 Nov 03 02:56 PM",
          "2024 Nov 03 02:56 PM",
          "2024 Nov 03 02:56 PM",
          "2024 Nov 03 02:56 PM",
          "2024 Nov 03 02:56 PM",
          "2024 Nov 03 02:56 PM",
          "2024 Nov 03 02:56 PM",
          "2024 Nov 03 02:56 PM",
          "2024 Nov 03 02:56 PM",
          "2024 Nov 03 02:56 PM",
          "2024 Nov 03 02:56 PM",
          "2024 Nov 03 02:56 PM",
          "2024 Nov 03 02:56 PM",
          "2024 Nov 03 02:56 PM",
          "2024 Nov 03 02:56 PM",
          "2024 Nov 03 02:56 PM",
          "2024 Nov 03 02:56 PM",
          "2024 Nov 03 02:56 PM",
          "2024 Nov 03 02:56 PM",
          "2024 Nov 03 08:05 PM",
          "2024 Nov 03 08:05 PM",
          "2024 Nov 03 08:05 PM",
          "2024 Nov 03 08:05 PM",
          "2024 Nov 03 08:05 PM",
          "2024 Nov 03 08:05 PM",
          "2024 Nov 03 08:05 PM",
          "2024 Nov 03 08:05 PM",
          "2024 Nov 03 08:05 PM",
          "2024 Nov 03 08:05 PM",
          "2024 Nov 03 08:05 PM",
          "2024 Nov 03 08:05 PM",
          "2024 Nov 03 08:05 PM",
          "2024 Nov 03 08:05 PM",
          "2024 Nov 03 08:05 PM",
          "2024 Nov 03 08:05 PM",
          "2024 Nov 03 08:05 PM",
          "2024 Nov 03 08:05 PM",
          "2024 Nov 03 08:05 PM",
          "2024 Nov 03 08:05 PM",
          "2024 Nov 03 08:05 PM",
          "2024 Nov 03 08:05 PM",
          "2024 Nov 03 08:05 PM",
          "2024 Nov 03 08:05 PM",
          "2024 Nov 03 08:05 PM",
          "2024 Nov 03 08:05 PM",
          "2024 Nov 03 08:05 PM",
          "2024 Nov 03 08:05 PM",
          "2024 Nov 03 08:05 PM",
          "2024 Nov 03 08:05 PM",
          "2024 Nov 03 08:05 PM",
          "2024 Nov 03 08:05 PM",
          "2024 Nov 03 08:05 PM",
          "2024 Nov 10 02:56 PM",
          "2024 Nov 10 02:56 PM",
          "2024 Nov 10 02:56 PM",
          "2024 Nov 10 02:56 PM",
          "2024 Nov 10 02:56 PM",
          "2024 Nov 10 02:56 PM",
          "2024 Nov 10 02:56 PM",
          "2024 Nov 10 02:56 PM",
          "2024 Nov 10 02:56 PM",
          "2024 Nov 10 02:56 PM",
          "2024 Nov 10 02:56 PM",
          "2024 Nov 10 02:56 PM",
          "2024 Nov 10 02:56 PM",
          "2024 Nov 10 02:56 PM",
          "2024 Nov 10 02:56 PM",
          "2024 Nov 10 02:56 PM",
          "2024 Nov 10 02:56 PM",
          "2024 Nov 10 02:56 PM",
          "2024 Nov 10 02:56 PM",
          "2024 Nov 10 02:56 PM",
          "2024 Nov 10 02:56 PM",
          "2024 Nov 10 02:56 PM",
          "2024 Nov 10 02:56 PM",
          "2024 Nov 10 02:56 PM",
          "2024 Nov 10 02:56 PM",
          "2024 Nov 10 02:56 PM",
          "2024 Nov 10 02:56 PM",
          "2024 Nov 10 02:56 PM",
          "2024 Nov 10 02:56 PM",
          "2024 Nov 10 02:56 PM",
          "2024 Nov 10 02:56 PM",
          "2024 Nov 10 02:56 PM",
          "2024 Nov 10 02:56 PM",
          "2024 Nov 10 02:56 PM",
          "2024 Nov 10 02:56 PM",
          "2024 Nov 10 02:56 PM",
          "2024 Nov 10 02:56 PM",
          "2024 Nov 10 02:56 PM",
          "2024 Nov 10 02:56 PM",
          "2024 Nov 10 02:56 PM",
          "2024 Nov 10 02:56 PM",
          "2024 Nov 10 02:56 PM",
          "2024 Nov 10 02:56 PM",
          "2024 Nov 10 02:56 PM",
          "2024 Nov 10 02:56 PM",
          "2024 Nov 10 02:56 PM",
          "2024 Nov 10 02:56 PM",
          "2024 Nov 10 02:56 PM",
          "2024 Nov 10 02:56 PM",
          "2024 Nov 10 02:56 PM",
          "2024 Nov 10 02:56 PM",
          "2024 Nov 10 02:56 PM",
          "2024 Nov 10 02:56 PM",
          "2024 Nov 10 02:56 PM",
          "2024 Nov 10 02:56 PM",
          "2024 Nov 10 02:56 PM",
          "2024 Nov 10 02:56 PM",
          "2024 Nov 10 02:56 PM",
          "2024 Nov 10 02:56 PM",
          "2024 Nov 10 02:56 PM",
          "2024 Nov 10 02:56 PM",
          "2024 Nov 10 02:56 PM",
          "2024 Nov 10 02:56 PM",
          "2024 Nov 10 02:56 PM",
          "2024 Nov 10 02:56 PM",
          "2024 Nov 10 02:56 PM",
          "2024 Nov 10 02:56 PM",
          "2024 Nov 10 02:56 PM",
          "2024 Nov 10 02:56 PM",
          "2024 Nov 10 02:56 PM",
          "2024 Nov 17 10:57 AM",
          "2024 Nov 17 10:57 AM",
          "2024 Nov 17 10:57 AM",
          "2024 Nov 17 10:57 AM",
          "2024 Nov 17 10:57 AM",
          "2024 Nov 17 10:57 AM",
          "2024 Nov 17 10:57 AM",
          "2024 Nov 17 10:57 AM",
          "2024 Nov 17 10:57 AM",
          "2024 Nov 17 10:57 AM",
          "2024 Nov 17 10:57 AM",
          "2024 Nov 17 04:49 PM",
          "2024 Nov 17 04:49 PM",
          "2024 Nov 17 04:49 PM",
          "2024 Nov 17 04:49 PM",
          "2024 Nov 17 04:49 PM",
          "2024 Nov 17 04:49 PM",
          "2024 Nov 17 04:49 PM",
          "2024 Nov 17 04:49 PM",
          "2024 Nov 17 04:49 PM",
          "2024 Nov 17 04:49 PM",
          "2024 Nov 17 04:49 PM",
          "2024 Nov 17 04:49 PM",
          "2024 Nov 17 04:49 PM",
          "2024 Nov 17 04:49 PM",
          "2024 Nov 17 04:49 PM",
          "2024 Nov 17 04:49 PM",
          "2024 Nov 17 04:49 PM",
          "2024 Nov 17 04:49 PM",
          "2024 Nov 29 07:05 PM",
          "2024 Nov 29 07:05 PM",
          "2024 Nov 29 07:05 PM",
          "2024 Nov 29 07:05 PM",
          "2024 Nov 29 07:05 PM",
          "2024 Nov 29 07:05 PM",
          "2024 Nov 29 07:05 PM",
          "2024 Nov 29 07:05 PM",
          "2024 Nov 29 07:05 PM",
          "2024 Nov 29 07:05 PM",
          "2024 Nov 29 07:05 PM",
          "2024 Nov 29 07:05 PM",
          "2024 Nov 29 07:05 PM",
          "2024 Nov 29 07:05 PM",
          "2024 Nov 29 07:05 PM",
          "2024 Nov 29 07:05 PM",
          "2024 Nov 29 07:05 PM",
          "2024 Nov 29 07:05 PM",
          "2024 Nov 29 07:05 PM",
          "2024 Nov 29 07:05 PM",
          "2024 Nov 29 07:05 PM",
          "2024 Nov 29 07:05 PM",
          "2024 Nov 29 07:05 PM",
          "2024 Nov 29 07:05 PM",
          "2024 Nov 29 07:05 PM",
          "2024 Nov 29 07:05 PM",
          "2024 Nov 29 07:05 PM",
          "2024 Nov 29 07:05 PM",
          "2024 Nov 29 07:05 PM"
         ],
         "x0": " ",
         "xaxis": "x",
         "y": [
          96,
          94.1,
          96.4,
          119.5,
          120.6,
          134,
          110.1,
          146.2,
          139.6,
          126.6,
          143.1,
          134.6,
          132.6,
          116.6,
          136.7,
          145.4,
          134.7,
          114.1,
          136.4,
          123.7,
          86.6,
          71.6,
          169.9,
          177.9,
          150.1,
          159.4,
          133.7,
          162,
          124,
          126.1,
          170.4,
          163.6,
          175.6,
          171,
          167.4,
          146.7,
          170.7,
          120.8,
          124.5,
          147.5,
          180.9,
          42.2,
          49.4,
          44,
          125.6,
          120.1,
          111,
          139.2,
          99.6,
          116.6,
          167,
          163.7,
          136.7,
          102.2,
          155,
          115.2,
          120.7,
          126.1,
          93.9,
          122.4,
          97.5,
          130.4,
          96.9,
          97.7,
          116,
          102.5,
          101.6,
          148.2,
          161.1,
          173.2,
          177.6,
          134.6,
          150.3,
          129.3,
          130,
          108.8,
          159.4,
          164.9,
          158.5,
          125.2,
          147.7,
          143.2,
          159,
          155.7,
          151.4,
          168.7,
          156.7,
          157.9,
          177.2,
          170.8,
          164.4,
          163.9,
          182.5,
          120.3,
          172,
          158.4,
          137.5,
          177.4,
          190.6,
          184.9,
          177.5,
          107.9,
          170.5,
          156.1,
          126.5,
          177.6,
          149.8,
          118.1,
          26.9,
          138.8,
          159.2,
          116.5,
          133.4,
          157.2,
          168,
          133.1,
          151.5,
          149,
          126,
          168.5,
          136.6,
          146.5,
          141.9,
          135.1,
          122.8,
          119.2,
          125.2,
          108.9,
          134.3,
          114.3,
          106.9,
          138,
          146.2,
          108.9,
          129.8,
          140.2,
          112.8,
          116.1,
          138.2,
          103.5,
          132.2,
          141.8,
          147.4,
          119.6,
          120.3,
          144,
          114.8,
          145.2,
          114.1,
          119.8,
          144.5,
          166.5,
          116.9,
          153.5,
          150.1,
          148.8,
          155.3,
          137.2,
          163.2,
          137.3,
          116.1,
          129.2,
          147,
          151,
          45.8,
          130.1,
          144.5,
          149,
          152.2,
          127.4,
          155.1,
          126.4,
          143.1,
          148,
          173.9,
          159.7,
          163.9,
          158.2,
          140.5,
          169.1,
          151.7,
          149.6,
          161.9
         ],
         "y0": " ",
         "yaxis": "y"
        }
       ],
       "layout": {
        "boxmode": "group",
        "legend": {
         "tracegroupgap": 0
        },
        "margin": {
         "t": 60
        },
        "template": {
         "data": {
          "candlestick": [
           {
            "decreasing": {
             "line": {
              "color": "#000033"
             }
            },
            "increasing": {
             "line": {
              "color": "#000032"
             }
            },
            "type": "candlestick"
           }
          ],
          "contour": [
           {
            "colorscale": [
             [
              0,
              "#000011"
             ],
             [
              0.1111111111111111,
              "#000012"
             ],
             [
              0.2222222222222222,
              "#000013"
             ],
             [
              0.3333333333333333,
              "#000014"
             ],
             [
              0.4444444444444444,
              "#000015"
             ],
             [
              0.5555555555555556,
              "#000016"
             ],
             [
              0.6666666666666666,
              "#000017"
             ],
             [
              0.7777777777777778,
              "#000018"
             ],
             [
              0.8888888888888888,
              "#000019"
             ],
             [
              1,
              "#000020"
             ]
            ],
            "type": "contour"
           }
          ],
          "contourcarpet": [
           {
            "colorscale": [
             [
              0,
              "#000011"
             ],
             [
              0.1111111111111111,
              "#000012"
             ],
             [
              0.2222222222222222,
              "#000013"
             ],
             [
              0.3333333333333333,
              "#000014"
             ],
             [
              0.4444444444444444,
              "#000015"
             ],
             [
              0.5555555555555556,
              "#000016"
             ],
             [
              0.6666666666666666,
              "#000017"
             ],
             [
              0.7777777777777778,
              "#000018"
             ],
             [
              0.8888888888888888,
              "#000019"
             ],
             [
              1,
              "#000020"
             ]
            ],
            "type": "contourcarpet"
           }
          ],
          "heatmap": [
           {
            "colorscale": [
             [
              0,
              "#000011"
             ],
             [
              0.1111111111111111,
              "#000012"
             ],
             [
              0.2222222222222222,
              "#000013"
             ],
             [
              0.3333333333333333,
              "#000014"
             ],
             [
              0.4444444444444444,
              "#000015"
             ],
             [
              0.5555555555555556,
              "#000016"
             ],
             [
              0.6666666666666666,
              "#000017"
             ],
             [
              0.7777777777777778,
              "#000018"
             ],
             [
              0.8888888888888888,
              "#000019"
             ],
             [
              1,
              "#000020"
             ]
            ],
            "type": "heatmap"
           }
          ],
          "histogram2d": [
           {
            "colorscale": [
             [
              0,
              "#000011"
             ],
             [
              0.1111111111111111,
              "#000012"
             ],
             [
              0.2222222222222222,
              "#000013"
             ],
             [
              0.3333333333333333,
              "#000014"
             ],
             [
              0.4444444444444444,
              "#000015"
             ],
             [
              0.5555555555555556,
              "#000016"
             ],
             [
              0.6666666666666666,
              "#000017"
             ],
             [
              0.7777777777777778,
              "#000018"
             ],
             [
              0.8888888888888888,
              "#000019"
             ],
             [
              1,
              "#000020"
             ]
            ],
            "type": "histogram2d"
           }
          ],
          "icicle": [
           {
            "textfont": {
             "color": "white"
            },
            "type": "icicle"
           }
          ],
          "sankey": [
           {
            "textfont": {
             "color": "#000036"
            },
            "type": "sankey"
           }
          ],
          "scatter": [
           {
            "marker": {
             "line": {
              "width": 0
             }
            },
            "type": "scatter"
           }
          ],
          "table": [
           {
            "cells": {
             "fill": {
              "color": "#000038"
             },
             "font": {
              "color": "#000037"
             },
             "line": {
              "color": "#000039"
             }
            },
            "header": {
             "fill": {
              "color": "#000040"
             },
             "font": {
              "color": "#000036"
             },
             "line": {
              "color": "#000039"
             }
            },
            "type": "table"
           }
          ],
          "waterfall": [
           {
            "connector": {
             "line": {
              "color": "#000036",
              "width": 2
             }
            },
            "decreasing": {
             "marker": {
              "color": "#000033"
             }
            },
            "increasing": {
             "marker": {
              "color": "#000032"
             }
            },
            "totals": {
             "marker": {
              "color": "#000034"
             }
            },
            "type": "waterfall"
           }
          ]
         },
         "layout": {
          "coloraxis": {
           "colorscale": [
            [
             0,
             "#000011"
            ],
            [
             0.1111111111111111,
             "#000012"
            ],
            [
             0.2222222222222222,
             "#000013"
            ],
            [
             0.3333333333333333,
             "#000014"
            ],
            [
             0.4444444444444444,
             "#000015"
            ],
            [
             0.5555555555555556,
             "#000016"
            ],
            [
             0.6666666666666666,
             "#000017"
            ],
            [
             0.7777777777777778,
             "#000018"
            ],
            [
             0.8888888888888888,
             "#000019"
            ],
            [
             1,
             "#000020"
            ]
           ]
          },
          "colorscale": {
           "diverging": [
            [
             0,
             "#000021"
            ],
            [
             0.1,
             "#000022"
            ],
            [
             0.2,
             "#000023"
            ],
            [
             0.3,
             "#000024"
            ],
            [
             0.4,
             "#000025"
            ],
            [
             0.5,
             "#000026"
            ],
            [
             0.6,
             "#000027"
            ],
            [
             0.7,
             "#000028"
            ],
            [
             0.8,
             "#000029"
            ],
            [
             0.9,
             "#000030"
            ],
            [
             1,
             "#000031"
            ]
           ],
           "sequential": [
            [
             0,
             "#000011"
            ],
            [
             0.1111111111111111,
             "#000012"
            ],
            [
             0.2222222222222222,
             "#000013"
            ],
            [
             0.3333333333333333,
             "#000014"
            ],
            [
             0.4444444444444444,
             "#000015"
            ],
            [
             0.5555555555555556,
             "#000016"
            ],
            [
             0.6666666666666666,
             "#000017"
            ],
            [
             0.7777777777777778,
             "#000018"
            ],
            [
             0.8888888888888888,
             "#000019"
            ],
            [
             1,
             "#000020"
            ]
           ],
           "sequentialminus": [
            [
             0,
             "#000011"
            ],
            [
             0.1111111111111111,
             "#000012"
            ],
            [
             0.2222222222222222,
             "#000013"
            ],
            [
             0.3333333333333333,
             "#000014"
            ],
            [
             0.4444444444444444,
             "#000015"
            ],
            [
             0.5555555555555556,
             "#000016"
            ],
            [
             0.6666666666666666,
             "#000017"
            ],
            [
             0.7777777777777778,
             "#000018"
            ],
            [
             0.8888888888888888,
             "#000019"
            ],
            [
             1,
             "#000020"
            ]
           ]
          },
          "colorway": [
           "#000001",
           "#000002",
           "#000003",
           "#000004",
           "#000005",
           "#000006",
           "#000007",
           "#000008",
           "#000009",
           "#000010"
          ]
         }
        },
        "xaxis": {
         "anchor": "y",
         "domain": [
          0,
          1
         ],
         "title": {
          "text": "Session"
         }
        },
        "yaxis": {
         "anchor": "x",
         "domain": [
          0,
          1
         ],
         "title": {
          "text": "Carry yds"
         }
        }
       }
      }
     },
     "metadata": {},
     "output_type": "display_data"
    }
   ],
   "source": [
    "\n",
    "# Create the box plot\n",
    "fig = px.box(dfset, x='Session', y=\"Carry yds\")\n",
    "fig.show()\n"
   ]
  },
  {
   "cell_type": "code",
   "execution_count": 58,
   "metadata": {},
   "outputs": [
    {
     "name": "stdout",
     "output_type": "stream",
     "text": [
      "datetime64[ns]\n"
     ]
    }
   ],
   "source": [
    "print(df['Time'].dtype)"
   ]
  },
  {
   "cell_type": "code",
   "execution_count": null,
   "metadata": {},
   "outputs": [],
   "source": []
  }
 ],
 "metadata": {
  "kernelspec": {
   "display_name": "golfenv",
   "language": "python",
   "name": "python3"
  },
  "language_info": {
   "codemirror_mode": {
    "name": "ipython",
    "version": 3
   },
   "file_extension": ".py",
   "mimetype": "text/x-python",
   "name": "python",
   "nbconvert_exporter": "python",
   "pygments_lexer": "ipython3",
   "version": "3.13.1"
  }
 },
 "nbformat": 4,
 "nbformat_minor": 2
}
