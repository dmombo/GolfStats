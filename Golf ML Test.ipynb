{
 "cells": [
  {
   "cell_type": "code",
   "execution_count": 1,
   "metadata": {},
   "outputs": [],
   "source": [
    "import pandas as pd\n",
    "import streamlit as st\n",
    "import plotly.express as px\n",
    "import plotly.subplots as sp\n",
    "import numpy as np\n",
    "import functions as mlfn\n",
    "import scipy.stats as stats\n",
    "\n",
    "# File and folder path\n",
    "fol = ''\n",
    "fn = 'FS_Golf_DB.xlsx'\n",
    "df = pd.read_excel(fol+fn)\n"
   ]
  },
  {
   "cell_type": "code",
   "execution_count": 2,
   "metadata": {},
   "outputs": [],
   "source": [
    "\n",
    "import matplotlib.pyplot as plt\n",
    "import statsmodels.graphics.api as smg\n",
    "%matplotlib inline\n"
   ]
  },
  {
   "cell_type": "code",
   "execution_count": 3,
   "metadata": {},
   "outputs": [],
   "source": [
    "dimensions = ['Club','Golfer','Session','Shot_Type','Mode']\n",
    "\n",
    "#  No data in 'Curve_Dist_yds\n",
    "# Lateral_Impact_in and Vertical_Impact_in are not in the data until 'Mombo ShotID' 407\n",
    "num_columns = ['Ball_mph', 'Club_mph', 'Smash_Factor', 'Carry_yds','Total_yds', 'Roll_yds', 'Swing_H', 'Height_ft', 'Time_s', 'AOA',\n",
    "       'Spin_Loft', 'Swing_V', 'Spin_Axis', 'Lateral_yds', 'FTP', 'FTT','Dynamic_Loft', 'Club_Path', 'Launch_H', 'Launch_V', 'DescentV', \n",
    "       'Lateral_Impact_in', 'Vertical_Impact_in']\n",
    "\n",
    "clubs = ['Driver','3 Wood','5 Wood','4 Iron','5 Iron','6 Iron','7 Iron', '8 Iron','9 Iron', 'Pitching Wedge',  'Gap Wedge','Sand Wedge' , 'Lob Wedge']\n",
    "\n"
   ]
  },
  {
   "cell_type": "code",
   "execution_count": 4,
   "metadata": {},
   "outputs": [],
   "source": [
    "#### Helper functions   ################################################################\n",
    "# Convert value with error handling\n",
    "def convert_value(value):\n",
    "    \"\"\"\n",
    "    Converts any value like '40R' or '20L' to numerical form:\n",
    "    - '40R' becomes -40\n",
    "    - '20L' becomes 20\n",
    "    Returns None for invalid entries.\n",
    "    \"\"\"\n",
    "    try:\n",
    "        value = str(value).strip()  # Ensure value is a string and remove spaces\n",
    "        number, direction = value[:-1], value[-1].upper()  # Split number and direction\n",
    "        number = float(number)\n",
    "        return -number if direction == 'R' else number if direction == 'L' else None\n",
    "    except (ValueError, AttributeError):\n",
    "        return None  # Return None for invalid entries\n",
    "\n",
    "# Convert entire column and handle missing column errors\n",
    "def convert_column(df, col):\n",
    "    \"\"\"\n",
    "    Converts all values in a column using convert_value.\n",
    "    Handles missing column errors gracefully.\n",
    "    \"\"\"\n",
    "    if col in df.columns:\n",
    "        df[col] = df[col].apply(convert_value)\n",
    "        print(f\"Column '{col}' successfully converted.\")\n",
    "    else:\n",
    "        st.error(f\"The column '{col}' is missing from the data.\")\n",
    "########################################################################################\n",
    "\n",
    "def process_df(df):\n",
    "    clubs = ['Driver','3 Wood','5 Wood','4 Iron','5 Iron','6 Iron','7 Iron', '8 Iron','9 Iron', 'Pitching Wedge',  'Gap Wedge','Sand Wedge' , 'Lob Wedge']\n",
    "    # Cleaning the column names\n",
    "    # Clean column names to ensure consistency\n",
    "    df.columns = df.columns.str.replace(r'[^\\w\\s]', '', regex=True).str.replace('\\xa0', ' ').str.strip().str.replace(' ', '_')\n",
    "\n",
    "    # Convert Time to strings for Session variable\n",
    "    df['Time'] = pd.to_datetime(df['Time'], format='%Y%m%d  %I:%M:%S %p', errors='coerce')\n",
    "    df['Session'] = df['Time'].dt.strftime('%Y %b %d %I:%M %p')  # Or any simpler string representation\n",
    "\n",
    "    # Convert all the columns that have L & R in the data        \n",
    "    lrcols = ['Swing_H','Spin_Axis','Lateral_yds','FTP','FTT','Club_Path','Launch_H']\n",
    "    for col in lrcols:\n",
    "        convert_column(df,col)\n",
    "\n",
    "    # Coerce any string values to numeric in num_columns\n",
    "    df[num_columns] = df[num_columns].apply(pd.to_numeric, errors='coerce')\n",
    "\n",
    "    # Calculate averages per golfer, session and per Club etc.  Aggregation\n",
    "    # s ############################\n",
    "    # 1. Parse & sort\n",
    "    df['Session_dt'] = pd.to_datetime(df['Session'], format='%Y %b %d %I:%M %p')\n",
    "    df = df.sort_values('Session_dt').copy()\n",
    "    # 2. Convert Session to ordered categorical\n",
    "    sorted_sessions = df['Session'].unique()\n",
    "    df['Session'] = pd.Categorical(\n",
    "        df['Session'],\n",
    "        categories=sorted_sessions,\n",
    "        ordered=True             )\n",
    "    # 3. Pivot with Sessions\n",
    "    df_pivot = df.pivot_table(\n",
    "        index='Club',\n",
    "        columns=['Golfer', 'Session'],\n",
    "        values=num_columns, \n",
    "        aggfunc='mean')\n",
    "    # 4. (Optional) Reindex columns to ensure Session is in ascending chronological order\n",
    "    df_sessions = df_pivot.reindex(columns=sorted_sessions, level='Session')\n",
    "\n",
    "    df_golfer = df.pivot_table(\n",
    "        index='Club',\n",
    "        columns=['Golfer'],\n",
    "        values=num_columns, \n",
    "        aggfunc='mean')\n",
    "    df_golfer = df_golfer.reindex(clubs)\n",
    "    df_sessions = df_sessions.reindex(clubs)\n",
    "    \n",
    "    return df,df_sessions,df_golfer"
   ]
  },
  {
   "cell_type": "code",
   "execution_count": 5,
   "metadata": {},
   "outputs": [
    {
     "name": "stdout",
     "output_type": "stream",
     "text": [
      "Column 'Swing_H' successfully converted.\n",
      "Column 'Spin_Axis' successfully converted.\n",
      "Column 'Lateral_yds' successfully converted.\n",
      "Column 'FTP' successfully converted.\n",
      "Column 'FTT' successfully converted.\n",
      "Column 'Club_Path' successfully converted.\n",
      "Column 'Launch_H' successfully converted.\n"
     ]
    },
    {
     "name": "stderr",
     "output_type": "stream",
     "text": [
      "C:\\Users\\dmomb\\AppData\\Local\\Temp\\ipykernel_18964\\1731373651.py:61: FutureWarning: The default value of observed=False is deprecated and will change to observed=True in a future version of pandas. Specify observed=False to silence this warning and retain the current behavior\n",
      "  df_pivot = df.pivot_table(\n"
     ]
    }
   ],
   "source": [
    "df, df_sessions, df_golfer = process_df(df)       # #  Club in rows, Golfer, Session in Columns as MultiIndex  (all metrics)"
   ]
  },
  {
   "cell_type": "code",
   "execution_count": 6,
   "metadata": {},
   "outputs": [
    {
     "name": "stdout",
     "output_type": "stream",
     "text": [
      "Mombo_ShotID                   int64\n",
      "Club                          object\n",
      "Time                  datetime64[ns]\n",
      "Golfer                        object\n",
      "Shot                           int64\n",
      "Video                        float64\n",
      "Ball_mph                     float64\n",
      "Club_mph                     float64\n",
      "Smash_Factor                 float64\n",
      "Carry_yds                    float64\n",
      "Total_yds                    float64\n",
      "Roll_yds                     float64\n",
      "Swing_H                      float64\n",
      "Spin_rpm                       int64\n",
      "Height_ft                    float64\n",
      "Time_s                       float64\n",
      "AOA                          float64\n",
      "Spin_Loft                    float64\n",
      "Swing_V                      float64\n",
      "Spin_Axis                    float64\n",
      "Lateral_yds                  float64\n",
      "Shot_Type                     object\n",
      "FTP                          float64\n",
      "FTT                          float64\n",
      "Dynamic_Loft                 float64\n",
      "Club_Path                    float64\n",
      "Launch_H                     float64\n",
      "Launch_V                     float64\n",
      "Low_Point_ftin                object\n",
      "DescentV                     float64\n",
      "Curve_Dist_yds               float64\n",
      "Lateral_Impact_in            float64\n",
      "Vertical_Impact_in           float64\n",
      "Mode                          object\n",
      "Location                      object\n",
      "Unnamed_35                   float64\n",
      "Unnamed_36                   float64\n",
      "Unnamed_37                   float64\n",
      "Unnamed_38                   float64\n",
      "Unnamed_39                   float64\n",
      "Unnamed_40                   float64\n",
      "Comment                       object\n",
      "User1                        float64\n",
      "User2                        float64\n",
      "Exclude                       object\n",
      "Session                     category\n",
      "Session_dt            datetime64[ns]\n",
      "dtype: object\n"
     ]
    }
   ],
   "source": [
    "print(df.dtypes)\n"
   ]
  },
  {
   "cell_type": "code",
   "execution_count": 7,
   "metadata": {},
   "outputs": [
    {
     "name": "stdout",
     "output_type": "stream",
     "text": [
      "Ball_mph: 0 string values\n",
      "Club_mph: 0 string values\n",
      "Smash_Factor: 0 string values\n",
      "Carry_yds: 0 string values\n",
      "Total_yds: 0 string values\n",
      "Roll_yds: 0 string values\n",
      "Swing_H: 0 string values\n",
      "Height_ft: 0 string values\n",
      "Time_s: 0 string values\n",
      "AOA: 0 string values\n",
      "Spin_Loft: 0 string values\n",
      "Swing_V: 0 string values\n",
      "Spin_Axis: 0 string values\n",
      "Lateral_yds: 0 string values\n",
      "FTP: 0 string values\n",
      "FTT: 0 string values\n",
      "Dynamic_Loft: 0 string values\n",
      "Club_Path: 0 string values\n",
      "Launch_H: 0 string values\n",
      "Launch_V: 0 string values\n",
      "DescentV: 0 string values\n",
      "Lateral_Impact_in: 0 string values\n",
      "Vertical_Impact_in: 0 string values\n"
     ]
    }
   ],
   "source": [
    "df[num_columns] = df[num_columns].apply(pd.to_numeric, errors='coerce')\n",
    "\n",
    "for col in num_columns:\n",
    "    print(f\"{col}: {df[col].apply(lambda x: isinstance(x, str)).sum()} string values\")\n"
   ]
  },
  {
   "cell_type": "code",
   "execution_count": 8,
   "metadata": {},
   "outputs": [
    {
     "data": {
      "text/plain": [
       "<Figure size 1200x800 with 0 Axes>"
      ]
     },
     "metadata": {},
     "output_type": "display_data"
    },
    {
     "data": {
      "image/png": "[encoded data removed]",
      "text/plain": [
       "<Figure size 640x480 with 2 Axes>"
      ]
     },
     "metadata": {},
     "output_type": "display_data"
    }
   ],
   "source": [
    "# Set larger figure size\n",
    "plt.figure(figsize=(12, 8))  # Adjust width and height as needed\n",
    "\n",
    "# Compute correlation matrix\n",
    "corr_matrix = np.corrcoef(df[num_columns].dropna().T)\n",
    "\n",
    "# Plot the correlation matrix\n",
    "smg.plot_corr(corr_matrix, xnames=df[num_columns].columns)\n",
    "\n",
    "# Show the plot\n",
    "plt.show()\n"
   ]
  },
  {
   "cell_type": "code",
   "execution_count": 9,
   "metadata": {},
   "outputs": [
    {
     "data": {
      "text/plain": [
       "array([ 0.90529377,  0.60510404,  0.81711818,  1.        ,  0.96350986,\n",
       "       -0.33845827, -0.1099707 ,  0.62064725,  0.79475601,  0.10353572,\n",
       "       -0.17294748, -0.29220515,  0.21346582, -0.07048874,  0.1915481 ,\n",
       "        0.10568397, -0.11237105, -0.17082231,  0.05590073, -0.07464664,\n",
       "        0.38404762, -0.30903967, -0.10641975])"
      ]
     },
     "execution_count": 9,
     "metadata": {},
     "output_type": "execute_result"
    }
   ],
   "source": [
    "corr_matrix[3]"
   ]
  },
  {
   "cell_type": "code",
   "execution_count": 10,
   "metadata": {},
   "outputs": [
    {
     "data": {
      "text/html": [
       "<div>\n",
       "<style scoped>\n",
       "    .dataframe tbody tr th:only-of-type {\n",
       "        vertical-align: middle;\n",
       "    }\n",
       "\n",
       "    .dataframe tbody tr th {\n",
       "        vertical-align: top;\n",
       "    }\n",
       "\n",
       "    .dataframe thead th {\n",
       "        text-align: right;\n",
       "    }\n",
       "</style>\n",
       "<table border=\"1\" class=\"dataframe\">\n",
       "  <thead>\n",
       "    <tr style=\"text-align: right;\">\n",
       "      <th></th>\n",
       "      <th>Variable</th>\n",
       "      <th>Correlation with Carry_Yds</th>\n",
       "    </tr>\n",
       "  </thead>\n",
       "  <tbody>\n",
       "    <tr>\n",
       "      <th>0</th>\n",
       "      <td>Ball_mph</td>\n",
       "      <td>0.905294</td>\n",
       "    </tr>\n",
       "    <tr>\n",
       "      <th>1</th>\n",
       "      <td>Club_mph</td>\n",
       "      <td>0.605104</td>\n",
       "    </tr>\n",
       "    <tr>\n",
       "      <th>2</th>\n",
       "      <td>Smash_Factor</td>\n",
       "      <td>0.817118</td>\n",
       "    </tr>\n",
       "    <tr>\n",
       "      <th>3</th>\n",
       "      <td>Total_yds</td>\n",
       "      <td>0.963510</td>\n",
       "    </tr>\n",
       "    <tr>\n",
       "      <th>4</th>\n",
       "      <td>Roll_yds</td>\n",
       "      <td>-0.338458</td>\n",
       "    </tr>\n",
       "    <tr>\n",
       "      <th>5</th>\n",
       "      <td>Swing_H</td>\n",
       "      <td>-0.109971</td>\n",
       "    </tr>\n",
       "    <tr>\n",
       "      <th>6</th>\n",
       "      <td>Height_ft</td>\n",
       "      <td>0.620647</td>\n",
       "    </tr>\n",
       "    <tr>\n",
       "      <th>7</th>\n",
       "      <td>Time_s</td>\n",
       "      <td>0.794756</td>\n",
       "    </tr>\n",
       "    <tr>\n",
       "      <th>8</th>\n",
       "      <td>AOA</td>\n",
       "      <td>0.103536</td>\n",
       "    </tr>\n",
       "    <tr>\n",
       "      <th>9</th>\n",
       "      <td>Spin_Loft</td>\n",
       "      <td>-0.172947</td>\n",
       "    </tr>\n",
       "    <tr>\n",
       "      <th>10</th>\n",
       "      <td>Swing_V</td>\n",
       "      <td>-0.292205</td>\n",
       "    </tr>\n",
       "    <tr>\n",
       "      <th>11</th>\n",
       "      <td>Spin_Axis</td>\n",
       "      <td>0.213466</td>\n",
       "    </tr>\n",
       "    <tr>\n",
       "      <th>12</th>\n",
       "      <td>Lateral_yds</td>\n",
       "      <td>-0.070489</td>\n",
       "    </tr>\n",
       "    <tr>\n",
       "      <th>13</th>\n",
       "      <td>FTP</td>\n",
       "      <td>0.191548</td>\n",
       "    </tr>\n",
       "    <tr>\n",
       "      <th>14</th>\n",
       "      <td>FTT</td>\n",
       "      <td>0.105684</td>\n",
       "    </tr>\n",
       "    <tr>\n",
       "      <th>15</th>\n",
       "      <td>Dynamic_Loft</td>\n",
       "      <td>-0.112371</td>\n",
       "    </tr>\n",
       "    <tr>\n",
       "      <th>16</th>\n",
       "      <td>Club_Path</td>\n",
       "      <td>-0.170822</td>\n",
       "    </tr>\n",
       "    <tr>\n",
       "      <th>17</th>\n",
       "      <td>Launch_H</td>\n",
       "      <td>0.055901</td>\n",
       "    </tr>\n",
       "    <tr>\n",
       "      <th>18</th>\n",
       "      <td>Launch_V</td>\n",
       "      <td>-0.074647</td>\n",
       "    </tr>\n",
       "    <tr>\n",
       "      <th>19</th>\n",
       "      <td>DescentV</td>\n",
       "      <td>0.384048</td>\n",
       "    </tr>\n",
       "    <tr>\n",
       "      <th>20</th>\n",
       "      <td>Lateral_Impact_in</td>\n",
       "      <td>-0.309040</td>\n",
       "    </tr>\n",
       "    <tr>\n",
       "      <th>21</th>\n",
       "      <td>Vertical_Impact_in</td>\n",
       "      <td>-0.106420</td>\n",
       "    </tr>\n",
       "  </tbody>\n",
       "</table>\n",
       "</div>"
      ],
      "text/plain": [
       "              Variable  Correlation with Carry_Yds\n",
       "0             Ball_mph                    0.905294\n",
       "1             Club_mph                    0.605104\n",
       "2         Smash_Factor                    0.817118\n",
       "3            Total_yds                    0.963510\n",
       "4             Roll_yds                   -0.338458\n",
       "5              Swing_H                   -0.109971\n",
       "6            Height_ft                    0.620647\n",
       "7               Time_s                    0.794756\n",
       "8                  AOA                    0.103536\n",
       "9            Spin_Loft                   -0.172947\n",
       "10             Swing_V                   -0.292205\n",
       "11           Spin_Axis                    0.213466\n",
       "12         Lateral_yds                   -0.070489\n",
       "13                 FTP                    0.191548\n",
       "14                 FTT                    0.105684\n",
       "15        Dynamic_Loft                   -0.112371\n",
       "16           Club_Path                   -0.170822\n",
       "17            Launch_H                    0.055901\n",
       "18            Launch_V                   -0.074647\n",
       "19            DescentV                    0.384048\n",
       "20   Lateral_Impact_in                   -0.309040\n",
       "21  Vertical_Impact_in                   -0.106420"
      ]
     },
     "execution_count": 10,
     "metadata": {},
     "output_type": "execute_result"
    }
   ],
   "source": [
    "\n",
    "\n",
    "# Convert corr_matrix to DataFrame for easier manipulation\n",
    "corr_df = pd.DataFrame(corr_matrix, index=num_columns, columns=num_columns)\n",
    "\n",
    "# Extract correlation values for 'Carry_yds'\n",
    "carry_yds_corr = corr_df.loc[:, 'Carry_yds'].drop('Carry_yds')  # Drop self-correlation\n",
    "\n",
    "# Convert to a DataFrame for better display\n",
    "carry_yds_corr_df = carry_yds_corr.reset_index()\n",
    "carry_yds_corr_df.columns = ['Variable', 'Correlation with Carry_Yds']\n",
    "\n",
    "# Display the table\n",
    "carry_yds_corr_df\n"
   ]
  },
  {
   "cell_type": "code",
   "execution_count": 18,
   "metadata": {},
   "outputs": [
    {
     "data": {
      "application/vnd.plotly.v1+json": {
       "config": {
        "plotlyServerURL": "https://plot.ly"
       },
       "data": [
        {
         "alignmentgroup": "True",
         "bingroup": "x",
         "hovertemplate": "Ball_mph=%{x}<br>count=%{y}<extra></extra>",
         "legendgroup": "",
         "marker": {
          "color": "#000001",
          "pattern": {
           "shape": ""
          }
         },
         "name": "",
         "offsetgroup": "",
         "orientation": "v",
         "showlegend": false,
         "type": "histogram",
         "x": [
          86.9,
          86.7,
          82,
          82.3,
          79.1,
          67.4,
          79.1,
          87.3,
          97.2,
          97.6,
          86,
          91.6,
          95,
          90.2,
          94.1,
          94.9,
          99.1,
          92.8,
          90.9,
          91.2,
          81.9,
          94.6,
          86.7,
          90.4,
          83.7,
          95.7,
          83.3,
          89.3,
          80.5,
          87.5,
          91.1,
          88.2,
          75.2,
          82.2,
          89.1,
          81.2,
          81.2,
          87.8,
          98.4,
          89.5,
          82.1,
          92.1,
          82.7,
          80,
          90.4,
          93.6,
          94.8,
          93.9,
          92.6,
          96.1,
          101.8,
          85.5,
          93.3,
          92.3,
          72.5,
          85.3,
          86.9,
          79.6,
          83.6,
          87.7,
          84.2,
          88.6,
          88.6,
          84.8,
          82.9,
          90.5,
          96.6,
          86.7,
          95.1,
          95,
          95,
          96.9,
          79.5,
          75.5,
          85.1,
          81,
          94.5,
          84.2,
          93.4,
          91.1,
          92.4,
          90.4,
          92,
          94.4,
          88.9,
          93.1,
          87.1,
          90.7,
          87.6,
          93.9,
          95.4,
          95.1
         ],
         "xaxis": "x",
         "yaxis": "y"
        },
        {
         "alignmentgroup": "True",
         "bingroup": "x",
         "hovertemplate": "Club_mph=%{x}<br>count=%{y}<extra></extra>",
         "legendgroup": "",
         "marker": {
          "color": "#000001",
          "pattern": {
           "shape": ""
          }
         },
         "name": "",
         "offsetgroup": "",
         "orientation": "v",
         "showlegend": false,
         "type": "histogram",
         "x": [
          79.5,
          74.3,
          71.6,
          69.8,
          66.4,
          71.7,
          70,
          72.8,
          77.2,
          75.2,
          72.8,
          71.8,
          72.7,
          73,
          72.6,
          75.1,
          77.4,
          75.2,
          70.7,
          72.8,
          71.7,
          75.1,
          67.7,
          73.6,
          73.4,
          73,
          73.2,
          76.1,
          75.3,
          71,
          72.9,
          69.5,
          73.7,
          77,
          74.8,
          75.2,
          75.5,
          74.9,
          79.3,
          73.1,
          68,
          71,
          71.7,
          69.9,
          70.7,
          73.1,
          73.7,
          72.6,
          74.2,
          77.5,
          80,
          77.6,
          77.5,
          77,
          78.6,
          71,
          70.1,
          72.6,
          73.9,
          69.3,
          70.6,
          76.1,
          71.7,
          73.1,
          73.4,
          73.9,
          75.9,
          71.7,
          73.7,
          75.1,
          73,
          73.1,
          67.5,
          65.7,
          73.6,
          70.5,
          73,
          70.7,
          74.1,
          72.5,
          73.1,
          73.4,
          73.9,
          74.8,
          72.6,
          73.6,
          73.5,
          72.1,
          75.2,
          72.9,
          72.7,
          73.5
         ],
         "xaxis": "x2",
         "yaxis": "y2"
        },
        {
         "alignmentgroup": "True",
         "bingroup": "x",
         "hovertemplate": "Smash_Factor=%{x}<br>count=%{y}<extra></extra>",
         "legendgroup": "",
         "marker": {
          "color": "#000001",
          "pattern": {
           "shape": ""
          }
         },
         "name": "",
         "offsetgroup": "",
         "orientation": "v",
         "showlegend": false,
         "type": "histogram",
         "x": [
          1.09,
          1.17,
          1.14,
          1.18,
          1.19,
          0.94,
          1.13,
          1.2,
          1.26,
          1.3,
          1.18,
          1.28,
          1.31,
          1.24,
          1.3,
          1.26,
          1.28,
          1.23,
          1.29,
          1.25,
          1.14,
          1.26,
          1.28,
          1.23,
          1.14,
          1.31,
          1.14,
          1.17,
          1.07,
          1.23,
          1.25,
          1.27,
          1.02,
          1.07,
          1.19,
          1.08,
          1.08,
          1.17,
          1.24,
          1.22,
          1.21,
          1.3,
          1.15,
          1.14,
          1.28,
          1.28,
          1.29,
          1.29,
          1.25,
          1.24,
          1.27,
          1.1,
          1.2,
          1.2,
          0.92,
          1.2,
          1.24,
          1.1,
          1.13,
          1.27,
          1.19,
          1.16,
          1.24,
          1.16,
          1.13,
          1.22,
          1.27,
          1.21,
          1.29,
          1.27,
          1.3,
          1.33,
          1.18,
          1.15,
          1.16,
          1.15,
          1.29,
          1.19,
          1.26,
          1.26,
          1.26,
          1.23,
          1.24,
          1.26,
          1.22,
          1.27,
          1.19,
          1.26,
          1.16,
          1.29,
          1.31,
          1.29
         ],
         "xaxis": "x3",
         "yaxis": "y3"
        },
        {
         "alignmentgroup": "True",
         "bingroup": "x",
         "hovertemplate": "Carry_yds=%{x}<br>count=%{y}<extra></extra>",
         "legendgroup": "",
         "marker": {
          "color": "#000001",
          "pattern": {
           "shape": ""
          }
         },
         "name": "",
         "offsetgroup": "",
         "orientation": "v",
         "showlegend": false,
         "type": "histogram",
         "x": [
          108.9,
          112.1,
          100.9,
          105.3,
          97.9,
          65.7,
          97.3,
          114.2,
          132.4,
          131.6,
          107.8,
          124.2,
          127.9,
          114.2,
          122.1,
          124.8,
          134.1,
          124.8,
          118.4,
          118.5,
          102.8,
          124.7,
          109.7,
          117.2,
          101.7,
          127.1,
          85,
          114.5,
          63,
          111.7,
          116.1,
          113.1,
          85.7,
          91.3,
          114.6,
          85.6,
          98.6,
          112.4,
          133.7,
          115.5,
          100.1,
          121.6,
          79.6,
          93.6,
          120.1,
          124.4,
          126.2,
          125.2,
          120.6,
          126.7,
          140.5,
          105.8,
          122.3,
          120,
          48.1,
          108.3,
          109.7,
          96,
          83.1,
          112.8,
          105,
          112.1,
          113.2,
          105.4,
          104,
          114.2,
          128.5,
          112.2,
          128.5,
          129.1,
          128.7,
          133.2,
          98.4,
          85,
          108.4,
          99.3,
          125.4,
          108.1,
          127.2,
          120.9,
          123.1,
          121.2,
          120.3,
          127.1,
          117.7,
          122.5,
          113.4,
          119.2,
          103.5,
          127.6,
          129.1,
          128.8
         ],
         "xaxis": "x4",
         "yaxis": "y4"
        },
        {
         "alignmentgroup": "True",
         "bingroup": "x",
         "hovertemplate": "Total_yds=%{x}<br>count=%{y}<extra></extra>",
         "legendgroup": "",
         "marker": {
          "color": "#000001",
          "pattern": {
           "shape": ""
          }
         },
         "name": "",
         "offsetgroup": "",
         "orientation": "v",
         "showlegend": false,
         "type": "histogram",
         "x": [
          111.8,
          113,
          101.1,
          107.1,
          98.7,
          76.2,
          102.7,
          116.5,
          133.7,
          132.5,
          113.2,
          126.7,
          129.5,
          120.9,
          126.6,
          125.5,
          135.4,
          126.6,
          119.7,
          120.1,
          106,
          125.6,
          115.2,
          117.8,
          108.2,
          128.5,
          96.2,
          115.4,
          88,
          113.5,
          121.9,
          114.3,
          91.3,
          100.9,
          116.6,
          98.4,
          102,
          113.1,
          135.6,
          118.1,
          106.4,
          123.1,
          98.8,
          100.6,
          121.9,
          126,
          127,
          126.7,
          123.4,
          126.9,
          142.4,
          110.9,
          123.3,
          122.9,
          74.3,
          109.5,
          115.8,
          99.5,
          108.6,
          114.2,
          109.7,
          118.2,
          116,
          111.1,
          105.4,
          120.8,
          129.2,
          114.7,
          130,
          131,
          130.2,
          135.9,
          101.1,
          95.5,
          110,
          99.7,
          126.1,
          109.4,
          130.7,
          122.2,
          124.7,
          123.7,
          121.2,
          128.3,
          119.3,
          123.4,
          115.3,
          122.2,
          112,
          130.9,
          130.7,
          131.2
         ],
         "xaxis": "x5",
         "yaxis": "y5"
        },
        {
         "alignmentgroup": "True",
         "bingroup": "x",
         "hovertemplate": "Roll_yds=%{x}<br>count=%{y}<extra></extra>",
         "legendgroup": "",
         "marker": {
          "color": "#000001",
          "pattern": {
           "shape": ""
          }
         },
         "name": "",
         "offsetgroup": "",
         "orientation": "v",
         "showlegend": false,
         "type": "histogram",
         "x": [
          2.9,
          1,
          0.3,
          1.8,
          0.9,
          10.5,
          5.5,
          2.4,
          1.3,
          1,
          5.5,
          2.5,
          1.6,
          6.7,
          4.5,
          0.8,
          1.3,
          1.8,
          1.3,
          1.6,
          3.2,
          0.9,
          5.5,
          0.6,
          6.5,
          1.4,
          11.2,
          0.9,
          25,
          1.8,
          5.8,
          1.2,
          5.6,
          9.6,
          2.1,
          12.9,
          3.4,
          0.7,
          1.9,
          2.6,
          6.2,
          1.6,
          19.2,
          7,
          1.8,
          1.7,
          0.8,
          1.5,
          2.8,
          0.3,
          1.8,
          5.1,
          0.9,
          2.9,
          26.3,
          1.3,
          6.1,
          3.5,
          25.6,
          1.4,
          4.6,
          6.1,
          2.8,
          5.7,
          1.4,
          6.5,
          0.7,
          2.5,
          1.5,
          2,
          1.6,
          2.7,
          2.7,
          10.5,
          1.6,
          0.4,
          0.7,
          1.3,
          3.5,
          1.4,
          1.5,
          2.5,
          0.8,
          1.2,
          1.6,
          0.9,
          1.9,
          3,
          8.5,
          3.3,
          1.6,
          2.4
         ],
         "xaxis": "x6",
         "yaxis": "y6"
        },
        {
         "alignmentgroup": "True",
         "bingroup": "x",
         "hovertemplate": "Swing_H=%{x}<br>count=%{y}<extra></extra>",
         "legendgroup": "",
         "marker": {
          "color": "#000001",
          "pattern": {
           "shape": ""
          }
         },
         "name": "",
         "offsetgroup": "",
         "orientation": "v",
         "showlegend": false,
         "type": "histogram",
         "x": [
          12.9,
          14,
          11.1,
          7,
          9.8,
          12,
          3,
          5,
          2,
          2.9,
          6.5,
          3.3,
          3.9,
          3.5,
          6.3,
          4.3,
          4.8,
          5.7,
          5.9,
          6.1,
          5.7,
          2.8,
          2.3,
          6.7,
          -2.7,
          5.1,
          3.7,
          8.9,
          12.7,
          10.5,
          3.2,
          8.8,
          11.2,
          5.9,
          5.8,
          9.3,
          7.8,
          8.8,
          2.7,
          0.6,
          3,
          2.7,
          1.9,
          0.9,
          2.3,
          1.2,
          1.2,
          1.1,
          2.7,
          1.8,
          5,
          3.2,
          1.6,
          1.8,
          1.3,
          5,
          2.2,
          -1.4,
          -1.7,
          1.8,
          2.5,
          3.1,
          1.8,
          4.1,
          6.3,
          5.2,
          6.7,
          8.6,
          4.5,
          3.5,
          8.2,
          8.4,
          10.8,
          5.6,
          9.4,
          12.3,
          4.9,
          5.7,
          2.9,
          4.5,
          5.1,
          2.9,
          7.5,
          3.7,
          1.1,
          3.8,
          3.9,
          5.3,
          4.8,
          0.6,
          2.3,
          3.6
         ],
         "xaxis": "x7",
         "yaxis": "y7"
        },
        {
         "alignmentgroup": "True",
         "bingroup": "x",
         "hovertemplate": "Height_ft=%{x}<br>count=%{y}<extra></extra>",
         "legendgroup": "",
         "marker": {
          "color": "#000001",
          "pattern": {
           "shape": ""
          }
         },
         "name": "",
         "offsetgroup": "",
         "orientation": "v",
         "showlegend": false,
         "type": "histogram",
         "x": [
          53.3,
          80.1,
          68.4,
          59.8,
          60.2,
          20.2,
          40.3,
          58.5,
          73.1,
          69.9,
          40.1,
          69.4,
          64.7,
          42.3,
          51,
          62,
          65.3,
          65.9,
          57.6,
          54.4,
          46.8,
          62.7,
          46.3,
          71.7,
          38.9,
          58.9,
          20.6,
          57,
          8.7,
          50.5,
          45.3,
          55.4,
          35.6,
          26.8,
          49.9,
          21.4,
          47.5,
          61.6,
          62.8,
          49.9,
          39.9,
          58.8,
          16,
          33.7,
          63.6,
          59.3,
          69.8,
          62.4,
          49.4,
          86.5,
          66.5,
          43.8,
          60.8,
          48.8,
          6.2,
          54.5,
          44.4,
          46,
          18.1,
          55.3,
          47.1,
          44.7,
          47.4,
          43.1,
          51.6,
          42.3,
          70.8,
          54.1,
          68.1,
          65.2,
          68,
          64.9,
          47.1,
          28.2,
          53,
          62.3,
          75.6,
          61.9,
          61,
          66.4,
          64.2,
          62.9,
          65.5,
          71.9,
          67.5,
          62.6,
          57.9,
          53.3,
          31,
          60.4,
          66.3,
          62.7
         ],
         "xaxis": "x8",
         "yaxis": "y8"
        },
        {
         "alignmentgroup": "True",
         "bingroup": "x",
         "hovertemplate": "Time_s=%{x}<br>count=%{y}<extra></extra>",
         "legendgroup": "",
         "marker": {
          "color": "#000001",
          "pattern": {
           "shape": ""
          }
         },
         "name": "",
         "offsetgroup": "",
         "orientation": "v",
         "showlegend": false,
         "type": "histogram",
         "x": [
          4.5,
          5.2,
          4.8,
          4.6,
          4.6,
          2.7,
          3.8,
          4.6,
          5.3,
          5.2,
          4,
          5,
          5,
          4.2,
          4.6,
          4.9,
          5.1,
          5,
          4.7,
          4.6,
          4.2,
          4.9,
          4.3,
          5.1,
          3.9,
          4.8,
          3,
          4.7,
          2,
          4.4,
          4.3,
          4.6,
          3.6,
          3.3,
          4.4,
          3,
          4.2,
          4.8,
          5,
          4.4,
          3.9,
          4.8,
          2.6,
          3.6,
          4.9,
          4.8,
          5.1,
          4.9,
          4.5,
          5.6,
          5.2,
          4.1,
          4.9,
          4.4,
          1.6,
          4.5,
          4.2,
          4.1,
          2.5,
          4.6,
          4.2,
          4.2,
          4.3,
          4.1,
          4.4,
          4.2,
          5.2,
          4.5,
          5.1,
          5,
          5.1,
          5,
          4.1,
          3.3,
          4.4,
          4.7,
          5.3,
          4.7,
          4.8,
          5,
          4.9,
          4.8,
          4.9,
          5.2,
          4.9,
          4.9,
          4.6,
          4.6,
          3.7,
          4.8,
          5,
          4.9
         ],
         "xaxis": "x9",
         "yaxis": "y9"
        },
        {
         "alignmentgroup": "True",
         "bingroup": "x",
         "hovertemplate": "AOA=%{x}<br>count=%{y}<extra></extra>",
         "legendgroup": "",
         "marker": {
          "color": "#000001",
          "pattern": {
           "shape": ""
          }
         },
         "name": "",
         "offsetgroup": "",
         "orientation": "v",
         "showlegend": false,
         "type": "histogram",
         "x": [
          10.5,
          8.9,
          7.2,
          13.9,
          6.1,
          9.5,
          5.5,
          5.9,
          4.3,
          4.8,
          5.3,
          6.3,
          5.6,
          5.4,
          7.2,
          6.1,
          5.6,
          6.3,
          6.6,
          7.2,
          8,
          5.2,
          6.8,
          6.6,
          10.6,
          6.5,
          5.9,
          6.9,
          9.3,
          5.6,
          4.6,
          6.4,
          6.7,
          6.5,
          4.7,
          6.1,
          5.9,
          5.8,
          4.7,
          4.5,
          3.6,
          4,
          5.3,
          5.3,
          5.2,
          3,
          4.6,
          4.1,
          4.9,
          5.3,
          5.3,
          3,
          3.6,
          4.7,
          0.3,
          4.5,
          4,
          4.4,
          5.1,
          5.1,
          4.1,
          7,
          4,
          4.4,
          6.1,
          6.1,
          8.8,
          5.8,
          7.3,
          6.9,
          7,
          6.7,
          8.1,
          6,
          7.7,
          7.9,
          8.2,
          5.2,
          4.7,
          5.8,
          6,
          5.4,
          7.6,
          5.7,
          3.7,
          7,
          7.4,
          7.2,
          9.1,
          5.3,
          5.9,
          6.2
         ],
         "xaxis": "x10",
         "yaxis": "y10"
        },
        {
         "alignmentgroup": "True",
         "bingroup": "x",
         "hovertemplate": "Spin_Loft=%{x}<br>count=%{y}<extra></extra>",
         "legendgroup": "",
         "marker": {
          "color": "#000001",
          "pattern": {
           "shape": ""
          }
         },
         "name": "",
         "offsetgroup": "",
         "orientation": "v",
         "showlegend": false,
         "type": "histogram",
         "x": [
          47.6,
          59,
          54.6,
          59.9,
          50.7,
          53,
          38.3,
          43.8,
          38.1,
          36.2,
          32.2,
          46.2,
          38.1,
          29.5,
          33.8,
          36.7,
          34.5,
          42.7,
          39.7,
          39.3,
          45.1,
          36,
          37,
          47.4,
          41.3,
          35.9,
          37.7,
          41.5,
          39.1,
          36.3,
          29.2,
          40,
          48.1,
          35.1,
          33,
          31.7,
          44.3,
          43.4,
          32.8,
          32.6,
          30.7,
          34,
          32.7,
          31.9,
          41.4,
          31.3,
          38.2,
          34.5,
          30.8,
          46.6,
          32.9,
          30,
          32.9,
          30.6,
          12.6,
          38.9,
          30.7,
          39,
          36.2,
          37.8,
          34.5,
          36.3,
          31.5,
          32.3,
          42.2,
          30.9,
          45.3,
          40.3,
          42.8,
          40.8,
          42.3,
          39.1,
          46.5,
          33.8,
          44.3,
          53.2,
          48,
          46.3,
          36.6,
          43.3,
          41,
          41.3,
          46.6,
          42.4,
          41.9,
          40.6,
          45.6,
          39.1,
          31.4,
          36.7,
          39.1,
          38.3
         ],
         "xaxis": "x11",
         "yaxis": "y11"
        },
        {
         "alignmentgroup": "True",
         "bingroup": "x",
         "hovertemplate": "Swing_V=%{x}<br>count=%{y}<extra></extra>",
         "legendgroup": "",
         "marker": {
          "color": "#000001",
          "pattern": {
           "shape": ""
          }
         },
         "name": "",
         "offsetgroup": "",
         "orientation": "v",
         "showlegend": false,
         "type": "histogram",
         "x": [
          62.3,
          61.5,
          61.7,
          71.7,
          64.9,
          64.7,
          64.6,
          63.2,
          62.9,
          61.2,
          64.2,
          60.1,
          61.3,
          64.3,
          59.5,
          58.3,
          62.1,
          62,
          61,
          60.6,
          62.4,
          63,
          63.3,
          59.7,
          69.3,
          59,
          58.4,
          61,
          59,
          62,
          65.4,
          62.8,
          61,
          62.6,
          65.6,
          58.7,
          60.4,
          60.8,
          61.5,
          63.6,
          64.3,
          62.5,
          58.5,
          65.5,
          62.2,
          61.6,
          61.9,
          62.1,
          63.3,
          61.1,
          64.3,
          66,
          62.6,
          64.2,
          59.3,
          61.2,
          61.8,
          64.2,
          56,
          62.5,
          64.5,
          60.1,
          62,
          63.1,
          58.4,
          61.1,
          60.9,
          62,
          61.2,
          62.9,
          59.5,
          61.4,
          60.9,
          65.7,
          61.1,
          58.9,
          60.6,
          63.1,
          63.5,
          62.7,
          61.5,
          64.6,
          64.8,
          64.3,
          62.5,
          59.2,
          62.4,
          64.2,
          60.7,
          62.2,
          62.6,
          62.9
         ],
         "xaxis": "x12",
         "yaxis": "y12"
        },
        {
         "alignmentgroup": "True",
         "bingroup": "x",
         "hovertemplate": "Spin_Axis=%{x}<br>count=%{y}<extra></extra>",
         "legendgroup": "",
         "marker": {
          "color": "#000001",
          "pattern": {
           "shape": ""
          }
         },
         "name": "",
         "offsetgroup": "",
         "orientation": "v",
         "showlegend": false,
         "type": "histogram",
         "x": [
          -10.9,
          -12.6,
          -11.9,
          3.9,
          -5.3,
          -40.7,
          -2.2,
          -13,
          -7.8,
          -3.5,
          -5.8,
          -9.7,
          -4.4,
          2.7,
          -0.9,
          -1.8,
          1.1,
          -9.1,
          -9.1,
          -11.4,
          -9.9,
          -6.4,
          -1,
          -8.8,
          16,
          -4.7,
          -45,
          -10.2,
          -45,
          0.5,
          8.5,
          -4.6,
          -32.2,
          -32.2,
          -3.5,
          -33.5,
          -21.3,
          -9.5,
          5.8,
          4.6,
          -0.2,
          -2.1,
          -45,
          9.6,
          -8.6,
          1.9,
          -0.3,
          1.8,
          6.7,
          -5.5,
          2.4,
          13.4,
          1.4,
          7.8,
          -40.4,
          -8.9,
          2.6,
          11.6,
          -43.3,
          1.2,
          -7.8,
          -13.8,
          9.6,
          6.9,
          -5.1,
          7.9,
          -5.1,
          -7,
          -2.1,
          -0.2,
          -0.4,
          2.9,
          -5.8,
          9.2,
          -6.2,
          -12.6,
          -6.1,
          -10.1,
          1,
          -7.9,
          -5.9,
          -4.4,
          -16.8,
          -3.6,
          -6.1,
          -4.2,
          -9.4,
          -5.2,
          -4.6,
          1.3,
          -3.4,
          -3.3
         ],
         "xaxis": "x13",
         "yaxis": "y13"
        },
        {
         "alignmentgroup": "True",
         "bingroup": "x",
         "hovertemplate": "Lateral_yds=%{x}<br>count=%{y}<extra></extra>",
         "legendgroup": "",
         "marker": {
          "color": "#000001",
          "pattern": {
           "shape": ""
          }
         },
         "name": "",
         "offsetgroup": "",
         "orientation": "v",
         "showlegend": false,
         "type": "histogram",
         "x": [
          -1.5,
          -3.6,
          -4.6,
          9.7,
          4.9,
          -23,
          -1.5,
          -13.6,
          -12.5,
          -4.5,
          1.3,
          -15.9,
          -4.6,
          4.9,
          3,
          -1.5,
          6,
          -8.6,
          -7.9,
          -11.3,
          -9.3,
          -8.7,
          -3.4,
          -7.8,
          5.4,
          -4,
          -37.4,
          -3.9,
          -19.2,
          15.3,
          11.8,
          4.9,
          -21.8,
          -24.6,
          3.1,
          -17.1,
          -17.2,
          -2.1,
          8.8,
          2.1,
          2,
          -1.4,
          -31.5,
          6.1,
          -13.2,
          1.5,
          -3.3,
          0.2,
          8.7,
          -11.7,
          9.6,
          17.2,
          1.3,
          8.4,
          -7.3,
          -6,
          2.9,
          6.4,
          -36.4,
          -0.1,
          -7.4,
          -18.3,
          10.2,
          10.7,
          -1.4,
          12.6,
          -4.4,
          2,
          -2.3,
          -0.2,
          8.4,
          15.4,
          3.9,
          11.7,
          1.6,
          -4.4,
          -9.6,
          -7.7,
          2.6,
          -8.5,
          -4.6,
          -5.6,
          -17.9,
          -3.4,
          -10.1,
          -6.9,
          -13,
          -3.2,
          -5.2,
          -3,
          -6.9,
          -3.8
         ],
         "xaxis": "x14",
         "yaxis": "y14"
        },
        {
         "alignmentgroup": "True",
         "bingroup": "x",
         "hovertemplate": "FTP=%{x}<br>count=%{y}<extra></extra>",
         "legendgroup": "",
         "marker": {
          "color": "#000001",
          "pattern": {
           "shape": ""
          }
         },
         "name": "",
         "offsetgroup": "",
         "orientation": "v",
         "showlegend": false,
         "type": "histogram",
         "x": [
          -9,
          -12.9,
          -11.4,
          4.1,
          -4.7,
          -35.2,
          -1.4,
          -9.9,
          -5.2,
          -2.2,
          -3.2,
          -7.8,
          -2.9,
          1.4,
          -0.6,
          -1.2,
          0.7,
          -6.8,
          -6.3,
          -7.8,
          -7.8,
          -4,
          -0.6,
          -7.2,
          11.5,
          -2.9,
          -27.8,
          -7.4,
          -30,
          0.3,
          4.3,
          -3.2,
          -26,
          -18.8,
          -2,
          -17.6,
          -16.2,
          -7.1,
          3.3,
          2.6,
          -0.1,
          -1.2,
          -23.3,
          5.3,
          -6.2,
          1,
          -0.2,
          1.1,
          3.6,
          -4.4,
          1.4,
          7,
          0.8,
          4.2,
          -8.2,
          -6,
          1.4,
          7.9,
          -25,
          0.8,
          -4.7,
          -8.7,
          5.3,
          3.9,
          -3.7,
          4.2,
          -4,
          -4.9,
          -1.6,
          -0.1,
          -0.3,
          2,
          -4.7,
          5.4,
          -4.8,
          -11.7,
          -5.1,
          -8.1,
          0.7,
          -6,
          -4.2,
          -3.2,
          -13.6,
          -2.7,
          -4.5,
          -3,
          -7.5,
          -3.6,
          -2.5,
          0.8,
          -2.3,
          -2.2
         ],
         "xaxis": "x15",
         "yaxis": "y15"
        },
        {
         "alignmentgroup": "True",
         "bingroup": "x",
         "hovertemplate": "FTT=%{x}<br>count=%{y}<extra></extra>",
         "legendgroup": "",
         "marker": {
          "color": "#000001",
          "pattern": {
           "shape": ""
          }
         },
         "name": "",
         "offsetgroup": "",
         "orientation": "v",
         "showlegend": false,
         "type": "histogram",
         "x": [
          -1.7,
          -3.7,
          -4.1,
          6.3,
          2.2,
          -27.7,
          -1.1,
          -7.8,
          -5.4,
          -1.9,
          0.7,
          -8.2,
          -2.1,
          2.3,
          1.4,
          -0.6,
          2.5,
          -4.4,
          -4,
          -5.7,
          -6.3,
          -3.9,
          -1.8,
          -4.4,
          4.7,
          -1.7,
          -27.7,
          -2.3,
          -22.9,
          7.9,
          5.4,
          2.3,
          -18.5,
          -16.3,
          1.6,
          -11.9,
          -11.7,
          -1.6,
          3.5,
          0.9,
          1.2,
          -0.6,
          -24.7,
          3.8,
          -6.7,
          0.6,
          -1.5,
          0,
          3.9,
          -5.6,
          3.8,
          8.9,
          0.5,
          3.7,
          -7.1,
          -3.5,
          1.5,
          4.3,
          -30.1,
          0,
          -4.1,
          -9.6,
          4.9,
          5.8,
          -1.1,
          6.1,
          -2.2,
          0.7,
          -1.1,
          -0.1,
          3.7,
          6.7,
          1.6,
          8.4,
          0.3,
          -4.1,
          -4.8,
          -5,
          1.2,
          -4.5,
          -2.4,
          -2.9,
          -9.7,
          -1.7,
          -5.3,
          -3.4,
          -7.4,
          -1.8,
          -2.9,
          -1.4,
          -3.2,
          -1.8
         ],
         "xaxis": "x16",
         "yaxis": "y16"
        },
        {
         "alignmentgroup": "True",
         "bingroup": "x",
         "hovertemplate": "Dynamic_Loft=%{x}<br>count=%{y}<extra></extra>",
         "legendgroup": "",
         "marker": {
          "color": "#000001",
          "pattern": {
           "shape": ""
          }
         },
         "name": "",
         "offsetgroup": "",
         "orientation": "v",
         "showlegend": false,
         "type": "histogram",
         "x": [
          36.3,
          49,
          46.4,
          45.8,
          44.4,
          31.4,
          32.8,
          36.9,
          33.5,
          31.4,
          26.7,
          39.3,
          32.3,
          24.1,
          26.6,
          30.6,
          28.9,
          36,
          32.7,
          31.5,
          36.5,
          30.6,
          30.1,
          40.3,
          29.2,
          29.2,
          20.2,
          34,
          16.2,
          30.7,
          24.3,
          33.5,
          34.6,
          23.4,
          28.3,
          20.5,
          35.7,
          37.1,
          27.9,
          28,
          27.1,
          30,
          17.9,
          26.2,
          35.8,
          28.2,
          33.5,
          30.4,
          25.7,
          41.1,
          27.6,
          26.3,
          29.2,
          25.6,
          9.3,
          34.1,
          26.6,
          33.9,
          21.5,
          32.7,
          30.1,
          28.4,
          27.1,
          27.6,
          36,
          24.5,
          36.3,
          34.3,
          35.5,
          33.9,
          35.3,
          32.4,
          38.3,
          27.4,
          36.4,
          44.2,
          39.6,
          40.5,
          31.8,
          37.1,
          34.7,
          35.8,
          37.1,
          36.6,
          38,
          33.5,
          37.6,
          31.7,
          22.2,
          31.4,
          33.1,
          32
         ],
         "xaxis": "x17",
         "yaxis": "y17"
        },
        {
         "alignmentgroup": "True",
         "bingroup": "x",
         "hovertemplate": "Club_Path=%{x}<br>count=%{y}<extra></extra>",
         "legendgroup": "",
         "marker": {
          "color": "#000001",
          "pattern": {
           "shape": ""
          }
         },
         "name": "",
         "offsetgroup": "",
         "orientation": "v",
         "showlegend": false,
         "type": "histogram",
         "x": [
          7.3,
          9.2,
          7.2,
          2.1,
          6.9,
          7.5,
          0.4,
          2,
          -0.2,
          0.3,
          3.9,
          -0.4,
          0.8,
          0.9,
          2,
          0.5,
          1.8,
          2.4,
          2.2,
          2.1,
          1.5,
          0.1,
          -1.2,
          2.8,
          -6.8,
          1.2,
          0.1,
          5,
          7,
          7.5,
          1.1,
          5.5,
          7.5,
          2.5,
          3.7,
          5.6,
          4.5,
          5.6,
          0.2,
          -1.7,
          1.2,
          0.6,
          -1.4,
          -1.5,
          -0.5,
          -0.4,
          -1.3,
          -1.1,
          0.3,
          -1.1,
          2.4,
          1.9,
          -0.3,
          -0.5,
          1.1,
          2.6,
          0.1,
          -3.6,
          -5.1,
          -0.8,
          0.6,
          -0.9,
          -0.4,
          1.9,
          2.6,
          1.9,
          1.8,
          5.6,
          0.4,
          0,
          4,
          4.7,
          6.3,
          2.9,
          5.1,
          7.6,
          0.3,
          3.1,
          0.5,
          1.5,
          1.8,
          0.3,
          3.9,
          1,
          -0.8,
          -0.4,
          0,
          1.8,
          -0.3,
          -2.2,
          -0.8,
          0.4
         ],
         "xaxis": "x18",
         "yaxis": "y18"
        },
        {
         "alignmentgroup": "True",
         "bingroup": "x",
         "hovertemplate": "Launch_H=%{x}<br>count=%{y}<extra></extra>",
         "legendgroup": "",
         "marker": {
          "color": "#000001",
          "pattern": {
           "shape": ""
          }
         },
         "name": "",
         "offsetgroup": "",
         "orientation": "v",
         "showlegend": false,
         "type": "histogram",
         "x": [
          1.3,
          0.6,
          -0.4,
          4.6,
          3.8,
          -16,
          -0.6,
          -4.6,
          -3.8,
          -1.2,
          1.6,
          -5.6,
          -1.2,
          2,
          1.6,
          -0.3,
          2.3,
          -2.2,
          -2.1,
          -3.3,
          -3.7,
          -2.7,
          -1.6,
          -2,
          0.5,
          -0.9,
          -19.3,
          0,
          -13.7,
          7.8,
          4.3,
          3.3,
          -9.9,
          -10.9,
          2.2,
          -7.2,
          -6.4,
          0.8,
          2.6,
          0.2,
          1.2,
          -0.3,
          -18.2,
          2.3,
          -4.7,
          0.3,
          -1.5,
          -0.3,
          2.9,
          -4.1,
          3.4,
          7,
          0.3,
          2.6,
          -6.2,
          -1.6,
          1.1,
          1.9,
          -22.8,
          -0.3,
          -2.8,
          -7,
          3.5,
          4.7,
          0.1,
          5,
          -0.9,
          2.2,
          -0.6,
          -0.1,
          3.8,
          6.1,
          3.1,
          6.8,
          1.9,
          -0.2,
          -3.1,
          -2.3,
          1,
          -2.5,
          -1.1,
          -1.8,
          -5.2,
          -0.8,
          -3.8,
          -2.4,
          -5,
          -0.7,
          -2.2,
          -1.6,
          -2.4,
          -1.1
         ],
         "xaxis": "x19",
         "yaxis": "y19"
        },
        {
         "alignmentgroup": "True",
         "bingroup": "x",
         "hovertemplate": "Launch_V=%{x}<br>count=%{y}<extra></extra>",
         "legendgroup": "",
         "marker": {
          "color": "#000001",
          "pattern": {
           "shape": ""
          }
         },
         "name": "",
         "offsetgroup": "",
         "orientation": "v",
         "showlegend": false,
         "type": "histogram",
         "x": [
          20.8,
          29.8,
          28.6,
          25.9,
          27.7,
          17.8,
          21.2,
          22.9,
          22,
          20.8,
          18,
          24.1,
          20.8,
          16.5,
          17.1,
          19.7,
          19.1,
          22.3,
          20.5,
          19.5,
          21.7,
          20.1,
          19.1,
          24.7,
          18.1,
          18.8,
          12.3,
          21,
          8.3,
          20,
          17,
          21,
          20.9,
          14.7,
          19.1,
          13.3,
          21.9,
          23.1,
          18.9,
          19.1,
          19,
          20.4,
          11.5,
          17.7,
          22.8,
          19.9,
          22,
          20.6,
          17.7,
          25.7,
          18.5,
          18.7,
          20.1,
          17.6,
          8.2,
          22.2,
          18.6,
          22.1,
          13.6,
          21.3,
          20.4,
          18,
          18.7,
          18.9,
          22.5,
          16.4,
          21.3,
          21.7,
          21.6,
          21.1,
          21.7,
          20.3,
          22.9,
          18,
          21.8,
          26.9,
          23.7,
          25.4,
          21,
          23.1,
          21.9,
          22.7,
          22.3,
          23,
          24.6,
          20.8,
          22.7,
          19.8,
          13.8,
          20.6,
          21.1,
          20.4
         ],
         "xaxis": "x20",
         "yaxis": "y20"
        },
        {
         "alignmentgroup": "True",
         "bingroup": "x",
         "hovertemplate": "DescentV=%{x}<br>count=%{y}<extra></extra>",
         "legendgroup": "",
         "marker": {
          "color": "#000001",
          "pattern": {
           "shape": ""
          }
         },
         "name": "",
         "offsetgroup": "",
         "orientation": "v",
         "showlegend": false,
         "type": "histogram",
         "x": [
          40.3,
          48.6,
          47.5,
          42.7,
          44.6,
          25.7,
          34,
          40.7,
          43.8,
          43.1,
          32.4,
          43.1,
          41.5,
          33.4,
          37,
          41.4,
          41.2,
          42.1,
          40.2,
          38.8,
          37.1,
          41.6,
          36.1,
          45.7,
          33.3,
          39.6,
          22.8,
          40.8,
          12.4,
          38,
          34.8,
          40.1,
          34.4,
          26.8,
          37.2,
          22.9,
          39.1,
          42.9,
          40.1,
          37,
          34.1,
          40.1,
          18.2,
          31.3,
          41.9,
          39.9,
          43.7,
          41.1,
          36,
          48.7,
          40.6,
          35.6,
          41.1,
          35.8,
          10.9,
          40.4,
          35,
          38.7,
          18.4,
          40,
          37.4,
          34.9,
          36.1,
          35.1,
          39.7,
          33.4,
          44,
          39.2,
          42.5,
          41.3,
          42.4,
          40.5,
          38.1,
          28.2,
          39.5,
          45.6,
          45.7,
          43.2,
          39.5,
          43,
          41.9,
          41.3,
          43.1,
          44,
          43.6,
          41.8,
          40.7,
          37.8,
          28.2,
          39.3,
          41.8,
          40.4
         ],
         "xaxis": "x21",
         "yaxis": "y21"
        },
        {
         "alignmentgroup": "True",
         "bingroup": "x",
         "hovertemplate": "Lateral_Impact_in=%{x}<br>count=%{y}<extra></extra>",
         "legendgroup": "",
         "marker": {
          "color": "#000001",
          "pattern": {
           "shape": ""
          }
         },
         "name": "",
         "offsetgroup": "",
         "orientation": "v",
         "showlegend": false,
         "type": "histogram",
         "x": [
          null,
          null,
          null,
          null,
          null,
          null,
          null,
          null,
          null,
          null,
          null,
          null,
          null,
          null,
          null,
          null,
          null,
          null,
          null,
          null,
          null,
          null,
          null,
          null,
          null,
          null,
          null,
          1,
          0.46,
          0.59,
          0.46,
          0.25,
          0.74,
          1.09,
          0.17,
          0.9,
          0.99,
          0.05,
          0.38,
          0.59,
          0.15,
          0.07,
          0.99,
          0.02,
          0.26,
          0.04,
          0.29,
          0.12,
          0.27,
          0.26,
          0.65,
          0.43,
          0.4,
          0.18,
          1.38,
          0.73,
          0.08,
          0.79,
          0.07,
          0.21,
          0.56,
          1.24,
          0.59,
          0.49,
          0.65,
          0.09,
          0.32,
          0.01,
          0.28,
          0.26,
          0.26,
          0.03,
          0.47,
          0.12,
          0.13,
          0.08,
          0.02,
          0.09,
          0.35,
          0.4,
          0.43,
          0.3,
          0.38,
          0.21,
          0.27,
          0.3,
          0.11,
          0.29,
          0.72,
          0.14,
          0.1,
          0.02
         ],
         "xaxis": "x22",
         "yaxis": "y22"
        },
        {
         "alignmentgroup": "True",
         "bingroup": "x",
         "hovertemplate": "Vertical_Impact_in=%{x}<br>count=%{y}<extra></extra>",
         "legendgroup": "",
         "marker": {
          "color": "#000001",
          "pattern": {
           "shape": ""
          }
         },
         "name": "",
         "offsetgroup": "",
         "orientation": "v",
         "showlegend": false,
         "type": "histogram",
         "x": [
          null,
          null,
          null,
          null,
          null,
          null,
          null,
          null,
          null,
          null,
          null,
          null,
          null,
          null,
          null,
          null,
          null,
          null,
          null,
          null,
          null,
          null,
          null,
          null,
          null,
          null,
          null,
          0.61,
          0.7,
          0.19,
          0.22,
          0.45,
          0.35,
          0.41,
          0.33,
          0.52,
          0.37,
          0.24,
          0.04,
          0.12,
          0.22,
          0.1,
          0.05,
          0.35,
          0.79,
          0.01,
          0.06,
          0.03,
          0.1,
          0.26,
          0.35,
          0.4,
          0.02,
          0.2,
          0,
          0.14,
          0.19,
          0.34,
          1.18,
          0.1,
          0.05,
          0.4,
          0.26,
          0.32,
          0.11,
          0.44,
          0.41,
          0.19,
          0.43,
          0.11,
          0.49,
          0.21,
          0.12,
          0.29,
          0.13,
          0.45,
          0.58,
          0.12,
          0.18,
          0.33,
          0.48,
          0.14,
          0.67,
          0.1,
          0.09,
          0.73,
          0.18,
          0.31,
          0.81,
          0.07,
          0.53,
          0.4
         ],
         "xaxis": "x23",
         "yaxis": "y23"
        }
       ],
       "layout": {
        "annotations": [
         {
          "font": {
           "size": 16
          },
          "showarrow": false,
          "text": "Ball_mph",
          "x": 0.14444444444444446,
          "xanchor": "center",
          "xref": "paper",
          "y": 1,
          "yanchor": "bottom",
          "yref": "paper"
         },
         {
          "font": {
           "size": 16
          },
          "showarrow": false,
          "text": "Club_mph",
          "x": 0.5,
          "xanchor": "center",
          "xref": "paper",
          "y": 1,
          "yanchor": "bottom",
          "yref": "paper"
         },
         {
          "font": {
           "size": 16
          },
          "showarrow": false,
          "text": "Smash_Factor",
          "x": 0.8555555555555556,
          "xanchor": "center",
          "xref": "paper",
          "y": 1,
          "yanchor": "bottom",
          "yref": "paper"
         },
         {
          "font": {
           "size": 16
          },
          "showarrow": false,
          "text": "Carry_yds",
          "x": 0.14444444444444446,
          "xanchor": "center",
          "xref": "paper",
          "y": 0.8671875,
          "yanchor": "bottom",
          "yref": "paper"
         },
         {
          "font": {
           "size": 16
          },
          "showarrow": false,
          "text": "Total_yds",
          "x": 0.5,
          "xanchor": "center",
          "xref": "paper",
          "y": 0.8671875,
          "yanchor": "bottom",
          "yref": "paper"
         },
         {
          "font": {
           "size": 16
          },
          "showarrow": false,
          "text": "Roll_yds",
          "x": 0.8555555555555556,
          "xanchor": "center",
          "xref": "paper",
          "y": 0.8671875,
          "yanchor": "bottom",
          "yref": "paper"
         },
         {
          "font": {
           "size": 16
          },
          "showarrow": false,
          "text": "Swing_H",
          "x": 0.14444444444444446,
          "xanchor": "center",
          "xref": "paper",
          "y": 0.734375,
          "yanchor": "bottom",
          "yref": "paper"
         },
         {
          "font": {
           "size": 16
          },
          "showarrow": false,
          "text": "Height_ft",
          "x": 0.5,
          "xanchor": "center",
          "xref": "paper",
          "y": 0.734375,
          "yanchor": "bottom",
          "yref": "paper"
         },
         {
          "font": {
           "size": 16
          },
          "showarrow": false,
          "text": "Time_s",
          "x": 0.8555555555555556,
          "xanchor": "center",
          "xref": "paper",
          "y": 0.734375,
          "yanchor": "bottom",
          "yref": "paper"
         },
         {
          "font": {
           "size": 16
          },
          "showarrow": false,
          "text": "AOA",
          "x": 0.14444444444444446,
          "xanchor": "center",
          "xref": "paper",
          "y": 0.6015625,
          "yanchor": "bottom",
          "yref": "paper"
         },
         {
          "font": {
           "size": 16
          },
          "showarrow": false,
          "text": "Spin_Loft",
          "x": 0.5,
          "xanchor": "center",
          "xref": "paper",
          "y": 0.6015625,
          "yanchor": "bottom",
          "yref": "paper"
         },
         {
          "font": {
           "size": 16
          },
          "showarrow": false,
          "text": "Swing_V",
          "x": 0.8555555555555556,
          "xanchor": "center",
          "xref": "paper",
          "y": 0.6015625,
          "yanchor": "bottom",
          "yref": "paper"
         },
         {
          "font": {
           "size": 16
          },
          "showarrow": false,
          "text": "Spin_Axis",
          "x": 0.14444444444444446,
          "xanchor": "center",
          "xref": "paper",
          "y": 0.46875,
          "yanchor": "bottom",
          "yref": "paper"
         },
         {
          "font": {
           "size": 16
          },
          "showarrow": false,
          "text": "Lateral_yds",
          "x": 0.5,
          "xanchor": "center",
          "xref": "paper",
          "y": 0.46875,
          "yanchor": "bottom",
          "yref": "paper"
         },
         {
          "font": {
           "size": 16
          },
          "showarrow": false,
          "text": "FTP",
          "x": 0.8555555555555556,
          "xanchor": "center",
          "xref": "paper",
          "y": 0.46875,
          "yanchor": "bottom",
          "yref": "paper"
         },
         {
          "font": {
           "size": 16
          },
          "showarrow": false,
          "text": "FTT",
          "x": 0.14444444444444446,
          "xanchor": "center",
          "xref": "paper",
          "y": 0.3359375,
          "yanchor": "bottom",
          "yref": "paper"
         },
         {
          "font": {
           "size": 16
          },
          "showarrow": false,
          "text": "Dynamic_Loft",
          "x": 0.5,
          "xanchor": "center",
          "xref": "paper",
          "y": 0.3359375,
          "yanchor": "bottom",
          "yref": "paper"
         },
         {
          "font": {
           "size": 16
          },
          "showarrow": false,
          "text": "Club_Path",
          "x": 0.8555555555555556,
          "xanchor": "center",
          "xref": "paper",
          "y": 0.3359375,
          "yanchor": "bottom",
          "yref": "paper"
         },
         {
          "font": {
           "size": 16
          },
          "showarrow": false,
          "text": "Launch_H",
          "x": 0.14444444444444446,
          "xanchor": "center",
          "xref": "paper",
          "y": 0.203125,
          "yanchor": "bottom",
          "yref": "paper"
         },
         {
          "font": {
           "size": 16
          },
          "showarrow": false,
          "text": "Launch_V",
          "x": 0.5,
          "xanchor": "center",
          "xref": "paper",
          "y": 0.203125,
          "yanchor": "bottom",
          "yref": "paper"
         },
         {
          "font": {
           "size": 16
          },
          "showarrow": false,
          "text": "DescentV",
          "x": 0.8555555555555556,
          "xanchor": "center",
          "xref": "paper",
          "y": 0.203125,
          "yanchor": "bottom",
          "yref": "paper"
         },
         {
          "font": {
           "size": 16
          },
          "showarrow": false,
          "text": "Lateral_Impact_in",
          "x": 0.14444444444444446,
          "xanchor": "center",
          "xref": "paper",
          "y": 0.0703125,
          "yanchor": "bottom",
          "yref": "paper"
         },
         {
          "font": {
           "size": 16
          },
          "showarrow": false,
          "text": "Vertical_Impact_in",
          "x": 0.5,
          "xanchor": "center",
          "xref": "paper",
          "y": 0.0703125,
          "yanchor": "bottom",
          "yref": "paper"
         }
        ],
        "height": 2400,
        "template": {
         "data": {
          "candlestick": [
           {
            "decreasing": {
             "line": {
              "color": "#000033"
             }
            },
            "increasing": {
             "line": {
              "color": "#000032"
             }
            },
            "type": "candlestick"
           }
          ],
          "contour": [
           {
            "colorscale": [
             [
              0,
              "#000011"
             ],
             [
              0.1111111111111111,
              "#000012"
             ],
             [
              0.2222222222222222,
              "#000013"
             ],
             [
              0.3333333333333333,
              "#000014"
             ],
             [
              0.4444444444444444,
              "#000015"
             ],
             [
              0.5555555555555556,
              "#000016"
             ],
             [
              0.6666666666666666,
              "#000017"
             ],
             [
              0.7777777777777778,
              "#000018"
             ],
             [
              0.8888888888888888,
              "#000019"
             ],
             [
              1,
              "#000020"
             ]
            ],
            "type": "contour"
           }
          ],
          "contourcarpet": [
           {
            "colorscale": [
             [
              0,
              "#000011"
             ],
             [
              0.1111111111111111,
              "#000012"
             ],
             [
              0.2222222222222222,
              "#000013"
             ],
             [
              0.3333333333333333,
              "#000014"
             ],
             [
              0.4444444444444444,
              "#000015"
             ],
             [
              0.5555555555555556,
              "#000016"
             ],
             [
              0.6666666666666666,
              "#000017"
             ],
             [
              0.7777777777777778,
              "#000018"
             ],
             [
              0.8888888888888888,
              "#000019"
             ],
             [
              1,
              "#000020"
             ]
            ],
            "type": "contourcarpet"
           }
          ],
          "heatmap": [
           {
            "colorscale": [
             [
              0,
              "#000011"
             ],
             [
              0.1111111111111111,
              "#000012"
             ],
             [
              0.2222222222222222,
              "#000013"
             ],
             [
              0.3333333333333333,
              "#000014"
             ],
             [
              0.4444444444444444,
              "#000015"
             ],
             [
              0.5555555555555556,
              "#000016"
             ],
             [
              0.6666666666666666,
              "#000017"
             ],
             [
              0.7777777777777778,
              "#000018"
             ],
             [
              0.8888888888888888,
              "#000019"
             ],
             [
              1,
              "#000020"
             ]
            ],
            "type": "heatmap"
           }
          ],
          "histogram2d": [
           {
            "colorscale": [
             [
              0,
              "#000011"
             ],
             [
              0.1111111111111111,
              "#000012"
             ],
             [
              0.2222222222222222,
              "#000013"
             ],
             [
              0.3333333333333333,
              "#000014"
             ],
             [
              0.4444444444444444,
              "#000015"
             ],
             [
              0.5555555555555556,
              "#000016"
             ],
             [
              0.6666666666666666,
              "#000017"
             ],
             [
              0.7777777777777778,
              "#000018"
             ],
             [
              0.8888888888888888,
              "#000019"
             ],
             [
              1,
              "#000020"
             ]
            ],
            "type": "histogram2d"
           }
          ],
          "icicle": [
           {
            "textfont": {
             "color": "white"
            },
            "type": "icicle"
           }
          ],
          "sankey": [
           {
            "textfont": {
             "color": "#000036"
            },
            "type": "sankey"
           }
          ],
          "scatter": [
           {
            "marker": {
             "line": {
              "width": 0
             }
            },
            "type": "scatter"
           }
          ],
          "table": [
           {
            "cells": {
             "fill": {
              "color": "#000038"
             },
             "font": {
              "color": "#000037"
             },
             "line": {
              "color": "#000039"
             }
            },
            "header": {
             "fill": {
              "color": "#000040"
             },
             "font": {
              "color": "#000036"
             },
             "line": {
              "color": "#000039"
             }
            },
            "type": "table"
           }
          ],
          "waterfall": [
           {
            "connector": {
             "line": {
              "color": "#000036",
              "width": 2
             }
            },
            "decreasing": {
             "marker": {
              "color": "#000033"
             }
            },
            "increasing": {
             "marker": {
              "color": "#000032"
             }
            },
            "totals": {
             "marker": {
              "color": "#000034"
             }
            },
            "type": "waterfall"
           }
          ]
         },
         "layout": {
          "coloraxis": {
           "colorscale": [
            [
             0,
             "#000011"
            ],
            [
             0.1111111111111111,
             "#000012"
            ],
            [
             0.2222222222222222,
             "#000013"
            ],
            [
             0.3333333333333333,
             "#000014"
            ],
            [
             0.4444444444444444,
             "#000015"
            ],
            [
             0.5555555555555556,
             "#000016"
            ],
            [
             0.6666666666666666,
             "#000017"
            ],
            [
             0.7777777777777778,
             "#000018"
            ],
            [
             0.8888888888888888,
             "#000019"
            ],
            [
             1,
             "#000020"
            ]
           ]
          },
          "colorscale": {
           "diverging": [
            [
             0,
             "#000021"
            ],
            [
             0.1,
             "#000022"
            ],
            [
             0.2,
             "#000023"
            ],
            [
             0.3,
             "#000024"
            ],
            [
             0.4,
             "#000025"
            ],
            [
             0.5,
             "#000026"
            ],
            [
             0.6,
             "#000027"
            ],
            [
             0.7,
             "#000028"
            ],
            [
             0.8,
             "#000029"
            ],
            [
             0.9,
             "#000030"
            ],
            [
             1,
             "#000031"
            ]
           ],
           "sequential": [
            [
             0,
             "#000011"
            ],
            [
             0.1111111111111111,
             "#000012"
            ],
            [
             0.2222222222222222,
             "#000013"
            ],
            [
             0.3333333333333333,
             "#000014"
            ],
            [
             0.4444444444444444,
             "#000015"
            ],
            [
             0.5555555555555556,
             "#000016"
            ],
            [
             0.6666666666666666,
             "#000017"
            ],
            [
             0.7777777777777778,
             "#000018"
            ],
            [
             0.8888888888888888,
             "#000019"
            ],
            [
             1,
             "#000020"
            ]
           ],
           "sequentialminus": [
            [
             0,
             "#000011"
            ],
            [
             0.1111111111111111,
             "#000012"
            ],
            [
             0.2222222222222222,
             "#000013"
            ],
            [
             0.3333333333333333,
             "#000014"
            ],
            [
             0.4444444444444444,
             "#000015"
            ],
            [
             0.5555555555555556,
             "#000016"
            ],
            [
             0.6666666666666666,
             "#000017"
            ],
            [
             0.7777777777777778,
             "#000018"
            ],
            [
             0.8888888888888888,
             "#000019"
            ],
            [
             1,
             "#000020"
            ]
           ]
          },
          "colorway": [
           "#000001",
           "#000002",
           "#000003",
           "#000004",
           "#000005",
           "#000006",
           "#000007",
           "#000008",
           "#000009",
           "#000010"
          ]
         }
        },
        "title": {
         "text": "Column Distributions"
        },
        "xaxis": {
         "anchor": "y",
         "domain": [
          0,
          0.2888888888888889
         ]
        },
        "xaxis10": {
         "anchor": "y10",
         "domain": [
          0,
          0.2888888888888889
         ]
        },
        "xaxis11": {
         "anchor": "y11",
         "domain": [
          0.35555555555555557,
          0.6444444444444445
         ]
        },
        "xaxis12": {
         "anchor": "y12",
         "domain": [
          0.7111111111111111,
          1
         ]
        },
        "xaxis13": {
         "anchor": "y13",
         "domain": [
          0,
          0.2888888888888889
         ]
        },
        "xaxis14": {
         "anchor": "y14",
         "domain": [
          0.35555555555555557,
          0.6444444444444445
         ]
        },
        "xaxis15": {
         "anchor": "y15",
         "domain": [
          0.7111111111111111,
          1
         ]
        },
        "xaxis16": {
         "anchor": "y16",
         "domain": [
          0,
          0.2888888888888889
         ]
        },
        "xaxis17": {
         "anchor": "y17",
         "domain": [
          0.35555555555555557,
          0.6444444444444445
         ]
        },
        "xaxis18": {
         "anchor": "y18",
         "domain": [
          0.7111111111111111,
          1
         ]
        },
        "xaxis19": {
         "anchor": "y19",
         "domain": [
          0,
          0.2888888888888889
         ]
        },
        "xaxis2": {
         "anchor": "y2",
         "domain": [
          0.35555555555555557,
          0.6444444444444445
         ]
        },
        "xaxis20": {
         "anchor": "y20",
         "domain": [
          0.35555555555555557,
          0.6444444444444445
         ]
        },
        "xaxis21": {
         "anchor": "y21",
         "domain": [
          0.7111111111111111,
          1
         ]
        },
        "xaxis22": {
         "anchor": "y22",
         "domain": [
          0,
          0.2888888888888889
         ]
        },
        "xaxis23": {
         "anchor": "y23",
         "domain": [
          0.35555555555555557,
          0.6444444444444445
         ]
        },
        "xaxis24": {
         "anchor": "y24",
         "domain": [
          0.7111111111111111,
          1
         ]
        },
        "xaxis3": {
         "anchor": "y3",
         "domain": [
          0.7111111111111111,
          1
         ]
        },
        "xaxis4": {
         "anchor": "y4",
         "domain": [
          0,
          0.2888888888888889
         ]
        },
        "xaxis5": {
         "anchor": "y5",
         "domain": [
          0.35555555555555557,
          0.6444444444444445
         ]
        },
        "xaxis6": {
         "anchor": "y6",
         "domain": [
          0.7111111111111111,
          1
         ]
        },
        "xaxis7": {
         "anchor": "y7",
         "domain": [
          0,
          0.2888888888888889
         ]
        },
        "xaxis8": {
         "anchor": "y8",
         "domain": [
          0.35555555555555557,
          0.6444444444444445
         ]
        },
        "xaxis9": {
         "anchor": "y9",
         "domain": [
          0.7111111111111111,
          1
         ]
        },
        "yaxis": {
         "anchor": "x",
         "domain": [
          0.9296875,
          1
         ]
        },
        "yaxis10": {
         "anchor": "x10",
         "domain": [
          0.53125,
          0.6015625
         ]
        },
        "yaxis11": {
         "anchor": "x11",
         "domain": [
          0.53125,
          0.6015625
         ]
        },
        "yaxis12": {
         "anchor": "x12",
         "domain": [
          0.53125,
          0.6015625
         ]
        },
        "yaxis13": {
         "anchor": "x13",
         "domain": [
          0.3984375,
          0.46875
         ]
        },
        "yaxis14": {
         "anchor": "x14",
         "domain": [
          0.3984375,
          0.46875
         ]
        },
        "yaxis15": {
         "anchor": "x15",
         "domain": [
          0.3984375,
          0.46875
         ]
        },
        "yaxis16": {
         "anchor": "x16",
         "domain": [
          0.265625,
          0.3359375
         ]
        },
        "yaxis17": {
         "anchor": "x17",
         "domain": [
          0.265625,
          0.3359375
         ]
        },
        "yaxis18": {
         "anchor": "x18",
         "domain": [
          0.265625,
          0.3359375
         ]
        },
        "yaxis19": {
         "anchor": "x19",
         "domain": [
          0.1328125,
          0.203125
         ]
        },
        "yaxis2": {
         "anchor": "x2",
         "domain": [
          0.9296875,
          1
         ]
        },
        "yaxis20": {
         "anchor": "x20",
         "domain": [
          0.1328125,
          0.203125
         ]
        },
        "yaxis21": {
         "anchor": "x21",
         "domain": [
          0.1328125,
          0.203125
         ]
        },
        "yaxis22": {
         "anchor": "x22",
         "domain": [
          0,
          0.0703125
         ]
        },
        "yaxis23": {
         "anchor": "x23",
         "domain": [
          0,
          0.0703125
         ]
        },
        "yaxis24": {
         "anchor": "x24",
         "domain": [
          0,
          0.0703125
         ]
        },
        "yaxis3": {
         "anchor": "x3",
         "domain": [
          0.9296875,
          1
         ]
        },
        "yaxis4": {
         "anchor": "x4",
         "domain": [
          0.796875,
          0.8671875
         ]
        },
        "yaxis5": {
         "anchor": "x5",
         "domain": [
          0.796875,
          0.8671875
         ]
        },
        "yaxis6": {
         "anchor": "x6",
         "domain": [
          0.796875,
          0.8671875
         ]
        },
        "yaxis7": {
         "anchor": "x7",
         "domain": [
          0.6640625,
          0.734375
         ]
        },
        "yaxis8": {
         "anchor": "x8",
         "domain": [
          0.6640625,
          0.734375
         ]
        },
        "yaxis9": {
         "anchor": "x9",
         "domain": [
          0.6640625,
          0.734375
         ]
        }
       }
      }
     },
     "metadata": {},
     "output_type": "display_data"
    }
   ],
   "source": [
    "golfer_name = 'Dave'\n",
    "club_name = '9 Iron'\n",
    "\n",
    "df_choose = df[(df['Golfer'] == golfer_name) & (df['Club'] == club_name)]\n",
    "\n",
    "\n",
    "\n",
    "\n",
    "mlfn.visualize_column_distribution(df_choose, num_columns)\n"
   ]
  },
  {
   "cell_type": "code",
   "execution_count": 17,
   "metadata": {},
   "outputs": [
    {
     "name": "stdout",
     "output_type": "stream",
     "text": [
      "Dave 7 Iron\n"
     ]
    },
    {
     "data": {
      "image/png": "[encoded data removed]",
      "text/plain": [
       "<Figure size 1500x4000 with 23 Axes>"
      ]
     },
     "metadata": {},
     "output_type": "display_data"
    }
   ],
   "source": [
    "print(golfer_name, club_name)\n",
    "mlfn.qq_plot(df_choose, num_columns)"
   ]
  },
  {
   "cell_type": "code",
   "execution_count": null,
   "metadata": {},
   "outputs": [],
   "source": []
  }
 ],
 "metadata": {
  "kernelspec": {
   "display_name": "golfenv",
   "language": "python",
   "name": "python3"
  },
  "language_info": {
   "codemirror_mode": {
    "name": "ipython",
    "version": 3
   },
   "file_extension": ".py",
   "mimetype": "text/x-python",
   "name": "python",
   "nbconvert_exporter": "python",
   "pygments_lexer": "ipython3",
   "version": "3.13.1"
  }
 },
 "nbformat": 4,
 "nbformat_minor": 2
}
