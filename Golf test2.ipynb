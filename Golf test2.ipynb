{
 "cells": [
  {
   "cell_type": "code",
   "execution_count": 5,
   "metadata": {},
   "outputs": [],
   "source": [
    "import pandas as pd\n",
    "import streamlit as st\n",
    "import plotly.express as px\n",
    "\n",
    "# TO RUN THIS, USE TERMINAL\n",
    "# streamlit run e:\\iCloudDrive\\Drop\\Python_dropbox\\Python\\2024\\Streamlit_Template_2.py\n",
    "# Turn on 'Always re-run' option on your app (in the web browser), then every time you save code changes, they'll automatically show in the app\n",
    "\n",
    "# File and folder path\n",
    "fol = ''\n",
    "fn = 'FS_Golf_DB.xlsx'\n",
    "df = pd.read_excel(fol+fn)\n",
    "fol2 = 'C:/Users/dmomb/OneDrive/Documents/Golf/'\n",
    "\n",
    "# Cleaning the column names\n",
    "# Clean column names to ensure consistency\n",
    "df.columns = df.columns.str.replace(r'[^\\w\\s]', '', regex=True).str.replace('\\xa0', ' ').str.strip().str.replace(' ', '_')\n",
    "\n",
    "# Convert Time to strings\n",
    "df['Session'] = df['Time'].dt.strftime('%Y %b %d %I:%M %p')  # Or any simpler string representation\n",
    "\n",
    "# Ensure Session is treated as categorical\n",
    "df['Session'] = df['Session'].astype('category')"
   ]
  },
  {
   "cell_type": "code",
   "execution_count": 6,
   "metadata": {},
   "outputs": [
    {
     "data": {
      "text/plain": [
       "Index(['Mombo_ShotID', 'Club', 'Time', 'Golfer', 'Shot', 'Video', 'Ball_mph',\n",
       "       'Club_mph', 'Smash_Factor', 'Carry_yds', 'Total_yds', 'Roll_yds',\n",
       "       'Swing_H', 'Spin_rpm', 'Height_ft', 'Time_s', 'AOA', 'Spin_Loft',\n",
       "       'Swing_V', 'Spin_Axis', 'Lateral_yds', 'Shot_Type', 'FTP', 'FTT',\n",
       "       'Dynamic_Loft', 'Club_Path', 'Launch_H', 'Launch_V', 'Low_Point_ftin',\n",
       "       'DescentV', 'Curve_Dist_yds', 'Lateral_Impact_in', 'Vertical_Impact_in',\n",
       "       'Mode', 'Location', 'Unnamed_35', 'Unnamed_36', 'Unnamed_37',\n",
       "       'Unnamed_38', 'Unnamed_39', 'Unnamed_40', 'Comment', 'User1', 'User2',\n",
       "       'Exclude', 'Session'],\n",
       "      dtype='object')"
      ]
     },
     "execution_count": 6,
     "metadata": {},
     "output_type": "execute_result"
    }
   ],
   "source": [
    "df.columns"
   ]
  },
  {
   "cell_type": "code",
   "execution_count": 7,
   "metadata": {},
   "outputs": [
    {
     "name": "stdout",
     "output_type": "stream",
     "text": [
      "Column 'Swing_H' successfully converted.\n",
      "Column 'Spin_Axis' successfully converted.\n",
      "Column 'Lateral_yds' successfully converted.\n",
      "Column 'FTP' successfully converted.\n",
      "Column 'FTT' successfully converted.\n",
      "Column 'Club_Path' successfully converted.\n",
      "Column 'Launch_H' successfully converted.\n"
     ]
    }
   ],
   "source": [
    "# Convert value with error handling\n",
    "def convert_value(value):\n",
    "    \"\"\"\n",
    "    Converts any value like '40R' or '20L' to numerical form:\n",
    "    - '40R' becomes -40\n",
    "    - '20L' becomes 20\n",
    "    Returns None for invalid entries.\n",
    "    \"\"\"\n",
    "    try:\n",
    "        value = str(value).strip()  # Ensure value is a string and remove spaces\n",
    "        number, direction = value[:-1], value[-1].upper()  # Split number and direction\n",
    "        number = float(number)\n",
    "        return -number if direction == 'R' else number if direction == 'L' else None\n",
    "    except (ValueError, AttributeError):\n",
    "        return None  # Return None for invalid entries\n",
    "\n",
    "# Convert entire column and handle missing column errors\n",
    "def convert_column(df, col):\n",
    "    \"\"\"\n",
    "    Converts all values in a column using convert_value.\n",
    "    Handles missing column errors gracefully.\n",
    "    \"\"\"\n",
    "    if col in df.columns:\n",
    "        df[col] = df[col].apply(convert_value)\n",
    "        print(f\"Column '{col}' successfully converted.\")\n",
    "    else:\n",
    "        st.error(f\"The column '{col}' is missing from the data.\")\n",
    "# Convert all the columns that have L & R in the data        \n",
    "lrcols = ['Swing_H','Spin_Axis','Lateral_yds','FTP','FTT','Club_Path','Launch_H']\n",
    "for col in lrcols:\n",
    "    convert_column(df,col)"
   ]
  },
  {
   "cell_type": "code",
   "execution_count": null,
   "metadata": {},
   "outputs": [],
   "source": []
  }
 ],
 "metadata": {
  "kernelspec": {
   "display_name": "golfenv",
   "language": "python",
   "name": "python3"
  },
  "language_info": {
   "codemirror_mode": {
    "name": "ipython",
    "version": 3
   },
   "file_extension": ".py",
   "mimetype": "text/x-python",
   "name": "python",
   "nbconvert_exporter": "python",
   "pygments_lexer": "ipython3",
   "version": "3.13.1"
  }
 },
 "nbformat": 4,
 "nbformat_minor": 2
}
