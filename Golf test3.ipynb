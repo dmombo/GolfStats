{
 "cells": [
  {
   "cell_type": "code",
   "execution_count": 107,
   "metadata": {},
   "outputs": [],
   "source": [
    "import pandas as pd\n",
    "import streamlit as st\n",
    "import plotly.express as px\n",
    "import numpy as np\n",
    "\n",
    "# File and folder path\n",
    "fol = ''\n",
    "fn = 'FS_Golf_DB.xlsx'\n",
    "df = pd.read_excel(fol+fn)\n"
   ]
  },
  {
   "cell_type": "code",
   "execution_count": 108,
   "metadata": {},
   "outputs": [],
   "source": [
    "dimensions = ['Club','Golfer','Session','Shot_Type','Mode']\n",
    "\n",
    "num_columns = ['Ball_mph', 'Club_mph', 'Smash_Factor', 'Carry_yds','Total_yds', 'Roll_yds', 'Swing_H', 'Height_ft', 'Time_s', 'AOA',\n",
    "       'Spin_Loft', 'Swing_V', 'Spin_Axis', 'Lateral_yds', 'FTP', 'FTT','Dynamic_Loft', 'Club_Path', 'Launch_H', 'Launch_V', 'DescentV',\n",
    "       'Curve_Dist_yds', 'Lateral_Impact_in', 'Vertical_Impact_in']\n",
    "\n",
    "clubs = ['Driver','3 Wood','5 Wood','4 Iron','5 Iron','6 Iron','7 Iron', '8 Iron','9 Iron', 'Pitching Wedge',  'Gap Wedge','Sand Wedge' , 'Lob Wedge']"
   ]
  },
  {
   "cell_type": "code",
   "execution_count": 109,
   "metadata": {},
   "outputs": [],
   "source": [
    "#### Helper functions   ################################################################\n",
    "# Convert value with error handling\n",
    "def convert_value(value):\n",
    "    \"\"\"\n",
    "    Converts any value like '40R' or '20L' to numerical form:\n",
    "    - '40R' becomes -40\n",
    "    - '20L' becomes 20\n",
    "    Returns None for invalid entries.\n",
    "    \"\"\"\n",
    "    try:\n",
    "        value = str(value).strip()  # Ensure value is a string and remove spaces\n",
    "        number, direction = value[:-1], value[-1].upper()  # Split number and direction\n",
    "        number = float(number)\n",
    "        return -number if direction == 'R' else number if direction == 'L' else None\n",
    "    except (ValueError, AttributeError):\n",
    "        return None  # Return None for invalid entries\n",
    "\n",
    "# Convert entire column and handle missing column errors\n",
    "def convert_column(df, col):\n",
    "    \"\"\"\n",
    "    Converts all values in a column using convert_value.\n",
    "    Handles missing column errors gracefully.\n",
    "    \"\"\"\n",
    "    if col in df.columns:\n",
    "        df[col] = df[col].apply(convert_value)\n",
    "        #print(f\"Column '{col}' successfully converted.\")\n",
    "    else:\n",
    "        st.error(f\"The column '{col}' is missing from the data.\")\n",
    "########################################################################################\n",
    "\n",
    "def process_df(df):\n",
    "    clubs = ['Driver','3 Wood','5 Wood','4 Iron','5 Iron','6 Iron','7 Iron', '8 Iron','9 Iron', 'Pitching Wedge',  'Gap Wedge','Sand Wedge' , 'Lob Wedge']\n",
    "    # Cleaning the column names\n",
    "    # Clean column names to ensure consistency\n",
    "    df.columns = df.columns.str.replace(r'[^\\w\\s]', '', regex=True).str.replace('\\xa0', ' ').str.strip().str.replace(' ', '_')\n",
    "\n",
    "    # Convert Time to strings for Session variable\n",
    "    df['Session'] = df['Time'].dt.strftime('%Y %b %d %I:%M %p')  # Or any simpler string representation\n",
    "\n",
    "    # Convert all the columns that have L & R in the data        \n",
    "    lrcols = ['Swing_H','Spin_Axis','Lateral_yds','FTP','FTT','Club_Path','Launch_H']\n",
    "    for col in lrcols:\n",
    "        convert_column(df,col)\n",
    "\n",
    "    # 1. Parse & sort\n",
    "    df['Session_dt'] = pd.to_datetime(df['Session'], format='%Y %b %d %I:%M %p')\n",
    "    df = df.sort_values('Session_dt').copy()\n",
    "    # 2. Convert Session to ordered categorical\n",
    "    sorted_sessions = df['Session'].unique()\n",
    "    df['Session'] = pd.Categorical(\n",
    "        df['Session'],\n",
    "        categories=sorted_sessions,\n",
    "        ordered=True             )\n",
    "    # 3. Pivot with Sessions\n",
    "    df_pivot = df.pivot_table(\n",
    "        index='Club',\n",
    "        columns=['Golfer', 'Session'],\n",
    "        values=num_columns, \n",
    "        aggfunc='mean')\n",
    "    # 4. (Optional) Reindex columns to ensure Session is in ascending chronological order\n",
    "    df_sessions = df_pivot.reindex(columns=sorted_sessions, level='Session')\n",
    "\n",
    "    df_golfer = df.pivot_table(\n",
    "        index='Club',\n",
    "        columns=['Golfer'],\n",
    "        values=num_columns, \n",
    "        aggfunc='mean')\n",
    "    df_golfer = df_golfer.reindex(clubs)\n",
    "    df_sessions = df_sessions.reindex(clubs)\n",
    "    \n",
    "    return df,df_sessions,df_golfer"
   ]
  },
  {
   "cell_type": "code",
   "execution_count": 110,
   "metadata": {},
   "outputs": [
    {
     "name": "stderr",
     "output_type": "stream",
     "text": [
      "C:\\Users\\dmomb\\AppData\\Local\\Temp\\ipykernel_44396\\2437700188.py:55: FutureWarning:\n",
      "\n",
      "The default value of observed=False is deprecated and will change to observed=True in a future version of pandas. Specify observed=False to silence this warning and retain the current behavior\n",
      "\n"
     ]
    }
   ],
   "source": [
    "df, df_sessions, df_golfer = process_df(df)       # #  Club in rows, Golfer, Session in Columns as MultiIndex  (all metrics)"
   ]
  },
  {
   "cell_type": "code",
   "execution_count": 111,
   "metadata": {},
   "outputs": [
    {
     "data": {
      "text/html": [
       "<div>\n",
       "<style scoped>\n",
       "    .dataframe tbody tr th:only-of-type {\n",
       "        vertical-align: middle;\n",
       "    }\n",
       "\n",
       "    .dataframe tbody tr th {\n",
       "        vertical-align: top;\n",
       "    }\n",
       "\n",
       "    .dataframe thead th {\n",
       "        text-align: right;\n",
       "    }\n",
       "</style>\n",
       "<table border=\"1\" class=\"dataframe\">\n",
       "  <thead>\n",
       "    <tr style=\"text-align: right;\">\n",
       "      <th>Golfer</th>\n",
       "      <th>Alex</th>\n",
       "      <th>Dave</th>\n",
       "      <th>Katy</th>\n",
       "    </tr>\n",
       "    <tr>\n",
       "      <th>Club</th>\n",
       "      <th></th>\n",
       "      <th></th>\n",
       "      <th></th>\n",
       "    </tr>\n",
       "  </thead>\n",
       "  <tbody>\n",
       "    <tr>\n",
       "      <th>4 Iron</th>\n",
       "      <td>19.0</td>\n",
       "      <td>15.0</td>\n",
       "      <td>NaN</td>\n",
       "    </tr>\n",
       "    <tr>\n",
       "      <th>5 Iron</th>\n",
       "      <td>26.0</td>\n",
       "      <td>53.0</td>\n",
       "      <td>NaN</td>\n",
       "    </tr>\n",
       "    <tr>\n",
       "      <th>5 Wood</th>\n",
       "      <td>12.0</td>\n",
       "      <td>NaN</td>\n",
       "      <td>NaN</td>\n",
       "    </tr>\n",
       "    <tr>\n",
       "      <th>6 Iron</th>\n",
       "      <td>21.0</td>\n",
       "      <td>46.0</td>\n",
       "      <td>NaN</td>\n",
       "    </tr>\n",
       "    <tr>\n",
       "      <th>7 Iron</th>\n",
       "      <td>106.0</td>\n",
       "      <td>154.0</td>\n",
       "      <td>5.0</td>\n",
       "    </tr>\n",
       "    <tr>\n",
       "      <th>8 Iron</th>\n",
       "      <td>96.0</td>\n",
       "      <td>53.0</td>\n",
       "      <td>NaN</td>\n",
       "    </tr>\n",
       "    <tr>\n",
       "      <th>9 Iron</th>\n",
       "      <td>31.0</td>\n",
       "      <td>66.0</td>\n",
       "      <td>6.0</td>\n",
       "    </tr>\n",
       "    <tr>\n",
       "      <th>Driver</th>\n",
       "      <td>9.0</td>\n",
       "      <td>NaN</td>\n",
       "      <td>NaN</td>\n",
       "    </tr>\n",
       "    <tr>\n",
       "      <th>Gap Wedge</th>\n",
       "      <td>10.0</td>\n",
       "      <td>NaN</td>\n",
       "      <td>NaN</td>\n",
       "    </tr>\n",
       "    <tr>\n",
       "      <th>Lob Wedge</th>\n",
       "      <td>3.0</td>\n",
       "      <td>NaN</td>\n",
       "      <td>NaN</td>\n",
       "    </tr>\n",
       "    <tr>\n",
       "      <th>Pitching Wedge</th>\n",
       "      <td>25.0</td>\n",
       "      <td>39.0</td>\n",
       "      <td>NaN</td>\n",
       "    </tr>\n",
       "    <tr>\n",
       "      <th>Sand Wedge</th>\n",
       "      <td>4.0</td>\n",
       "      <td>NaN</td>\n",
       "      <td>NaN</td>\n",
       "    </tr>\n",
       "  </tbody>\n",
       "</table>\n",
       "</div>"
      ],
      "text/plain": [
       "Golfer           Alex   Dave  Katy\n",
       "Club                              \n",
       "4 Iron           19.0   15.0   NaN\n",
       "5 Iron           26.0   53.0   NaN\n",
       "5 Wood           12.0    NaN   NaN\n",
       "6 Iron           21.0   46.0   NaN\n",
       "7 Iron          106.0  154.0   5.0\n",
       "8 Iron           96.0   53.0   NaN\n",
       "9 Iron           31.0   66.0   6.0\n",
       "Driver            9.0    NaN   NaN\n",
       "Gap Wedge        10.0    NaN   NaN\n",
       "Lob Wedge         3.0    NaN   NaN\n",
       "Pitching Wedge   25.0   39.0   NaN\n",
       "Sand Wedge        4.0    NaN   NaN"
      ]
     },
     "execution_count": 111,
     "metadata": {},
     "output_type": "execute_result"
    }
   ],
   "source": [
    "# Calculate counts grouped by Golfer and Club\n",
    "shot_counts = df.groupby(['Golfer', 'Club'])['Carry_yds'].count().reset_index()\n",
    "shot_counts.rename(columns={'Carry_yds': 'Shot_Count'}, inplace=True)\n",
    "# Pivot table for display\n",
    "pivot_counts = shot_counts.pivot(index='Club', columns='Golfer', values='Shot_Count')\n",
    "pivot_counts"
   ]
  },
  {
   "cell_type": "code",
   "execution_count": 112,
   "metadata": {},
   "outputs": [
    {
     "data": {
      "application/vnd.plotly.v1+json": {
       "config": {
        "plotlyServerURL": "https://plot.ly"
       },
       "data": [
        {
         "connectgaps": true,
         "hovertemplate": "Club=Driver<br>Session_dt=%{x}<br>Metric=%{y}<extra></extra>",
         "legendgroup": "Driver",
         "line": {
          "color": "#636efa",
          "dash": "solid"
         },
         "marker": {
          "symbol": "circle"
         },
         "mode": "lines+markers",
         "name": "Driver",
         "orientation": "v",
         "showlegend": true,
         "type": "scatter",
         "x": [
          "2024-10-31T20:23:00",
          "2024-11-03T14:56:00",
          "2024-11-03T20:05:00",
          "2024-11-10T14:56:00",
          "2024-11-17T10:57:00",
          "2024-11-17T16:49:00",
          "2024-11-29T19:05:00",
          "2024-12-02T20:45:00",
          "2024-12-08T15:19:00",
          "2024-12-08T16:34:00",
          "2024-12-08T19:54:00",
          "2024-12-21T17:21:00",
          "2024-12-22T20:14:00"
         ],
         "xaxis": "x",
         "y": [
          null,
          null,
          null,
          null,
          null,
          null,
          null,
          null,
          null,
          null,
          null,
          null,
          null
         ],
         "yaxis": "y"
        },
        {
         "connectgaps": true,
         "hovertemplate": "Club=3 Wood<br>Session_dt=%{x}<br>Metric=%{y}<extra></extra>",
         "legendgroup": "3 Wood",
         "line": {
          "color": "#EF553B",
          "dash": "solid"
         },
         "marker": {
          "symbol": "circle"
         },
         "mode": "lines+markers",
         "name": "3 Wood",
         "orientation": "v",
         "showlegend": true,
         "type": "scatter",
         "x": [
          "2024-10-31T20:23:00",
          "2024-11-03T14:56:00",
          "2024-11-03T20:05:00",
          "2024-11-10T14:56:00",
          "2024-11-17T10:57:00",
          "2024-11-17T16:49:00",
          "2024-11-29T19:05:00",
          "2024-12-02T20:45:00",
          "2024-12-08T15:19:00",
          "2024-12-08T16:34:00",
          "2024-12-08T19:54:00",
          "2024-12-21T17:21:00",
          "2024-12-22T20:14:00"
         ],
         "xaxis": "x",
         "y": [
          null,
          null,
          null,
          null,
          null,
          null,
          null,
          null,
          null,
          null,
          null,
          null,
          null
         ],
         "yaxis": "y"
        },
        {
         "connectgaps": true,
         "hovertemplate": "Club=5 Wood<br>Session_dt=%{x}<br>Metric=%{y}<extra></extra>",
         "legendgroup": "5 Wood",
         "line": {
          "color": "#00cc96",
          "dash": "solid"
         },
         "marker": {
          "symbol": "circle"
         },
         "mode": "lines+markers",
         "name": "5 Wood",
         "orientation": "v",
         "showlegend": true,
         "type": "scatter",
         "x": [
          "2024-10-31T20:23:00",
          "2024-11-03T14:56:00",
          "2024-11-03T20:05:00",
          "2024-11-10T14:56:00",
          "2024-11-17T10:57:00",
          "2024-11-17T16:49:00",
          "2024-11-29T19:05:00",
          "2024-12-02T20:45:00",
          "2024-12-08T15:19:00",
          "2024-12-08T16:34:00",
          "2024-12-08T19:54:00",
          "2024-12-21T17:21:00",
          "2024-12-22T20:14:00"
         ],
         "xaxis": "x",
         "y": [
          null,
          null,
          null,
          null,
          null,
          null,
          null,
          null,
          null,
          null,
          null,
          null,
          null
         ],
         "yaxis": "y"
        },
        {
         "connectgaps": true,
         "hovertemplate": "Club=4 Iron<br>Session_dt=%{x}<br>Metric=%{y}<extra></extra>",
         "legendgroup": "4 Iron",
         "line": {
          "color": "#ab63fa",
          "dash": "solid"
         },
         "marker": {
          "symbol": "circle"
         },
         "mode": "lines+markers",
         "name": "4 Iron",
         "orientation": "v",
         "showlegend": true,
         "type": "scatter",
         "x": [
          "2024-10-31T20:23:00",
          "2024-11-03T14:56:00",
          "2024-11-03T20:05:00",
          "2024-11-10T14:56:00",
          "2024-11-17T10:57:00",
          "2024-11-17T16:49:00",
          "2024-11-29T19:05:00",
          "2024-12-02T20:45:00",
          "2024-12-08T15:19:00",
          "2024-12-08T16:34:00",
          "2024-12-08T19:54:00",
          "2024-12-21T17:21:00",
          "2024-12-22T20:14:00"
         ],
         "xaxis": "x",
         "y": [
          null,
          null,
          null,
          null,
          null,
          null,
          133.83333333333334,
          null,
          null,
          null,
          null,
          null,
          null
         ],
         "yaxis": "y"
        },
        {
         "connectgaps": true,
         "hovertemplate": "Club=5 Iron<br>Session_dt=%{x}<br>Metric=%{y}<extra></extra>",
         "legendgroup": "5 Iron",
         "line": {
          "color": "#FFA15A",
          "dash": "solid"
         },
         "marker": {
          "symbol": "circle"
         },
         "mode": "lines+markers",
         "name": "5 Iron",
         "orientation": "v",
         "showlegend": true,
         "type": "scatter",
         "x": [
          "2024-10-31T20:23:00",
          "2024-11-03T14:56:00",
          "2024-11-03T20:05:00",
          "2024-11-10T14:56:00",
          "2024-11-17T10:57:00",
          "2024-11-17T16:49:00",
          "2024-11-29T19:05:00",
          "2024-12-02T20:45:00",
          "2024-12-08T15:19:00",
          "2024-12-08T16:34:00",
          "2024-12-08T19:54:00",
          "2024-12-21T17:21:00",
          "2024-12-22T20:14:00"
         ],
         "xaxis": "x",
         "y": [
          null,
          null,
          null,
          null,
          121.85,
          null,
          null,
          null,
          null,
          139.92000000000002,
          null,
          139.524,
          null
         ],
         "yaxis": "y"
        },
        {
         "connectgaps": true,
         "hovertemplate": "Club=6 Iron<br>Session_dt=%{x}<br>Metric=%{y}<extra></extra>",
         "legendgroup": "6 Iron",
         "line": {
          "color": "#19d3f3",
          "dash": "solid"
         },
         "marker": {
          "symbol": "circle"
         },
         "mode": "lines+markers",
         "name": "6 Iron",
         "orientation": "v",
         "showlegend": true,
         "type": "scatter",
         "x": [
          "2024-10-31T20:23:00",
          "2024-11-03T14:56:00",
          "2024-11-03T20:05:00",
          "2024-11-10T14:56:00",
          "2024-11-17T10:57:00",
          "2024-11-17T16:49:00",
          "2024-11-29T19:05:00",
          "2024-12-02T20:45:00",
          "2024-12-08T15:19:00",
          "2024-12-08T16:34:00",
          "2024-12-08T19:54:00",
          "2024-12-21T17:21:00",
          "2024-12-22T20:14:00"
         ],
         "xaxis": "x",
         "y": [
          null,
          null,
          null,
          null,
          null,
          null,
          135.4909090909091,
          null,
          null,
          null,
          null,
          null,
          129.36
         ],
         "yaxis": "y"
        },
        {
         "connectgaps": true,
         "hovertemplate": "Club=7 Iron<br>Session_dt=%{x}<br>Metric=%{y}<extra></extra>",
         "legendgroup": "7 Iron",
         "line": {
          "color": "#FF6692",
          "dash": "solid"
         },
         "marker": {
          "symbol": "circle"
         },
         "mode": "lines+markers",
         "name": "7 Iron",
         "orientation": "v",
         "showlegend": true,
         "type": "scatter",
         "x": [
          "2024-10-31T20:23:00",
          "2024-11-03T14:56:00",
          "2024-11-03T20:05:00",
          "2024-11-10T14:56:00",
          "2024-11-17T10:57:00",
          "2024-11-17T16:49:00",
          "2024-11-29T19:05:00",
          "2024-12-02T20:45:00",
          "2024-12-08T15:19:00",
          "2024-12-08T16:34:00",
          "2024-12-08T19:54:00",
          "2024-12-21T17:21:00",
          "2024-12-22T20:14:00"
         ],
         "xaxis": "x",
         "y": [
          null,
          120.87272727272726,
          111,
          null,
          124.71818181818183,
          130.6222222222222,
          137.84,
          null,
          130.6809523809524,
          133.33076923076922,
          null,
          121.2913043478261,
          120.85600000000001
         ],
         "yaxis": "y"
        },
        {
         "connectgaps": true,
         "hovertemplate": "Club=8 Iron<br>Session_dt=%{x}<br>Metric=%{y}<extra></extra>",
         "legendgroup": "8 Iron",
         "line": {
          "color": "#B6E880",
          "dash": "solid"
         },
         "marker": {
          "symbol": "circle"
         },
         "mode": "lines+markers",
         "name": "8 Iron",
         "orientation": "v",
         "showlegend": true,
         "type": "scatter",
         "x": [
          "2024-10-31T20:23:00",
          "2024-11-03T14:56:00",
          "2024-11-03T20:05:00",
          "2024-11-10T14:56:00",
          "2024-11-17T10:57:00",
          "2024-11-17T16:49:00",
          "2024-11-29T19:05:00",
          "2024-12-02T20:45:00",
          "2024-12-08T15:19:00",
          "2024-12-08T16:34:00",
          "2024-12-08T19:54:00",
          "2024-12-21T17:21:00",
          "2024-12-22T20:14:00"
         ],
         "xaxis": "x",
         "y": [
          null,
          null,
          null,
          116.4235294117647,
          null,
          null,
          null,
          null,
          null,
          null,
          108.27272727272727,
          null,
          118.208
         ],
         "yaxis": "y"
        },
        {
         "connectgaps": true,
         "hovertemplate": "Club=9 Iron<br>Session_dt=%{x}<br>Metric=%{y}<extra></extra>",
         "legendgroup": "9 Iron",
         "line": {
          "color": "#FF97FF",
          "dash": "solid"
         },
         "marker": {
          "symbol": "circle"
         },
         "mode": "lines+markers",
         "name": "9 Iron",
         "orientation": "v",
         "showlegend": true,
         "type": "scatter",
         "x": [
          "2024-10-31T20:23:00",
          "2024-11-03T14:56:00",
          "2024-11-03T20:05:00",
          "2024-11-10T14:56:00",
          "2024-11-17T10:57:00",
          "2024-11-17T16:49:00",
          "2024-11-29T19:05:00",
          "2024-12-02T20:45:00",
          "2024-12-08T15:19:00",
          "2024-12-08T16:34:00",
          "2024-12-08T19:54:00",
          "2024-12-21T17:21:00",
          "2024-12-22T20:14:00"
         ],
         "xaxis": "x",
         "y": [
          null,
          null,
          null,
          98.46666666666665,
          null,
          null,
          null,
          117.16666666666667,
          100.6,
          null,
          null,
          110.27857142857144,
          null
         ],
         "yaxis": "y"
        },
        {
         "connectgaps": true,
         "hovertemplate": "Club=Pitching Wedge<br>Session_dt=%{x}<br>Metric=%{y}<extra></extra>",
         "legendgroup": "Pitching Wedge",
         "line": {
          "color": "#FECB52",
          "dash": "solid"
         },
         "marker": {
          "symbol": "circle"
         },
         "mode": "lines+markers",
         "name": "Pitching Wedge",
         "orientation": "v",
         "showlegend": true,
         "type": "scatter",
         "x": [
          "2024-10-31T20:23:00",
          "2024-11-03T14:56:00",
          "2024-11-03T20:05:00",
          "2024-11-10T14:56:00",
          "2024-11-17T10:57:00",
          "2024-11-17T16:49:00",
          "2024-11-29T19:05:00",
          "2024-12-02T20:45:00",
          "2024-12-08T15:19:00",
          "2024-12-08T16:34:00",
          "2024-12-08T19:54:00",
          "2024-12-21T17:21:00",
          "2024-12-22T20:14:00"
         ],
         "xaxis": "x",
         "y": [
          104.3125,
          null,
          null,
          null,
          null,
          null,
          null,
          null,
          null,
          null,
          null,
          108.70434782608694,
          null
         ],
         "yaxis": "y"
        },
        {
         "connectgaps": true,
         "hovertemplate": "Club=Gap Wedge<br>Session_dt=%{x}<br>Metric=%{y}<extra></extra>",
         "legendgroup": "Gap Wedge",
         "line": {
          "color": "#636efa",
          "dash": "solid"
         },
         "marker": {
          "symbol": "circle"
         },
         "mode": "lines+markers",
         "name": "Gap Wedge",
         "orientation": "v",
         "showlegend": true,
         "type": "scatter",
         "x": [
          "2024-10-31T20:23:00",
          "2024-11-03T14:56:00",
          "2024-11-03T20:05:00",
          "2024-11-10T14:56:00",
          "2024-11-17T10:57:00",
          "2024-11-17T16:49:00",
          "2024-11-29T19:05:00",
          "2024-12-02T20:45:00",
          "2024-12-08T15:19:00",
          "2024-12-08T16:34:00",
          "2024-12-08T19:54:00",
          "2024-12-21T17:21:00",
          "2024-12-22T20:14:00"
         ],
         "xaxis": "x",
         "y": [
          null,
          null,
          null,
          null,
          null,
          null,
          null,
          null,
          null,
          null,
          null,
          null,
          null
         ],
         "yaxis": "y"
        },
        {
         "connectgaps": true,
         "hovertemplate": "Club=Sand Wedge<br>Session_dt=%{x}<br>Metric=%{y}<extra></extra>",
         "legendgroup": "Sand Wedge",
         "line": {
          "color": "#EF553B",
          "dash": "solid"
         },
         "marker": {
          "symbol": "circle"
         },
         "mode": "lines+markers",
         "name": "Sand Wedge",
         "orientation": "v",
         "showlegend": true,
         "type": "scatter",
         "x": [
          "2024-10-31T20:23:00",
          "2024-11-03T14:56:00",
          "2024-11-03T20:05:00",
          "2024-11-10T14:56:00",
          "2024-11-17T10:57:00",
          "2024-11-17T16:49:00",
          "2024-11-29T19:05:00",
          "2024-12-02T20:45:00",
          "2024-12-08T15:19:00",
          "2024-12-08T16:34:00",
          "2024-12-08T19:54:00",
          "2024-12-21T17:21:00",
          "2024-12-22T20:14:00"
         ],
         "xaxis": "x",
         "y": [
          null,
          null,
          null,
          null,
          null,
          null,
          null,
          null,
          null,
          null,
          null,
          null,
          null
         ],
         "yaxis": "y"
        },
        {
         "connectgaps": true,
         "hovertemplate": "Club=Lob Wedge<br>Session_dt=%{x}<br>Metric=%{y}<extra></extra>",
         "legendgroup": "Lob Wedge",
         "line": {
          "color": "#00cc96",
          "dash": "solid"
         },
         "marker": {
          "symbol": "circle"
         },
         "mode": "lines+markers",
         "name": "Lob Wedge",
         "orientation": "v",
         "showlegend": true,
         "type": "scatter",
         "x": [
          "2024-10-31T20:23:00",
          "2024-11-03T14:56:00",
          "2024-11-03T20:05:00",
          "2024-11-10T14:56:00",
          "2024-11-17T10:57:00",
          "2024-11-17T16:49:00",
          "2024-11-29T19:05:00",
          "2024-12-02T20:45:00",
          "2024-12-08T15:19:00",
          "2024-12-08T16:34:00",
          "2024-12-08T19:54:00",
          "2024-12-21T17:21:00",
          "2024-12-22T20:14:00"
         ],
         "xaxis": "x",
         "y": [
          null,
          null,
          null,
          null,
          null,
          null,
          null,
          null,
          null,
          null,
          null,
          null,
          null
         ],
         "yaxis": "y"
        }
       ],
       "layout": {
        "legend": {
         "title": {
          "text": "Club"
         },
         "tracegroupgap": 0
        },
        "margin": {
         "t": 60
        },
        "template": {
         "data": {
          "bar": [
           {
            "error_x": {
             "color": "#2a3f5f"
            },
            "error_y": {
             "color": "#2a3f5f"
            },
            "marker": {
             "line": {
              "color": "#E5ECF6",
              "width": 0.5
             },
             "pattern": {
              "fillmode": "overlay",
              "size": 10,
              "solidity": 0.2
             }
            },
            "type": "bar"
           }
          ],
          "barpolar": [
           {
            "marker": {
             "line": {
              "color": "#E5ECF6",
              "width": 0.5
             },
             "pattern": {
              "fillmode": "overlay",
              "size": 10,
              "solidity": 0.2
             }
            },
            "type": "barpolar"
           }
          ],
          "carpet": [
           {
            "aaxis": {
             "endlinecolor": "#2a3f5f",
             "gridcolor": "white",
             "linecolor": "white",
             "minorgridcolor": "white",
             "startlinecolor": "#2a3f5f"
            },
            "baxis": {
             "endlinecolor": "#2a3f5f",
             "gridcolor": "white",
             "linecolor": "white",
             "minorgridcolor": "white",
             "startlinecolor": "#2a3f5f"
            },
            "type": "carpet"
           }
          ],
          "choropleth": [
           {
            "colorbar": {
             "outlinewidth": 0,
             "ticks": ""
            },
            "type": "choropleth"
           }
          ],
          "contour": [
           {
            "colorbar": {
             "outlinewidth": 0,
             "ticks": ""
            },
            "colorscale": [
             [
              0,
              "#0d0887"
             ],
             [
              0.1111111111111111,
              "#46039f"
             ],
             [
              0.2222222222222222,
              "#7201a8"
             ],
             [
              0.3333333333333333,
              "#9c179e"
             ],
             [
              0.4444444444444444,
              "#bd3786"
             ],
             [
              0.5555555555555556,
              "#d8576b"
             ],
             [
              0.6666666666666666,
              "#ed7953"
             ],
             [
              0.7777777777777778,
              "#fb9f3a"
             ],
             [
              0.8888888888888888,
              "#fdca26"
             ],
             [
              1,
              "#f0f921"
             ]
            ],
            "type": "contour"
           }
          ],
          "contourcarpet": [
           {
            "colorbar": {
             "outlinewidth": 0,
             "ticks": ""
            },
            "type": "contourcarpet"
           }
          ],
          "heatmap": [
           {
            "colorbar": {
             "outlinewidth": 0,
             "ticks": ""
            },
            "colorscale": [
             [
              0,
              "#0d0887"
             ],
             [
              0.1111111111111111,
              "#46039f"
             ],
             [
              0.2222222222222222,
              "#7201a8"
             ],
             [
              0.3333333333333333,
              "#9c179e"
             ],
             [
              0.4444444444444444,
              "#bd3786"
             ],
             [
              0.5555555555555556,
              "#d8576b"
             ],
             [
              0.6666666666666666,
              "#ed7953"
             ],
             [
              0.7777777777777778,
              "#fb9f3a"
             ],
             [
              0.8888888888888888,
              "#fdca26"
             ],
             [
              1,
              "#f0f921"
             ]
            ],
            "type": "heatmap"
           }
          ],
          "heatmapgl": [
           {
            "colorbar": {
             "outlinewidth": 0,
             "ticks": ""
            },
            "colorscale": [
             [
              0,
              "#0d0887"
             ],
             [
              0.1111111111111111,
              "#46039f"
             ],
             [
              0.2222222222222222,
              "#7201a8"
             ],
             [
              0.3333333333333333,
              "#9c179e"
             ],
             [
              0.4444444444444444,
              "#bd3786"
             ],
             [
              0.5555555555555556,
              "#d8576b"
             ],
             [
              0.6666666666666666,
              "#ed7953"
             ],
             [
              0.7777777777777778,
              "#fb9f3a"
             ],
             [
              0.8888888888888888,
              "#fdca26"
             ],
             [
              1,
              "#f0f921"
             ]
            ],
            "type": "heatmapgl"
           }
          ],
          "histogram": [
           {
            "marker": {
             "pattern": {
              "fillmode": "overlay",
              "size": 10,
              "solidity": 0.2
             }
            },
            "type": "histogram"
           }
          ],
          "histogram2d": [
           {
            "colorbar": {
             "outlinewidth": 0,
             "ticks": ""
            },
            "colorscale": [
             [
              0,
              "#0d0887"
             ],
             [
              0.1111111111111111,
              "#46039f"
             ],
             [
              0.2222222222222222,
              "#7201a8"
             ],
             [
              0.3333333333333333,
              "#9c179e"
             ],
             [
              0.4444444444444444,
              "#bd3786"
             ],
             [
              0.5555555555555556,
              "#d8576b"
             ],
             [
              0.6666666666666666,
              "#ed7953"
             ],
             [
              0.7777777777777778,
              "#fb9f3a"
             ],
             [
              0.8888888888888888,
              "#fdca26"
             ],
             [
              1,
              "#f0f921"
             ]
            ],
            "type": "histogram2d"
           }
          ],
          "histogram2dcontour": [
           {
            "colorbar": {
             "outlinewidth": 0,
             "ticks": ""
            },
            "colorscale": [
             [
              0,
              "#0d0887"
             ],
             [
              0.1111111111111111,
              "#46039f"
             ],
             [
              0.2222222222222222,
              "#7201a8"
             ],
             [
              0.3333333333333333,
              "#9c179e"
             ],
             [
              0.4444444444444444,
              "#bd3786"
             ],
             [
              0.5555555555555556,
              "#d8576b"
             ],
             [
              0.6666666666666666,
              "#ed7953"
             ],
             [
              0.7777777777777778,
              "#fb9f3a"
             ],
             [
              0.8888888888888888,
              "#fdca26"
             ],
             [
              1,
              "#f0f921"
             ]
            ],
            "type": "histogram2dcontour"
           }
          ],
          "mesh3d": [
           {
            "colorbar": {
             "outlinewidth": 0,
             "ticks": ""
            },
            "type": "mesh3d"
           }
          ],
          "parcoords": [
           {
            "line": {
             "colorbar": {
              "outlinewidth": 0,
              "ticks": ""
             }
            },
            "type": "parcoords"
           }
          ],
          "pie": [
           {
            "automargin": true,
            "type": "pie"
           }
          ],
          "scatter": [
           {
            "fillpattern": {
             "fillmode": "overlay",
             "size": 10,
             "solidity": 0.2
            },
            "type": "scatter"
           }
          ],
          "scatter3d": [
           {
            "line": {
             "colorbar": {
              "outlinewidth": 0,
              "ticks": ""
             }
            },
            "marker": {
             "colorbar": {
              "outlinewidth": 0,
              "ticks": ""
             }
            },
            "type": "scatter3d"
           }
          ],
          "scattercarpet": [
           {
            "marker": {
             "colorbar": {
              "outlinewidth": 0,
              "ticks": ""
             }
            },
            "type": "scattercarpet"
           }
          ],
          "scattergeo": [
           {
            "marker": {
             "colorbar": {
              "outlinewidth": 0,
              "ticks": ""
             }
            },
            "type": "scattergeo"
           }
          ],
          "scattergl": [
           {
            "marker": {
             "colorbar": {
              "outlinewidth": 0,
              "ticks": ""
             }
            },
            "type": "scattergl"
           }
          ],
          "scattermapbox": [
           {
            "marker": {
             "colorbar": {
              "outlinewidth": 0,
              "ticks": ""
             }
            },
            "type": "scattermapbox"
           }
          ],
          "scatterpolar": [
           {
            "marker": {
             "colorbar": {
              "outlinewidth": 0,
              "ticks": ""
             }
            },
            "type": "scatterpolar"
           }
          ],
          "scatterpolargl": [
           {
            "marker": {
             "colorbar": {
              "outlinewidth": 0,
              "ticks": ""
             }
            },
            "type": "scatterpolargl"
           }
          ],
          "scatterternary": [
           {
            "marker": {
             "colorbar": {
              "outlinewidth": 0,
              "ticks": ""
             }
            },
            "type": "scatterternary"
           }
          ],
          "surface": [
           {
            "colorbar": {
             "outlinewidth": 0,
             "ticks": ""
            },
            "colorscale": [
             [
              0,
              "#0d0887"
             ],
             [
              0.1111111111111111,
              "#46039f"
             ],
             [
              0.2222222222222222,
              "#7201a8"
             ],
             [
              0.3333333333333333,
              "#9c179e"
             ],
             [
              0.4444444444444444,
              "#bd3786"
             ],
             [
              0.5555555555555556,
              "#d8576b"
             ],
             [
              0.6666666666666666,
              "#ed7953"
             ],
             [
              0.7777777777777778,
              "#fb9f3a"
             ],
             [
              0.8888888888888888,
              "#fdca26"
             ],
             [
              1,
              "#f0f921"
             ]
            ],
            "type": "surface"
           }
          ],
          "table": [
           {
            "cells": {
             "fill": {
              "color": "#EBF0F8"
             },
             "line": {
              "color": "white"
             }
            },
            "header": {
             "fill": {
              "color": "#C8D4E3"
             },
             "line": {
              "color": "white"
             }
            },
            "type": "table"
           }
          ]
         },
         "layout": {
          "annotationdefaults": {
           "arrowcolor": "#2a3f5f",
           "arrowhead": 0,
           "arrowwidth": 1
          },
          "autotypenumbers": "strict",
          "coloraxis": {
           "colorbar": {
            "outlinewidth": 0,
            "ticks": ""
           }
          },
          "colorscale": {
           "diverging": [
            [
             0,
             "#8e0152"
            ],
            [
             0.1,
             "#c51b7d"
            ],
            [
             0.2,
             "#de77ae"
            ],
            [
             0.3,
             "#f1b6da"
            ],
            [
             0.4,
             "#fde0ef"
            ],
            [
             0.5,
             "#f7f7f7"
            ],
            [
             0.6,
             "#e6f5d0"
            ],
            [
             0.7,
             "#b8e186"
            ],
            [
             0.8,
             "#7fbc41"
            ],
            [
             0.9,
             "#4d9221"
            ],
            [
             1,
             "#276419"
            ]
           ],
           "sequential": [
            [
             0,
             "#0d0887"
            ],
            [
             0.1111111111111111,
             "#46039f"
            ],
            [
             0.2222222222222222,
             "#7201a8"
            ],
            [
             0.3333333333333333,
             "#9c179e"
            ],
            [
             0.4444444444444444,
             "#bd3786"
            ],
            [
             0.5555555555555556,
             "#d8576b"
            ],
            [
             0.6666666666666666,
             "#ed7953"
            ],
            [
             0.7777777777777778,
             "#fb9f3a"
            ],
            [
             0.8888888888888888,
             "#fdca26"
            ],
            [
             1,
             "#f0f921"
            ]
           ],
           "sequentialminus": [
            [
             0,
             "#0d0887"
            ],
            [
             0.1111111111111111,
             "#46039f"
            ],
            [
             0.2222222222222222,
             "#7201a8"
            ],
            [
             0.3333333333333333,
             "#9c179e"
            ],
            [
             0.4444444444444444,
             "#bd3786"
            ],
            [
             0.5555555555555556,
             "#d8576b"
            ],
            [
             0.6666666666666666,
             "#ed7953"
            ],
            [
             0.7777777777777778,
             "#fb9f3a"
            ],
            [
             0.8888888888888888,
             "#fdca26"
            ],
            [
             1,
             "#f0f921"
            ]
           ]
          },
          "colorway": [
           "#636efa",
           "#EF553B",
           "#00cc96",
           "#ab63fa",
           "#FFA15A",
           "#19d3f3",
           "#FF6692",
           "#B6E880",
           "#FF97FF",
           "#FECB52"
          ],
          "font": {
           "color": "#2a3f5f"
          },
          "geo": {
           "bgcolor": "white",
           "lakecolor": "white",
           "landcolor": "#E5ECF6",
           "showlakes": true,
           "showland": true,
           "subunitcolor": "white"
          },
          "hoverlabel": {
           "align": "left"
          },
          "hovermode": "closest",
          "mapbox": {
           "style": "light"
          },
          "paper_bgcolor": "white",
          "plot_bgcolor": "#E5ECF6",
          "polar": {
           "angularaxis": {
            "gridcolor": "white",
            "linecolor": "white",
            "ticks": ""
           },
           "bgcolor": "#E5ECF6",
           "radialaxis": {
            "gridcolor": "white",
            "linecolor": "white",
            "ticks": ""
           }
          },
          "scene": {
           "xaxis": {
            "backgroundcolor": "#E5ECF6",
            "gridcolor": "white",
            "gridwidth": 2,
            "linecolor": "white",
            "showbackground": true,
            "ticks": "",
            "zerolinecolor": "white"
           },
           "yaxis": {
            "backgroundcolor": "#E5ECF6",
            "gridcolor": "white",
            "gridwidth": 2,
            "linecolor": "white",
            "showbackground": true,
            "ticks": "",
            "zerolinecolor": "white"
           },
           "zaxis": {
            "backgroundcolor": "#E5ECF6",
            "gridcolor": "white",
            "gridwidth": 2,
            "linecolor": "white",
            "showbackground": true,
            "ticks": "",
            "zerolinecolor": "white"
           }
          },
          "shapedefaults": {
           "line": {
            "color": "#2a3f5f"
           }
          },
          "ternary": {
           "aaxis": {
            "gridcolor": "white",
            "linecolor": "white",
            "ticks": ""
           },
           "baxis": {
            "gridcolor": "white",
            "linecolor": "white",
            "ticks": ""
           },
           "bgcolor": "#E5ECF6",
           "caxis": {
            "gridcolor": "white",
            "linecolor": "white",
            "ticks": ""
           }
          },
          "title": {
           "x": 0.05
          },
          "xaxis": {
           "automargin": true,
           "gridcolor": "white",
           "linecolor": "white",
           "ticks": "",
           "title": {
            "standoff": 15
           },
           "zerolinecolor": "white",
           "zerolinewidth": 2
          },
          "yaxis": {
           "automargin": true,
           "gridcolor": "white",
           "linecolor": "white",
           "ticks": "",
           "title": {
            "standoff": 15
           },
           "zerolinecolor": "white",
           "zerolinewidth": 2
          }
         }
        },
        "title": {
         "text": "Metric by Club over Sessions"
        },
        "xaxis": {
         "anchor": "y",
         "domain": [
          0,
          1
         ],
         "title": {
          "text": "Session"
         }
        },
        "yaxis": {
         "anchor": "x",
         "domain": [
          0,
          1
         ],
         "title": {
          "text": "Metric"
         }
        }
       }
      }
     },
     "metadata": {},
     "output_type": "display_data"
    }
   ],
   "source": [
    "import plotly.io as pio\n",
    "\n",
    "# Force the default template to \"plotly\"\n",
    "pio.templates.default = \"plotly\"\n",
    "\n",
    "\n",
    "# --- 2) Melt the DataFrame from wide to long ---\n",
    "df_melt = df_dave.reset_index().melt(\n",
    "    id_vars='Club',             # 'Club' stays as its own column\n",
    "    var_name='Session',         # The old column names (session strings) become this column\n",
    "    value_name='Metric'         # The cell values become 'Metric'\n",
    ")\n",
    "\n",
    "# --- 3) Parse Session to a datetime so we can plot chronologically\n",
    "df_melt['Session_dt'] = pd.to_datetime(\n",
    "    df_melt['Session'],\n",
    "    format='%Y %b %d %I:%M %p',\n",
    "    errors='coerce'\n",
    ")\n",
    "\n",
    "# --- 4) Create the line plot using Plotly Express\n",
    "fig = px.line(\n",
    "    data_frame=df_melt,\n",
    "    x='Session_dt',   # time on the x-axis\n",
    "    y='Metric',       # the numeric metric on the y-axis\n",
    "    color='Club',     # one line per club\n",
    "    markers=True      # optional: show markers for data points\n",
    ")\n",
    "# Force a known set of discrete colors\n",
    "color_discrete_sequence=px.colors.qualitative.Plotly\n",
    "\n",
    "# --- 5) Customize as needed ---\n",
    "fig.update_layout(\n",
    "    xaxis_title='Session',\n",
    "    yaxis_title='Metric',\n",
    "    title='Metric by Club over Sessions'\n",
    ")\n",
    "\n",
    "\n",
    "fig.update_traces(connectgaps=True)\n",
    "fig.show()"
   ]
  },
  {
   "cell_type": "code",
   "execution_count": 113,
   "metadata": {},
   "outputs": [],
   "source": [
    "# Function to remove outliers based on IQR for one column\n",
    "def remove_outliers(data, column):\n",
    "    Q1 = data[column].quantile(0.25)\n",
    "    Q3 = data[column].quantile(0.75)\n",
    "    IQR = Q3 - Q1\n",
    "    lower_bound = Q1 - 1.5 * IQR\n",
    "    return data[data[column] >= lower_bound]\n"
   ]
  },
  {
   "cell_type": "code",
   "execution_count": 114,
   "metadata": {},
   "outputs": [],
   "source": [
    "# Remove outliers for 'Carry_yds' column\n",
    "df_stats = remove_outliers(df, 'Carry_yds')"
   ]
  },
  {
   "cell_type": "code",
   "execution_count": 115,
   "metadata": {},
   "outputs": [
    {
     "data": {
      "text/html": [
       "<div>\n",
       "<style scoped>\n",
       "    .dataframe tbody tr th:only-of-type {\n",
       "        vertical-align: middle;\n",
       "    }\n",
       "\n",
       "    .dataframe tbody tr th {\n",
       "        vertical-align: top;\n",
       "    }\n",
       "\n",
       "    .dataframe thead th {\n",
       "        text-align: right;\n",
       "    }\n",
       "</style>\n",
       "<table border=\"1\" class=\"dataframe\">\n",
       "  <thead>\n",
       "    <tr style=\"text-align: right;\">\n",
       "      <th></th>\n",
       "      <th>Mombo_ShotID</th>\n",
       "      <th>Club</th>\n",
       "      <th>Time</th>\n",
       "      <th>Golfer</th>\n",
       "      <th>Shot</th>\n",
       "      <th>Video</th>\n",
       "      <th>Ball_mph</th>\n",
       "      <th>Club_mph</th>\n",
       "      <th>Smash_Factor</th>\n",
       "      <th>Carry_yds</th>\n",
       "      <th>...</th>\n",
       "      <th>Unnamed_37</th>\n",
       "      <th>Unnamed_38</th>\n",
       "      <th>Unnamed_39</th>\n",
       "      <th>Unnamed_40</th>\n",
       "      <th>Comment</th>\n",
       "      <th>User1</th>\n",
       "      <th>User2</th>\n",
       "      <th>Exclude</th>\n",
       "      <th>Session</th>\n",
       "      <th>Session_dt</th>\n",
       "    </tr>\n",
       "  </thead>\n",
       "  <tbody>\n",
       "    <tr>\n",
       "      <th>0</th>\n",
       "      <td>1</td>\n",
       "      <td>Pitching Wedge</td>\n",
       "      <td>2024-10-31 20:23:00</td>\n",
       "      <td>Dave</td>\n",
       "      <td>1</td>\n",
       "      <td>NaN</td>\n",
       "      <td>93.6</td>\n",
       "      <td>76.5</td>\n",
       "      <td>1.22</td>\n",
       "      <td>120.4</td>\n",
       "      <td>...</td>\n",
       "      <td>NaN</td>\n",
       "      <td>NaN</td>\n",
       "      <td>NaN</td>\n",
       "      <td>NaN</td>\n",
       "      <td>NaN</td>\n",
       "      <td>NaN</td>\n",
       "      <td>NaN</td>\n",
       "      <td>NaN</td>\n",
       "      <td>2024 Oct 31 08:23 PM</td>\n",
       "      <td>2024-10-31 20:23:00</td>\n",
       "    </tr>\n",
       "    <tr>\n",
       "      <th>15</th>\n",
       "      <td>16</td>\n",
       "      <td>Pitching Wedge</td>\n",
       "      <td>2024-10-31 20:23:00</td>\n",
       "      <td>Dave</td>\n",
       "      <td>16</td>\n",
       "      <td>NaN</td>\n",
       "      <td>89.0</td>\n",
       "      <td>67.8</td>\n",
       "      <td>1.31</td>\n",
       "      <td>97.0</td>\n",
       "      <td>...</td>\n",
       "      <td>NaN</td>\n",
       "      <td>NaN</td>\n",
       "      <td>NaN</td>\n",
       "      <td>NaN</td>\n",
       "      <td>NaN</td>\n",
       "      <td>NaN</td>\n",
       "      <td>NaN</td>\n",
       "      <td>NaN</td>\n",
       "      <td>2024 Oct 31 08:23 PM</td>\n",
       "      <td>2024-10-31 20:23:00</td>\n",
       "    </tr>\n",
       "    <tr>\n",
       "      <th>14</th>\n",
       "      <td>15</td>\n",
       "      <td>Pitching Wedge</td>\n",
       "      <td>2024-10-31 20:23:00</td>\n",
       "      <td>Dave</td>\n",
       "      <td>15</td>\n",
       "      <td>NaN</td>\n",
       "      <td>87.9</td>\n",
       "      <td>72.8</td>\n",
       "      <td>1.21</td>\n",
       "      <td>105.2</td>\n",
       "      <td>...</td>\n",
       "      <td>NaN</td>\n",
       "      <td>NaN</td>\n",
       "      <td>NaN</td>\n",
       "      <td>NaN</td>\n",
       "      <td>NaN</td>\n",
       "      <td>NaN</td>\n",
       "      <td>NaN</td>\n",
       "      <td>NaN</td>\n",
       "      <td>2024 Oct 31 08:23 PM</td>\n",
       "      <td>2024-10-31 20:23:00</td>\n",
       "    </tr>\n",
       "    <tr>\n",
       "      <th>12</th>\n",
       "      <td>13</td>\n",
       "      <td>Pitching Wedge</td>\n",
       "      <td>2024-10-31 20:23:00</td>\n",
       "      <td>Dave</td>\n",
       "      <td>13</td>\n",
       "      <td>NaN</td>\n",
       "      <td>92.3</td>\n",
       "      <td>77.8</td>\n",
       "      <td>1.19</td>\n",
       "      <td>117.1</td>\n",
       "      <td>...</td>\n",
       "      <td>NaN</td>\n",
       "      <td>NaN</td>\n",
       "      <td>NaN</td>\n",
       "      <td>NaN</td>\n",
       "      <td>NaN</td>\n",
       "      <td>NaN</td>\n",
       "      <td>NaN</td>\n",
       "      <td>NaN</td>\n",
       "      <td>2024 Oct 31 08:23 PM</td>\n",
       "      <td>2024-10-31 20:23:00</td>\n",
       "    </tr>\n",
       "    <tr>\n",
       "      <th>11</th>\n",
       "      <td>12</td>\n",
       "      <td>Pitching Wedge</td>\n",
       "      <td>2024-10-31 20:23:00</td>\n",
       "      <td>Dave</td>\n",
       "      <td>12</td>\n",
       "      <td>NaN</td>\n",
       "      <td>81.7</td>\n",
       "      <td>68.3</td>\n",
       "      <td>1.19</td>\n",
       "      <td>98.1</td>\n",
       "      <td>...</td>\n",
       "      <td>NaN</td>\n",
       "      <td>NaN</td>\n",
       "      <td>NaN</td>\n",
       "      <td>NaN</td>\n",
       "      <td>NaN</td>\n",
       "      <td>NaN</td>\n",
       "      <td>NaN</td>\n",
       "      <td>NaN</td>\n",
       "      <td>2024 Oct 31 08:23 PM</td>\n",
       "      <td>2024-10-31 20:23:00</td>\n",
       "    </tr>\n",
       "    <tr>\n",
       "      <th>...</th>\n",
       "      <td>...</td>\n",
       "      <td>...</td>\n",
       "      <td>...</td>\n",
       "      <td>...</td>\n",
       "      <td>...</td>\n",
       "      <td>...</td>\n",
       "      <td>...</td>\n",
       "      <td>...</td>\n",
       "      <td>...</td>\n",
       "      <td>...</td>\n",
       "      <td>...</td>\n",
       "      <td>...</td>\n",
       "      <td>...</td>\n",
       "      <td>...</td>\n",
       "      <td>...</td>\n",
       "      <td>...</td>\n",
       "      <td>...</td>\n",
       "      <td>...</td>\n",
       "      <td>...</td>\n",
       "      <td>...</td>\n",
       "      <td>...</td>\n",
       "    </tr>\n",
       "    <tr>\n",
       "      <th>690</th>\n",
       "      <td>691</td>\n",
       "      <td>Pitching Wedge</td>\n",
       "      <td>2024-12-23 16:01:00</td>\n",
       "      <td>Alex</td>\n",
       "      <td>2</td>\n",
       "      <td>NaN</td>\n",
       "      <td>92.1</td>\n",
       "      <td>78.9</td>\n",
       "      <td>1.17</td>\n",
       "      <td>121.1</td>\n",
       "      <td>...</td>\n",
       "      <td>NaN</td>\n",
       "      <td>NaN</td>\n",
       "      <td>NaN</td>\n",
       "      <td>-</td>\n",
       "      <td>NaN</td>\n",
       "      <td>NaN</td>\n",
       "      <td>NaN</td>\n",
       "      <td>NaN</td>\n",
       "      <td>2024 Dec 23 04:01 PM</td>\n",
       "      <td>2024-12-23 16:01:00</td>\n",
       "    </tr>\n",
       "    <tr>\n",
       "      <th>691</th>\n",
       "      <td>692</td>\n",
       "      <td>Pitching Wedge</td>\n",
       "      <td>2024-12-23 16:01:00</td>\n",
       "      <td>Alex</td>\n",
       "      <td>3</td>\n",
       "      <td>NaN</td>\n",
       "      <td>96.2</td>\n",
       "      <td>77.3</td>\n",
       "      <td>1.24</td>\n",
       "      <td>127.7</td>\n",
       "      <td>...</td>\n",
       "      <td>NaN</td>\n",
       "      <td>NaN</td>\n",
       "      <td>NaN</td>\n",
       "      <td>-</td>\n",
       "      <td>NaN</td>\n",
       "      <td>NaN</td>\n",
       "      <td>NaN</td>\n",
       "      <td>NaN</td>\n",
       "      <td>2024 Dec 23 04:01 PM</td>\n",
       "      <td>2024-12-23 16:01:00</td>\n",
       "    </tr>\n",
       "    <tr>\n",
       "      <th>693</th>\n",
       "      <td>694</td>\n",
       "      <td>Pitching Wedge</td>\n",
       "      <td>2024-12-23 16:01:00</td>\n",
       "      <td>Alex</td>\n",
       "      <td>5</td>\n",
       "      <td>NaN</td>\n",
       "      <td>98.6</td>\n",
       "      <td>78.2</td>\n",
       "      <td>1.26</td>\n",
       "      <td>130.2</td>\n",
       "      <td>...</td>\n",
       "      <td>NaN</td>\n",
       "      <td>NaN</td>\n",
       "      <td>NaN</td>\n",
       "      <td>-</td>\n",
       "      <td>NaN</td>\n",
       "      <td>NaN</td>\n",
       "      <td>NaN</td>\n",
       "      <td>NaN</td>\n",
       "      <td>2024 Dec 23 04:01 PM</td>\n",
       "      <td>2024-12-23 16:01:00</td>\n",
       "    </tr>\n",
       "    <tr>\n",
       "      <th>674</th>\n",
       "      <td>675</td>\n",
       "      <td>8 Iron</td>\n",
       "      <td>2024-12-23 16:01:00</td>\n",
       "      <td>Alex</td>\n",
       "      <td>40</td>\n",
       "      <td>NaN</td>\n",
       "      <td>118.1</td>\n",
       "      <td>86.9</td>\n",
       "      <td>1.36</td>\n",
       "      <td>172.0</td>\n",
       "      <td>...</td>\n",
       "      <td>NaN</td>\n",
       "      <td>NaN</td>\n",
       "      <td>NaN</td>\n",
       "      <td>-</td>\n",
       "      <td>NaN</td>\n",
       "      <td>NaN</td>\n",
       "      <td>NaN</td>\n",
       "      <td>NaN</td>\n",
       "      <td>2024 Dec 23 04:01 PM</td>\n",
       "      <td>2024-12-23 16:01:00</td>\n",
       "    </tr>\n",
       "    <tr>\n",
       "      <th>692</th>\n",
       "      <td>693</td>\n",
       "      <td>Pitching Wedge</td>\n",
       "      <td>2024-12-23 16:01:00</td>\n",
       "      <td>Alex</td>\n",
       "      <td>4</td>\n",
       "      <td>NaN</td>\n",
       "      <td>101.5</td>\n",
       "      <td>81.4</td>\n",
       "      <td>1.25</td>\n",
       "      <td>136.5</td>\n",
       "      <td>...</td>\n",
       "      <td>NaN</td>\n",
       "      <td>NaN</td>\n",
       "      <td>NaN</td>\n",
       "      <td>-</td>\n",
       "      <td>NaN</td>\n",
       "      <td>NaN</td>\n",
       "      <td>NaN</td>\n",
       "      <td>NaN</td>\n",
       "      <td>2024 Dec 23 04:01 PM</td>\n",
       "      <td>2024-12-23 16:01:00</td>\n",
       "    </tr>\n",
       "  </tbody>\n",
       "</table>\n",
       "<p>784 rows × 47 columns</p>\n",
       "</div>"
      ],
      "text/plain": [
       "     Mombo_ShotID            Club                Time Golfer  Shot  Video  \\\n",
       "0               1  Pitching Wedge 2024-10-31 20:23:00   Dave     1    NaN   \n",
       "15             16  Pitching Wedge 2024-10-31 20:23:00   Dave    16    NaN   \n",
       "14             15  Pitching Wedge 2024-10-31 20:23:00   Dave    15    NaN   \n",
       "12             13  Pitching Wedge 2024-10-31 20:23:00   Dave    13    NaN   \n",
       "11             12  Pitching Wedge 2024-10-31 20:23:00   Dave    12    NaN   \n",
       "..            ...             ...                 ...    ...   ...    ...   \n",
       "690           691  Pitching Wedge 2024-12-23 16:01:00   Alex     2    NaN   \n",
       "691           692  Pitching Wedge 2024-12-23 16:01:00   Alex     3    NaN   \n",
       "693           694  Pitching Wedge 2024-12-23 16:01:00   Alex     5    NaN   \n",
       "674           675          8 Iron 2024-12-23 16:01:00   Alex    40    NaN   \n",
       "692           693  Pitching Wedge 2024-12-23 16:01:00   Alex     4    NaN   \n",
       "\n",
       "     Ball_mph  Club_mph  Smash_Factor  Carry_yds  ...  Unnamed_37  Unnamed_38  \\\n",
       "0        93.6      76.5          1.22      120.4  ...         NaN         NaN   \n",
       "15       89.0      67.8          1.31       97.0  ...         NaN         NaN   \n",
       "14       87.9      72.8          1.21      105.2  ...         NaN         NaN   \n",
       "12       92.3      77.8          1.19      117.1  ...         NaN         NaN   \n",
       "11       81.7      68.3          1.19       98.1  ...         NaN         NaN   \n",
       "..        ...       ...           ...        ...  ...         ...         ...   \n",
       "690      92.1      78.9          1.17      121.1  ...         NaN         NaN   \n",
       "691      96.2      77.3          1.24      127.7  ...         NaN         NaN   \n",
       "693      98.6      78.2          1.26      130.2  ...         NaN         NaN   \n",
       "674     118.1      86.9          1.36      172.0  ...         NaN         NaN   \n",
       "692     101.5      81.4          1.25      136.5  ...         NaN         NaN   \n",
       "\n",
       "     Unnamed_39  Unnamed_40  Comment  User1  User2  Exclude  \\\n",
       "0           NaN         NaN      NaN    NaN    NaN      NaN   \n",
       "15          NaN         NaN      NaN    NaN    NaN      NaN   \n",
       "14          NaN         NaN      NaN    NaN    NaN      NaN   \n",
       "12          NaN         NaN      NaN    NaN    NaN      NaN   \n",
       "11          NaN         NaN      NaN    NaN    NaN      NaN   \n",
       "..          ...         ...      ...    ...    ...      ...   \n",
       "690         NaN           -      NaN    NaN    NaN      NaN   \n",
       "691         NaN           -      NaN    NaN    NaN      NaN   \n",
       "693         NaN           -      NaN    NaN    NaN      NaN   \n",
       "674         NaN           -      NaN    NaN    NaN      NaN   \n",
       "692         NaN           -      NaN    NaN    NaN      NaN   \n",
       "\n",
       "                  Session          Session_dt  \n",
       "0    2024 Oct 31 08:23 PM 2024-10-31 20:23:00  \n",
       "15   2024 Oct 31 08:23 PM 2024-10-31 20:23:00  \n",
       "14   2024 Oct 31 08:23 PM 2024-10-31 20:23:00  \n",
       "12   2024 Oct 31 08:23 PM 2024-10-31 20:23:00  \n",
       "11   2024 Oct 31 08:23 PM 2024-10-31 20:23:00  \n",
       "..                    ...                 ...  \n",
       "690  2024 Dec 23 04:01 PM 2024-12-23 16:01:00  \n",
       "691  2024 Dec 23 04:01 PM 2024-12-23 16:01:00  \n",
       "693  2024 Dec 23 04:01 PM 2024-12-23 16:01:00  \n",
       "674  2024 Dec 23 04:01 PM 2024-12-23 16:01:00  \n",
       "692  2024 Dec 23 04:01 PM 2024-12-23 16:01:00  \n",
       "\n",
       "[784 rows x 47 columns]"
      ]
     },
     "execution_count": 115,
     "metadata": {},
     "output_type": "execute_result"
    }
   ],
   "source": [
    "df_stats"
   ]
  },
  {
   "cell_type": "code",
   "execution_count": 116,
   "metadata": {},
   "outputs": [],
   "source": [
    "metric = 'Carry_yds'\n",
    "golfer = 'Alex'\n",
    "session = '2024-12-23 16:01:00'\n",
    "\n",
    "def get_metric_data(df, metric, golfer, session):\n",
    "\n",
    "# Filter rows by golfer and session\n",
    "    filtered_df = df[(df['Golfer'] == golfer) & (df['Session'] == session)]\n",
    "    \n",
    "    # Return the values from the specified metric column\n",
    "    if metric in filtered_df.columns:\n",
    "        return filtered_df[metric]\n",
    "    else:\n",
    "        raise ValueError(f\"Metric '{metric}' not found in DataFrame columns.\")\n",
    "\n",
    "\n",
    "\n"
   ]
  },
  {
   "cell_type": "code",
   "execution_count": 117,
   "metadata": {},
   "outputs": [],
   "source": [
    "result_series = get_metric_data(df, 'Carry_yds', 'Dave', '2024 Nov 10 02:56 PM')"
   ]
  },
  {
   "cell_type": "code",
   "execution_count": 118,
   "metadata": {},
   "outputs": [
    {
     "data": {
      "text/plain": [
       "221    108.9\n",
       "222    112.1\n",
       "223    100.9\n",
       "224    105.3\n",
       "225     97.9\n",
       "226     65.7\n",
       "220    127.5\n",
       "219    124.0\n",
       "218    130.6\n",
       "217    142.3\n",
       "204     82.2\n",
       "205    112.3\n",
       "206    120.2\n",
       "207    108.6\n",
       "208    163.6\n",
       "209    121.6\n",
       "210     46.1\n",
       "211    113.6\n",
       "212    126.8\n",
       "213    100.5\n",
       "214    112.2\n",
       "215    125.6\n",
       "216    121.5\n",
       "Name: Carry_yds, dtype: float64"
      ]
     },
     "execution_count": 118,
     "metadata": {},
     "output_type": "execute_result"
    }
   ],
   "source": [
    "result_series"
   ]
  },
  {
   "cell_type": "code",
   "execution_count": 119,
   "metadata": {},
   "outputs": [
    {
     "data": {
      "text/plain": [
       "np.float64(103.1)"
      ]
     },
     "execution_count": 119,
     "metadata": {},
     "output_type": "execute_result"
    }
   ],
   "source": [
    "Q1 = result_series.quantile(0.25)\n",
    "Q1"
   ]
  },
  {
   "cell_type": "code",
   "execution_count": 120,
   "metadata": {},
   "outputs": [
    {
     "data": {
      "text/plain": [
       "np.float64(103.1)"
      ]
     },
     "execution_count": 120,
     "metadata": {},
     "output_type": "execute_result"
    }
   ],
   "source": [
    "Q1"
   ]
  },
  {
   "cell_type": "code",
   "execution_count": 121,
   "metadata": {},
   "outputs": [
    {
     "name": "stdout",
     "output_type": "stream",
     "text": [
      "Outlier values:\n",
      "226     65.7\n",
      "208    163.6\n",
      "210     46.1\n",
      "Name: Carry_yds, dtype: float64\n"
     ]
    }
   ],
   "source": [
    "def find_outliers_iqr(series):\n",
    "    \"\"\"\n",
    "    Returns a boolean mask indicating which values are outliers\n",
    "    according to the 1.5 * IQR rule.\n",
    "    \"\"\"\n",
    "    Q1 = series.quantile(0.25)\n",
    "    Q3 = series.quantile(0.75)\n",
    "    IQR = Q3 - Q1\n",
    "    lower_bound = Q1 - 1.5 * IQR\n",
    "    upper_bound = Q3 + 1.5 * IQR\n",
    "    \n",
    "    outlier_mask = (series < lower_bound) | (series > upper_bound)\n",
    "    return outlier_mask\n",
    "\n",
    "# Example usage\n",
    "outlier_mask = find_outliers_iqr(result_series)\n",
    "print(\"Outlier values:\")\n",
    "print(result_series[outlier_mask])"
   ]
  },
  {
   "cell_type": "code",
   "execution_count": 122,
   "metadata": {},
   "outputs": [
    {
     "name": "stderr",
     "output_type": "stream",
     "text": [
      "C:\\Users\\dmomb\\AppData\\Local\\Temp\\ipykernel_44396\\1965233637.py:43: DeprecationWarning:\n",
      "\n",
      "DataFrameGroupBy.apply operated on the grouping columns. This behavior is deprecated, and in a future version of pandas the grouping columns will be excluded from the operation. Either pass `include_groups=False` to exclude the groupings or explicitly select the grouping columns after groupby to silence this warning.\n",
      "\n"
     ]
    }
   ],
   "source": [
    "def remove_outliers_iqr(group, cols):\n",
    "    \"\"\"\n",
    "    Given a DataFrame 'group' (already filtered by a particular\n",
    "    Golfer, Session, Club), remove outliers in each column in 'cols'\n",
    "    using the 1.5*IQR rule.\n",
    "    Returns the group without outliers.\n",
    "    \"\"\"\n",
    "    for col in cols:\n",
    "        if col not in group.columns:\n",
    "            # skip if the col doesn't exist in group\n",
    "            continue\n",
    "\n",
    "        # Only consider valid (non-NaN) data\n",
    "        col_data = group[col].dropna()\n",
    "        if col_data.empty:\n",
    "            # no data for this group in this column\n",
    "            continue\n",
    "\n",
    "        Q1 = col_data.quantile(0.25)\n",
    "        Q3 = col_data.quantile(0.75)\n",
    "        IQR = Q3 - Q1\n",
    "\n",
    "        lower_bound = Q1 - 1.5 * IQR\n",
    "        upper_bound = Q3 + 1.5 * IQR\n",
    "\n",
    "        # Create a boolean mask for outliers\n",
    "        outlier_mask = (group[col] < lower_bound) | (group[col] > upper_bound)\n",
    "\n",
    "        # Remove outliers by setting them to NaN or dropping them\n",
    "        # Option A: If you want to *drop* rows with outliers:\n",
    "        group = group[~outlier_mask]\n",
    "\n",
    "        # Option B (Alternative):\n",
    "        # If you want to keep the row but set the value to NaN:\n",
    "        # group.loc[outlier_mask, col] = float('NaN')\n",
    "\n",
    "    return group\n",
    "\n",
    "# 2. Apply the function groupwise\n",
    "df_no_outliers = (\n",
    "    df\n",
    "    .groupby(['Golfer', 'Session', 'Club'], group_keys=False,observed=False)\n",
    "    .apply(lambda grp: remove_outliers_iqr(grp, num_columns))\n",
    ")"
   ]
  },
  {
   "cell_type": "code",
   "execution_count": 123,
   "metadata": {},
   "outputs": [
    {
     "data": {
      "text/plain": [
       "array(['Alex', 'Dave', 'Katy'], dtype=object)"
      ]
     },
     "execution_count": 123,
     "metadata": {},
     "output_type": "execute_result"
    }
   ],
   "source": [
    "df_no_outliers['Golfer'].unique()\n"
   ]
  },
  {
   "cell_type": "code",
   "execution_count": 124,
   "metadata": {},
   "outputs": [
    {
     "data": {
      "text/html": [
       "<div>\n",
       "<style scoped>\n",
       "    .dataframe tbody tr th:only-of-type {\n",
       "        vertical-align: middle;\n",
       "    }\n",
       "\n",
       "    .dataframe tbody tr th {\n",
       "        vertical-align: top;\n",
       "    }\n",
       "\n",
       "    .dataframe thead th {\n",
       "        text-align: right;\n",
       "    }\n",
       "</style>\n",
       "<table border=\"1\" class=\"dataframe\">\n",
       "  <thead>\n",
       "    <tr style=\"text-align: right;\">\n",
       "      <th></th>\n",
       "      <th>Mombo_ShotID</th>\n",
       "      <th>Club</th>\n",
       "      <th>Time</th>\n",
       "      <th>Golfer</th>\n",
       "      <th>Shot</th>\n",
       "      <th>Video</th>\n",
       "      <th>Ball_mph</th>\n",
       "      <th>Club_mph</th>\n",
       "      <th>Smash_Factor</th>\n",
       "      <th>Carry_yds</th>\n",
       "      <th>...</th>\n",
       "      <th>Unnamed_37</th>\n",
       "      <th>Unnamed_38</th>\n",
       "      <th>Unnamed_39</th>\n",
       "      <th>Unnamed_40</th>\n",
       "      <th>Comment</th>\n",
       "      <th>User1</th>\n",
       "      <th>User2</th>\n",
       "      <th>Exclude</th>\n",
       "      <th>Session</th>\n",
       "      <th>Session_dt</th>\n",
       "    </tr>\n",
       "  </thead>\n",
       "  <tbody>\n",
       "    <tr>\n",
       "      <th>56</th>\n",
       "      <td>57</td>\n",
       "      <td>7 Iron</td>\n",
       "      <td>2024-11-03 20:05:00</td>\n",
       "      <td>Alex</td>\n",
       "      <td>19</td>\n",
       "      <td>NaN</td>\n",
       "      <td>123.4</td>\n",
       "      <td>85.2</td>\n",
       "      <td>1.45</td>\n",
       "      <td>180.9</td>\n",
       "      <td>...</td>\n",
       "      <td>NaN</td>\n",
       "      <td>NaN</td>\n",
       "      <td>NaN</td>\n",
       "      <td>NaN</td>\n",
       "      <td>NaN</td>\n",
       "      <td>NaN</td>\n",
       "      <td>NaN</td>\n",
       "      <td>NaN</td>\n",
       "      <td>2024 Nov 03 08:05 PM</td>\n",
       "      <td>2024-11-03 20:05:00</td>\n",
       "    </tr>\n",
       "    <tr>\n",
       "      <th>68</th>\n",
       "      <td>69</td>\n",
       "      <td>7 Iron</td>\n",
       "      <td>2024-11-03 20:05:00</td>\n",
       "      <td>Alex</td>\n",
       "      <td>12</td>\n",
       "      <td>NaN</td>\n",
       "      <td>101.5</td>\n",
       "      <td>85.0</td>\n",
       "      <td>1.19</td>\n",
       "      <td>136.7</td>\n",
       "      <td>...</td>\n",
       "      <td>NaN</td>\n",
       "      <td>NaN</td>\n",
       "      <td>NaN</td>\n",
       "      <td>NaN</td>\n",
       "      <td>Alex?</td>\n",
       "      <td>NaN</td>\n",
       "      <td>NaN</td>\n",
       "      <td>x</td>\n",
       "      <td>2024 Nov 03 08:05 PM</td>\n",
       "      <td>2024-11-03 20:05:00</td>\n",
       "    </tr>\n",
       "    <tr>\n",
       "      <th>65</th>\n",
       "      <td>66</td>\n",
       "      <td>7 Iron</td>\n",
       "      <td>2024-11-03 20:05:00</td>\n",
       "      <td>Alex</td>\n",
       "      <td>9</td>\n",
       "      <td>NaN</td>\n",
       "      <td>96.1</td>\n",
       "      <td>85.3</td>\n",
       "      <td>1.13</td>\n",
       "      <td>116.6</td>\n",
       "      <td>...</td>\n",
       "      <td>NaN</td>\n",
       "      <td>NaN</td>\n",
       "      <td>NaN</td>\n",
       "      <td>NaN</td>\n",
       "      <td>NaN</td>\n",
       "      <td>NaN</td>\n",
       "      <td>NaN</td>\n",
       "      <td>NaN</td>\n",
       "      <td>2024 Nov 03 08:05 PM</td>\n",
       "      <td>2024-11-03 20:05:00</td>\n",
       "    </tr>\n",
       "    <tr>\n",
       "      <th>66</th>\n",
       "      <td>67</td>\n",
       "      <td>7 Iron</td>\n",
       "      <td>2024-11-03 20:05:00</td>\n",
       "      <td>Alex</td>\n",
       "      <td>10</td>\n",
       "      <td>NaN</td>\n",
       "      <td>117.4</td>\n",
       "      <td>85.9</td>\n",
       "      <td>1.37</td>\n",
       "      <td>167.0</td>\n",
       "      <td>...</td>\n",
       "      <td>NaN</td>\n",
       "      <td>NaN</td>\n",
       "      <td>NaN</td>\n",
       "      <td>NaN</td>\n",
       "      <td>NaN</td>\n",
       "      <td>NaN</td>\n",
       "      <td>NaN</td>\n",
       "      <td>NaN</td>\n",
       "      <td>2024 Nov 03 08:05 PM</td>\n",
       "      <td>2024-11-03 20:05:00</td>\n",
       "    </tr>\n",
       "    <tr>\n",
       "      <th>55</th>\n",
       "      <td>56</td>\n",
       "      <td>7 Iron</td>\n",
       "      <td>2024-11-03 20:05:00</td>\n",
       "      <td>Alex</td>\n",
       "      <td>18</td>\n",
       "      <td>NaN</td>\n",
       "      <td>107.1</td>\n",
       "      <td>85.4</td>\n",
       "      <td>1.25</td>\n",
       "      <td>147.5</td>\n",
       "      <td>...</td>\n",
       "      <td>NaN</td>\n",
       "      <td>NaN</td>\n",
       "      <td>NaN</td>\n",
       "      <td>NaN</td>\n",
       "      <td>NaN</td>\n",
       "      <td>NaN</td>\n",
       "      <td>NaN</td>\n",
       "      <td>NaN</td>\n",
       "      <td>2024 Nov 03 08:05 PM</td>\n",
       "      <td>2024-11-03 20:05:00</td>\n",
       "    </tr>\n",
       "    <tr>\n",
       "      <th>...</th>\n",
       "      <td>...</td>\n",
       "      <td>...</td>\n",
       "      <td>...</td>\n",
       "      <td>...</td>\n",
       "      <td>...</td>\n",
       "      <td>...</td>\n",
       "      <td>...</td>\n",
       "      <td>...</td>\n",
       "      <td>...</td>\n",
       "      <td>...</td>\n",
       "      <td>...</td>\n",
       "      <td>...</td>\n",
       "      <td>...</td>\n",
       "      <td>...</td>\n",
       "      <td>...</td>\n",
       "      <td>...</td>\n",
       "      <td>...</td>\n",
       "      <td>...</td>\n",
       "      <td>...</td>\n",
       "      <td>...</td>\n",
       "      <td>...</td>\n",
       "    </tr>\n",
       "    <tr>\n",
       "      <th>61</th>\n",
       "      <td>62</td>\n",
       "      <td>7 Iron</td>\n",
       "      <td>2024-11-03 20:05:00</td>\n",
       "      <td>Katy</td>\n",
       "      <td>5</td>\n",
       "      <td>NaN</td>\n",
       "      <td>91.4</td>\n",
       "      <td>78.9</td>\n",
       "      <td>1.16</td>\n",
       "      <td>120.1</td>\n",
       "      <td>...</td>\n",
       "      <td>NaN</td>\n",
       "      <td>NaN</td>\n",
       "      <td>NaN</td>\n",
       "      <td>NaN</td>\n",
       "      <td>NaN</td>\n",
       "      <td>NaN</td>\n",
       "      <td>NaN</td>\n",
       "      <td>NaN</td>\n",
       "      <td>2024 Nov 03 08:05 PM</td>\n",
       "      <td>2024-11-03 20:05:00</td>\n",
       "    </tr>\n",
       "    <tr>\n",
       "      <th>57</th>\n",
       "      <td>58</td>\n",
       "      <td>7 Iron</td>\n",
       "      <td>2024-11-03 20:05:00</td>\n",
       "      <td>Katy</td>\n",
       "      <td>1</td>\n",
       "      <td>NaN</td>\n",
       "      <td>54.1</td>\n",
       "      <td>44.7</td>\n",
       "      <td>1.21</td>\n",
       "      <td>42.2</td>\n",
       "      <td>...</td>\n",
       "      <td>NaN</td>\n",
       "      <td>NaN</td>\n",
       "      <td>NaN</td>\n",
       "      <td>NaN</td>\n",
       "      <td>NaN</td>\n",
       "      <td>NaN</td>\n",
       "      <td>NaN</td>\n",
       "      <td>NaN</td>\n",
       "      <td>2024 Nov 03 08:05 PM</td>\n",
       "      <td>2024-11-03 20:05:00</td>\n",
       "    </tr>\n",
       "    <tr>\n",
       "      <th>201</th>\n",
       "      <td>202</td>\n",
       "      <td>9 Iron</td>\n",
       "      <td>2024-11-10 14:56:00</td>\n",
       "      <td>Katy</td>\n",
       "      <td>4</td>\n",
       "      <td>NaN</td>\n",
       "      <td>63.8</td>\n",
       "      <td>54.9</td>\n",
       "      <td>1.16</td>\n",
       "      <td>67.5</td>\n",
       "      <td>...</td>\n",
       "      <td>NaN</td>\n",
       "      <td>NaN</td>\n",
       "      <td>NaN</td>\n",
       "      <td>NaN</td>\n",
       "      <td>NaN</td>\n",
       "      <td>NaN</td>\n",
       "      <td>NaN</td>\n",
       "      <td>NaN</td>\n",
       "      <td>2024 Nov 10 02:56 PM</td>\n",
       "      <td>2024-11-10 14:56:00</td>\n",
       "    </tr>\n",
       "    <tr>\n",
       "      <th>202</th>\n",
       "      <td>203</td>\n",
       "      <td>9 Iron</td>\n",
       "      <td>2024-11-10 14:56:00</td>\n",
       "      <td>Katy</td>\n",
       "      <td>5</td>\n",
       "      <td>NaN</td>\n",
       "      <td>61.6</td>\n",
       "      <td>53.6</td>\n",
       "      <td>1.15</td>\n",
       "      <td>61.2</td>\n",
       "      <td>...</td>\n",
       "      <td>NaN</td>\n",
       "      <td>NaN</td>\n",
       "      <td>NaN</td>\n",
       "      <td>NaN</td>\n",
       "      <td>NaN</td>\n",
       "      <td>NaN</td>\n",
       "      <td>NaN</td>\n",
       "      <td>NaN</td>\n",
       "      <td>2024 Nov 10 02:56 PM</td>\n",
       "      <td>2024-11-10 14:56:00</td>\n",
       "    </tr>\n",
       "    <tr>\n",
       "      <th>203</th>\n",
       "      <td>204</td>\n",
       "      <td>9 Iron</td>\n",
       "      <td>2024-11-10 14:56:00</td>\n",
       "      <td>Katy</td>\n",
       "      <td>6</td>\n",
       "      <td>NaN</td>\n",
       "      <td>64.3</td>\n",
       "      <td>55.7</td>\n",
       "      <td>1.15</td>\n",
       "      <td>68.6</td>\n",
       "      <td>...</td>\n",
       "      <td>NaN</td>\n",
       "      <td>NaN</td>\n",
       "      <td>NaN</td>\n",
       "      <td>NaN</td>\n",
       "      <td>NaN</td>\n",
       "      <td>NaN</td>\n",
       "      <td>NaN</td>\n",
       "      <td>NaN</td>\n",
       "      <td>2024 Nov 10 02:56 PM</td>\n",
       "      <td>2024-11-10 14:56:00</td>\n",
       "    </tr>\n",
       "  </tbody>\n",
       "</table>\n",
       "<p>447 rows × 47 columns</p>\n",
       "</div>"
      ],
      "text/plain": [
       "     Mombo_ShotID    Club                Time Golfer  Shot  Video  Ball_mph  \\\n",
       "56             57  7 Iron 2024-11-03 20:05:00   Alex    19    NaN     123.4   \n",
       "68             69  7 Iron 2024-11-03 20:05:00   Alex    12    NaN     101.5   \n",
       "65             66  7 Iron 2024-11-03 20:05:00   Alex     9    NaN      96.1   \n",
       "66             67  7 Iron 2024-11-03 20:05:00   Alex    10    NaN     117.4   \n",
       "55             56  7 Iron 2024-11-03 20:05:00   Alex    18    NaN     107.1   \n",
       "..            ...     ...                 ...    ...   ...    ...       ...   \n",
       "61             62  7 Iron 2024-11-03 20:05:00   Katy     5    NaN      91.4   \n",
       "57             58  7 Iron 2024-11-03 20:05:00   Katy     1    NaN      54.1   \n",
       "201           202  9 Iron 2024-11-10 14:56:00   Katy     4    NaN      63.8   \n",
       "202           203  9 Iron 2024-11-10 14:56:00   Katy     5    NaN      61.6   \n",
       "203           204  9 Iron 2024-11-10 14:56:00   Katy     6    NaN      64.3   \n",
       "\n",
       "     Club_mph  Smash_Factor  Carry_yds  ...  Unnamed_37  Unnamed_38  \\\n",
       "56       85.2          1.45      180.9  ...         NaN         NaN   \n",
       "68       85.0          1.19      136.7  ...         NaN         NaN   \n",
       "65       85.3          1.13      116.6  ...         NaN         NaN   \n",
       "66       85.9          1.37      167.0  ...         NaN         NaN   \n",
       "55       85.4          1.25      147.5  ...         NaN         NaN   \n",
       "..        ...           ...        ...  ...         ...         ...   \n",
       "61       78.9          1.16      120.1  ...         NaN         NaN   \n",
       "57       44.7          1.21       42.2  ...         NaN         NaN   \n",
       "201      54.9          1.16       67.5  ...         NaN         NaN   \n",
       "202      53.6          1.15       61.2  ...         NaN         NaN   \n",
       "203      55.7          1.15       68.6  ...         NaN         NaN   \n",
       "\n",
       "     Unnamed_39  Unnamed_40  Comment  User1  User2  Exclude  \\\n",
       "56          NaN         NaN      NaN    NaN    NaN      NaN   \n",
       "68          NaN         NaN    Alex?    NaN    NaN        x   \n",
       "65          NaN         NaN      NaN    NaN    NaN      NaN   \n",
       "66          NaN         NaN      NaN    NaN    NaN      NaN   \n",
       "55          NaN         NaN      NaN    NaN    NaN      NaN   \n",
       "..          ...         ...      ...    ...    ...      ...   \n",
       "61          NaN         NaN      NaN    NaN    NaN      NaN   \n",
       "57          NaN         NaN      NaN    NaN    NaN      NaN   \n",
       "201         NaN         NaN      NaN    NaN    NaN      NaN   \n",
       "202         NaN         NaN      NaN    NaN    NaN      NaN   \n",
       "203         NaN         NaN      NaN    NaN    NaN      NaN   \n",
       "\n",
       "                  Session          Session_dt  \n",
       "56   2024 Nov 03 08:05 PM 2024-11-03 20:05:00  \n",
       "68   2024 Nov 03 08:05 PM 2024-11-03 20:05:00  \n",
       "65   2024 Nov 03 08:05 PM 2024-11-03 20:05:00  \n",
       "66   2024 Nov 03 08:05 PM 2024-11-03 20:05:00  \n",
       "55   2024 Nov 03 08:05 PM 2024-11-03 20:05:00  \n",
       "..                    ...                 ...  \n",
       "61   2024 Nov 03 08:05 PM 2024-11-03 20:05:00  \n",
       "57   2024 Nov 03 08:05 PM 2024-11-03 20:05:00  \n",
       "201  2024 Nov 10 02:56 PM 2024-11-10 14:56:00  \n",
       "202  2024 Nov 10 02:56 PM 2024-11-10 14:56:00  \n",
       "203  2024 Nov 10 02:56 PM 2024-11-10 14:56:00  \n",
       "\n",
       "[447 rows x 47 columns]"
      ]
     },
     "execution_count": 124,
     "metadata": {},
     "output_type": "execute_result"
    }
   ],
   "source": [
    "df_no_outliers"
   ]
  },
  {
   "cell_type": "code",
   "execution_count": 125,
   "metadata": {},
   "outputs": [
    {
     "data": {
      "text/html": [
       "<div>\n",
       "<style scoped>\n",
       "    .dataframe tbody tr th:only-of-type {\n",
       "        vertical-align: middle;\n",
       "    }\n",
       "\n",
       "    .dataframe tbody tr th {\n",
       "        vertical-align: top;\n",
       "    }\n",
       "\n",
       "    .dataframe thead th {\n",
       "        text-align: right;\n",
       "    }\n",
       "</style>\n",
       "<table border=\"1\" class=\"dataframe\">\n",
       "  <thead>\n",
       "    <tr style=\"text-align: right;\">\n",
       "      <th></th>\n",
       "      <th>Mombo_ShotID</th>\n",
       "      <th>Club</th>\n",
       "      <th>Time</th>\n",
       "      <th>Golfer</th>\n",
       "      <th>Shot</th>\n",
       "      <th>Video</th>\n",
       "      <th>Ball_mph</th>\n",
       "      <th>Club_mph</th>\n",
       "      <th>Smash_Factor</th>\n",
       "      <th>Carry_yds</th>\n",
       "      <th>...</th>\n",
       "      <th>Unnamed_37</th>\n",
       "      <th>Unnamed_38</th>\n",
       "      <th>Unnamed_39</th>\n",
       "      <th>Unnamed_40</th>\n",
       "      <th>Comment</th>\n",
       "      <th>User1</th>\n",
       "      <th>User2</th>\n",
       "      <th>Exclude</th>\n",
       "      <th>Session</th>\n",
       "      <th>Session_dt</th>\n",
       "    </tr>\n",
       "  </thead>\n",
       "  <tbody>\n",
       "    <tr>\n",
       "      <th>0</th>\n",
       "      <td>1</td>\n",
       "      <td>Pitching Wedge</td>\n",
       "      <td>2024-10-31 20:23:00</td>\n",
       "      <td>Dave</td>\n",
       "      <td>1</td>\n",
       "      <td>NaN</td>\n",
       "      <td>93.6</td>\n",
       "      <td>76.5</td>\n",
       "      <td>1.22</td>\n",
       "      <td>120.4</td>\n",
       "      <td>...</td>\n",
       "      <td>NaN</td>\n",
       "      <td>NaN</td>\n",
       "      <td>NaN</td>\n",
       "      <td>NaN</td>\n",
       "      <td>NaN</td>\n",
       "      <td>NaN</td>\n",
       "      <td>NaN</td>\n",
       "      <td>NaN</td>\n",
       "      <td>2024 Oct 31 08:23 PM</td>\n",
       "      <td>2024-10-31 20:23:00</td>\n",
       "    </tr>\n",
       "    <tr>\n",
       "      <th>15</th>\n",
       "      <td>16</td>\n",
       "      <td>Pitching Wedge</td>\n",
       "      <td>2024-10-31 20:23:00</td>\n",
       "      <td>Dave</td>\n",
       "      <td>16</td>\n",
       "      <td>NaN</td>\n",
       "      <td>89.0</td>\n",
       "      <td>67.8</td>\n",
       "      <td>1.31</td>\n",
       "      <td>97.0</td>\n",
       "      <td>...</td>\n",
       "      <td>NaN</td>\n",
       "      <td>NaN</td>\n",
       "      <td>NaN</td>\n",
       "      <td>NaN</td>\n",
       "      <td>NaN</td>\n",
       "      <td>NaN</td>\n",
       "      <td>NaN</td>\n",
       "      <td>NaN</td>\n",
       "      <td>2024 Oct 31 08:23 PM</td>\n",
       "      <td>2024-10-31 20:23:00</td>\n",
       "    </tr>\n",
       "    <tr>\n",
       "      <th>14</th>\n",
       "      <td>15</td>\n",
       "      <td>Pitching Wedge</td>\n",
       "      <td>2024-10-31 20:23:00</td>\n",
       "      <td>Dave</td>\n",
       "      <td>15</td>\n",
       "      <td>NaN</td>\n",
       "      <td>87.9</td>\n",
       "      <td>72.8</td>\n",
       "      <td>1.21</td>\n",
       "      <td>105.2</td>\n",
       "      <td>...</td>\n",
       "      <td>NaN</td>\n",
       "      <td>NaN</td>\n",
       "      <td>NaN</td>\n",
       "      <td>NaN</td>\n",
       "      <td>NaN</td>\n",
       "      <td>NaN</td>\n",
       "      <td>NaN</td>\n",
       "      <td>NaN</td>\n",
       "      <td>2024 Oct 31 08:23 PM</td>\n",
       "      <td>2024-10-31 20:23:00</td>\n",
       "    </tr>\n",
       "    <tr>\n",
       "      <th>12</th>\n",
       "      <td>13</td>\n",
       "      <td>Pitching Wedge</td>\n",
       "      <td>2024-10-31 20:23:00</td>\n",
       "      <td>Dave</td>\n",
       "      <td>13</td>\n",
       "      <td>NaN</td>\n",
       "      <td>92.3</td>\n",
       "      <td>77.8</td>\n",
       "      <td>1.19</td>\n",
       "      <td>117.1</td>\n",
       "      <td>...</td>\n",
       "      <td>NaN</td>\n",
       "      <td>NaN</td>\n",
       "      <td>NaN</td>\n",
       "      <td>NaN</td>\n",
       "      <td>NaN</td>\n",
       "      <td>NaN</td>\n",
       "      <td>NaN</td>\n",
       "      <td>NaN</td>\n",
       "      <td>2024 Oct 31 08:23 PM</td>\n",
       "      <td>2024-10-31 20:23:00</td>\n",
       "    </tr>\n",
       "    <tr>\n",
       "      <th>11</th>\n",
       "      <td>12</td>\n",
       "      <td>Pitching Wedge</td>\n",
       "      <td>2024-10-31 20:23:00</td>\n",
       "      <td>Dave</td>\n",
       "      <td>12</td>\n",
       "      <td>NaN</td>\n",
       "      <td>81.7</td>\n",
       "      <td>68.3</td>\n",
       "      <td>1.19</td>\n",
       "      <td>98.1</td>\n",
       "      <td>...</td>\n",
       "      <td>NaN</td>\n",
       "      <td>NaN</td>\n",
       "      <td>NaN</td>\n",
       "      <td>NaN</td>\n",
       "      <td>NaN</td>\n",
       "      <td>NaN</td>\n",
       "      <td>NaN</td>\n",
       "      <td>NaN</td>\n",
       "      <td>2024 Oct 31 08:23 PM</td>\n",
       "      <td>2024-10-31 20:23:00</td>\n",
       "    </tr>\n",
       "    <tr>\n",
       "      <th>...</th>\n",
       "      <td>...</td>\n",
       "      <td>...</td>\n",
       "      <td>...</td>\n",
       "      <td>...</td>\n",
       "      <td>...</td>\n",
       "      <td>...</td>\n",
       "      <td>...</td>\n",
       "      <td>...</td>\n",
       "      <td>...</td>\n",
       "      <td>...</td>\n",
       "      <td>...</td>\n",
       "      <td>...</td>\n",
       "      <td>...</td>\n",
       "      <td>...</td>\n",
       "      <td>...</td>\n",
       "      <td>...</td>\n",
       "      <td>...</td>\n",
       "      <td>...</td>\n",
       "      <td>...</td>\n",
       "      <td>...</td>\n",
       "      <td>...</td>\n",
       "    </tr>\n",
       "    <tr>\n",
       "      <th>690</th>\n",
       "      <td>691</td>\n",
       "      <td>Pitching Wedge</td>\n",
       "      <td>2024-12-23 16:01:00</td>\n",
       "      <td>Alex</td>\n",
       "      <td>2</td>\n",
       "      <td>NaN</td>\n",
       "      <td>92.1</td>\n",
       "      <td>78.9</td>\n",
       "      <td>1.17</td>\n",
       "      <td>121.1</td>\n",
       "      <td>...</td>\n",
       "      <td>NaN</td>\n",
       "      <td>NaN</td>\n",
       "      <td>NaN</td>\n",
       "      <td>-</td>\n",
       "      <td>NaN</td>\n",
       "      <td>NaN</td>\n",
       "      <td>NaN</td>\n",
       "      <td>NaN</td>\n",
       "      <td>2024 Dec 23 04:01 PM</td>\n",
       "      <td>2024-12-23 16:01:00</td>\n",
       "    </tr>\n",
       "    <tr>\n",
       "      <th>691</th>\n",
       "      <td>692</td>\n",
       "      <td>Pitching Wedge</td>\n",
       "      <td>2024-12-23 16:01:00</td>\n",
       "      <td>Alex</td>\n",
       "      <td>3</td>\n",
       "      <td>NaN</td>\n",
       "      <td>96.2</td>\n",
       "      <td>77.3</td>\n",
       "      <td>1.24</td>\n",
       "      <td>127.7</td>\n",
       "      <td>...</td>\n",
       "      <td>NaN</td>\n",
       "      <td>NaN</td>\n",
       "      <td>NaN</td>\n",
       "      <td>-</td>\n",
       "      <td>NaN</td>\n",
       "      <td>NaN</td>\n",
       "      <td>NaN</td>\n",
       "      <td>NaN</td>\n",
       "      <td>2024 Dec 23 04:01 PM</td>\n",
       "      <td>2024-12-23 16:01:00</td>\n",
       "    </tr>\n",
       "    <tr>\n",
       "      <th>693</th>\n",
       "      <td>694</td>\n",
       "      <td>Pitching Wedge</td>\n",
       "      <td>2024-12-23 16:01:00</td>\n",
       "      <td>Alex</td>\n",
       "      <td>5</td>\n",
       "      <td>NaN</td>\n",
       "      <td>98.6</td>\n",
       "      <td>78.2</td>\n",
       "      <td>1.26</td>\n",
       "      <td>130.2</td>\n",
       "      <td>...</td>\n",
       "      <td>NaN</td>\n",
       "      <td>NaN</td>\n",
       "      <td>NaN</td>\n",
       "      <td>-</td>\n",
       "      <td>NaN</td>\n",
       "      <td>NaN</td>\n",
       "      <td>NaN</td>\n",
       "      <td>NaN</td>\n",
       "      <td>2024 Dec 23 04:01 PM</td>\n",
       "      <td>2024-12-23 16:01:00</td>\n",
       "    </tr>\n",
       "    <tr>\n",
       "      <th>674</th>\n",
       "      <td>675</td>\n",
       "      <td>8 Iron</td>\n",
       "      <td>2024-12-23 16:01:00</td>\n",
       "      <td>Alex</td>\n",
       "      <td>40</td>\n",
       "      <td>NaN</td>\n",
       "      <td>118.1</td>\n",
       "      <td>86.9</td>\n",
       "      <td>1.36</td>\n",
       "      <td>172.0</td>\n",
       "      <td>...</td>\n",
       "      <td>NaN</td>\n",
       "      <td>NaN</td>\n",
       "      <td>NaN</td>\n",
       "      <td>-</td>\n",
       "      <td>NaN</td>\n",
       "      <td>NaN</td>\n",
       "      <td>NaN</td>\n",
       "      <td>NaN</td>\n",
       "      <td>2024 Dec 23 04:01 PM</td>\n",
       "      <td>2024-12-23 16:01:00</td>\n",
       "    </tr>\n",
       "    <tr>\n",
       "      <th>692</th>\n",
       "      <td>693</td>\n",
       "      <td>Pitching Wedge</td>\n",
       "      <td>2024-12-23 16:01:00</td>\n",
       "      <td>Alex</td>\n",
       "      <td>4</td>\n",
       "      <td>NaN</td>\n",
       "      <td>101.5</td>\n",
       "      <td>81.4</td>\n",
       "      <td>1.25</td>\n",
       "      <td>136.5</td>\n",
       "      <td>...</td>\n",
       "      <td>NaN</td>\n",
       "      <td>NaN</td>\n",
       "      <td>NaN</td>\n",
       "      <td>-</td>\n",
       "      <td>NaN</td>\n",
       "      <td>NaN</td>\n",
       "      <td>NaN</td>\n",
       "      <td>NaN</td>\n",
       "      <td>2024 Dec 23 04:01 PM</td>\n",
       "      <td>2024-12-23 16:01:00</td>\n",
       "    </tr>\n",
       "  </tbody>\n",
       "</table>\n",
       "<p>799 rows × 47 columns</p>\n",
       "</div>"
      ],
      "text/plain": [
       "     Mombo_ShotID            Club                Time Golfer  Shot  Video  \\\n",
       "0               1  Pitching Wedge 2024-10-31 20:23:00   Dave     1    NaN   \n",
       "15             16  Pitching Wedge 2024-10-31 20:23:00   Dave    16    NaN   \n",
       "14             15  Pitching Wedge 2024-10-31 20:23:00   Dave    15    NaN   \n",
       "12             13  Pitching Wedge 2024-10-31 20:23:00   Dave    13    NaN   \n",
       "11             12  Pitching Wedge 2024-10-31 20:23:00   Dave    12    NaN   \n",
       "..            ...             ...                 ...    ...   ...    ...   \n",
       "690           691  Pitching Wedge 2024-12-23 16:01:00   Alex     2    NaN   \n",
       "691           692  Pitching Wedge 2024-12-23 16:01:00   Alex     3    NaN   \n",
       "693           694  Pitching Wedge 2024-12-23 16:01:00   Alex     5    NaN   \n",
       "674           675          8 Iron 2024-12-23 16:01:00   Alex    40    NaN   \n",
       "692           693  Pitching Wedge 2024-12-23 16:01:00   Alex     4    NaN   \n",
       "\n",
       "     Ball_mph  Club_mph  Smash_Factor  Carry_yds  ...  Unnamed_37  Unnamed_38  \\\n",
       "0        93.6      76.5          1.22      120.4  ...         NaN         NaN   \n",
       "15       89.0      67.8          1.31       97.0  ...         NaN         NaN   \n",
       "14       87.9      72.8          1.21      105.2  ...         NaN         NaN   \n",
       "12       92.3      77.8          1.19      117.1  ...         NaN         NaN   \n",
       "11       81.7      68.3          1.19       98.1  ...         NaN         NaN   \n",
       "..        ...       ...           ...        ...  ...         ...         ...   \n",
       "690      92.1      78.9          1.17      121.1  ...         NaN         NaN   \n",
       "691      96.2      77.3          1.24      127.7  ...         NaN         NaN   \n",
       "693      98.6      78.2          1.26      130.2  ...         NaN         NaN   \n",
       "674     118.1      86.9          1.36      172.0  ...         NaN         NaN   \n",
       "692     101.5      81.4          1.25      136.5  ...         NaN         NaN   \n",
       "\n",
       "     Unnamed_39  Unnamed_40  Comment  User1  User2  Exclude  \\\n",
       "0           NaN         NaN      NaN    NaN    NaN      NaN   \n",
       "15          NaN         NaN      NaN    NaN    NaN      NaN   \n",
       "14          NaN         NaN      NaN    NaN    NaN      NaN   \n",
       "12          NaN         NaN      NaN    NaN    NaN      NaN   \n",
       "11          NaN         NaN      NaN    NaN    NaN      NaN   \n",
       "..          ...         ...      ...    ...    ...      ...   \n",
       "690         NaN           -      NaN    NaN    NaN      NaN   \n",
       "691         NaN           -      NaN    NaN    NaN      NaN   \n",
       "693         NaN           -      NaN    NaN    NaN      NaN   \n",
       "674         NaN           -      NaN    NaN    NaN      NaN   \n",
       "692         NaN           -      NaN    NaN    NaN      NaN   \n",
       "\n",
       "                  Session          Session_dt  \n",
       "0    2024 Oct 31 08:23 PM 2024-10-31 20:23:00  \n",
       "15   2024 Oct 31 08:23 PM 2024-10-31 20:23:00  \n",
       "14   2024 Oct 31 08:23 PM 2024-10-31 20:23:00  \n",
       "12   2024 Oct 31 08:23 PM 2024-10-31 20:23:00  \n",
       "11   2024 Oct 31 08:23 PM 2024-10-31 20:23:00  \n",
       "..                    ...                 ...  \n",
       "690  2024 Dec 23 04:01 PM 2024-12-23 16:01:00  \n",
       "691  2024 Dec 23 04:01 PM 2024-12-23 16:01:00  \n",
       "693  2024 Dec 23 04:01 PM 2024-12-23 16:01:00  \n",
       "674  2024 Dec 23 04:01 PM 2024-12-23 16:01:00  \n",
       "692  2024 Dec 23 04:01 PM 2024-12-23 16:01:00  \n",
       "\n",
       "[799 rows x 47 columns]"
      ]
     },
     "execution_count": 125,
     "metadata": {},
     "output_type": "execute_result"
    }
   ],
   "source": [
    "df"
   ]
  },
  {
   "cell_type": "code",
   "execution_count": null,
   "metadata": {},
   "outputs": [],
   "source": []
  }
 ],
 "metadata": {
  "kernelspec": {
   "display_name": "golfenv",
   "language": "python",
   "name": "python3"
  },
  "language_info": {
   "codemirror_mode": {
    "name": "ipython",
    "version": 3
   },
   "file_extension": ".py",
   "mimetype": "text/x-python",
   "name": "python",
   "nbconvert_exporter": "python",
   "pygments_lexer": "ipython3",
   "version": "3.13.1"
  }
 },
 "nbformat": 4,
 "nbformat_minor": 2
}
